{
  "cells": [
    {
      "cell_type": "markdown",
      "metadata": {
        "id": "view-in-github",
        "colab_type": "text"
      },
      "source": [
        "<a href=\"https://colab.research.google.com/github/tomaszwk/NLP/blob/main/Desafio2.ipynb\" target=\"_parent\"><img src=\"https://colab.research.google.com/assets/colab-badge.svg\" alt=\"Open In Colab\"/></a>"
      ]
    },
    {
      "cell_type": "markdown",
      "metadata": {
        "id": "sZd5yLnnHOK0"
      },
      "source": [
        "<img src=\"https://github.com/hernancontigiani/ceia_memorias_especializacion/raw/master/Figures/logoFIUBA.jpg\" width=\"500\" align=\"center\">\n",
        "\n",
        "\n",
        "# Procesamiento de lenguaje natural\n",
        "## Custom embedddings con Gensim\n",
        "\n"
      ]
    },
    {
      "cell_type": "markdown",
      "metadata": {
        "id": "vA7nqkumo9z9"
      },
      "source": [
        "### Objetivo\n",
        "El objetivo es utilizar documentos / corpus para crear embeddings de palabras basado en ese contexto. Se utilizará canciones de bandas para generar los embeddings, es decir, que los vectores tendrán la forma en función de como esa banda haya utilizado las palabras en sus canciones."
      ]
    },
    {
      "cell_type": "code",
      "execution_count": 1,
      "metadata": {
        "id": "lFToQs5FK5uZ"
      },
      "outputs": [],
      "source": [
        "import pandas as pd\n",
        "import matplotlib.pyplot as plt\n",
        "import seaborn as sns\n",
        "\n",
        "import multiprocessing\n",
        "from gensim.models import Word2Vec"
      ]
    },
    {
      "cell_type": "markdown",
      "metadata": {
        "id": "g07zJxG7H9vG"
      },
      "source": [
        "### Datos\n",
        "Utilizaremos como dataset canciones de bandas de habla inglesa."
      ]
    },
    {
      "cell_type": "code",
      "execution_count": 2,
      "metadata": {
        "id": "l7z4CSBfpR3X",
        "colab": {
          "base_uri": "https://localhost:8080/"
        },
        "outputId": "c771fe49-6069-45e8-e290-cab100819808"
      },
      "outputs": [
        {
          "output_type": "stream",
          "name": "stdout",
          "text": [
            "El dataset ya se encuentra descargado\n"
          ]
        }
      ],
      "source": [
        "# Descargar la carpeta de dataset\n",
        "import os\n",
        "import platform\n",
        "if os.access('./songs_dataset', os.F_OK) is False:\n",
        "    if os.access('songs_dataset.zip', os.F_OK) is False:\n",
        "        if platform.system() == 'Windows':\n",
        "            !curl https://raw.githubusercontent.com/FIUBA-Posgrado-Inteligencia-Artificial/procesamiento_lenguaje_natural/main/datasets/songs_dataset.zip -o songs_dataset.zip\n",
        "        else:\n",
        "            !wget songs_dataset.zip https://github.com/FIUBA-Posgrado-Inteligencia-Artificial/procesamiento_lenguaje_natural/raw/main/datasets/songs_dataset.zip\n",
        "    !unzip -q songs_dataset.zip\n",
        "else:\n",
        "    print(\"El dataset ya se encuentra descargado\")"
      ]
    },
    {
      "cell_type": "code",
      "source": [
        "import os\n",
        "import requests\n",
        "\n",
        "# URL del libro en formato txt desde el Proyecto Gutenberg\n",
        "url = 'https://www.gutenberg.org/files/2701/2701-0.txt'  # Ejemplo con \"Moby Dick\" de Herman Melville\n",
        "\n",
        "# Nombre del archivo donde se guardará el libro\n",
        "filename = 'moby_dick.txt'\n",
        "\n",
        "# Verificar si el archivo ya existe\n",
        "if not os.path.exists(filename):\n",
        "    print(\"Descargando el libro desde el Proyecto Gutenberg...\")\n",
        "    response = requests.get(url)\n",
        "\n",
        "    if response.status_code == 200:\n",
        "        with open(filename, 'wb') as file:\n",
        "            file.write(response.content)\n",
        "        print(f'El libro se ha descargado y guardado como {filename}')\n",
        "    else:\n",
        "        print(\"Hubo un problema al descargar el libro.\")\n",
        "else:\n",
        "    print(f\"El archivo '{filename}' ya existe.\")\n",
        "\n"
      ],
      "metadata": {
        "colab": {
          "base_uri": "https://localhost:8080/"
        },
        "id": "_iCQ3CaFHwP9",
        "outputId": "25632560-7c5c-49a9-a9cb-7c12df06dd85"
      },
      "execution_count": 30,
      "outputs": [
        {
          "output_type": "stream",
          "name": "stdout",
          "text": [
            "Descargando el libro desde el Proyecto Gutenberg...\n",
            "El libro se ha descargado y guardado como moby_dick.txt\n"
          ]
        }
      ]
    },
    {
      "cell_type": "code",
      "execution_count": 3,
      "metadata": {
        "id": "mysGrIw9ljC2",
        "colab": {
          "base_uri": "https://localhost:8080/"
        },
        "outputId": "dc458cb0-bf25-4d37-8093-30822bc8c797"
      },
      "outputs": [
        {
          "output_type": "execute_result",
          "data": {
            "text/plain": [
              "['blink-182.txt',\n",
              " 'paul-simon.txt',\n",
              " 'patti-smith.txt',\n",
              " 'dr-seuss.txt',\n",
              " 'johnny-cash.txt',\n",
              " 'lil-wayne.txt',\n",
              " 'michael-jackson.txt',\n",
              " 'bob-marley.txt',\n",
              " 'al-green.txt',\n",
              " 'nirvana.txt',\n",
              " 'adele.txt',\n",
              " 'dickinson.txt',\n",
              " 'prince.txt',\n",
              " 'nursery_rhymes.txt',\n",
              " 'beatles.txt',\n",
              " 'notorious-big.txt',\n",
              " 'missy-elliott.txt',\n",
              " 'cake.txt',\n",
              " 'kanye-west.txt',\n",
              " 'ludacris.txt',\n",
              " 'nicki-minaj.txt',\n",
              " 'disney.txt',\n",
              " 'eminem.txt',\n",
              " 'lin-manuel-miranda.txt',\n",
              " 'dolly-parton.txt',\n",
              " 'joni-mitchell.txt',\n",
              " 'notorious_big.txt',\n",
              " 'nickelback.txt',\n",
              " 'lorde.txt',\n",
              " 'leonard-cohen.txt',\n",
              " 'amy-winehouse.txt',\n",
              " 'drake.txt',\n",
              " 'kanye.txt',\n",
              " 'Kanye_West.txt',\n",
              " 'janisjoplin.txt',\n",
              " 'radiohead.txt',\n",
              " 'bruno-mars.txt',\n",
              " 'bruce-springsteen.txt',\n",
              " 'bob-dylan.txt',\n",
              " 'rihanna.txt',\n",
              " 'britney-spears.txt',\n",
              " 'lady-gaga.txt',\n",
              " 'bieber.txt',\n",
              " 'dj-khaled.txt',\n",
              " 'r-kelly.txt',\n",
              " 'Lil_Wayne.txt',\n",
              " 'alicia-keys.txt',\n",
              " 'bjork.txt',\n",
              " 'jimi-hendrix.txt']"
            ]
          },
          "metadata": {},
          "execution_count": 3
        }
      ],
      "source": [
        "# Posibles bandas\n",
        "os.listdir(\"./songs_dataset/\")"
      ]
    },
    {
      "cell_type": "code",
      "execution_count": 31,
      "metadata": {
        "id": "ticoqYD1Z3I7",
        "colab": {
          "base_uri": "https://localhost:8080/",
          "height": 276
        },
        "outputId": "a5104d5b-1c7e-4f14-bb21-cea1d0c555a3"
      },
      "outputs": [
        {
          "output_type": "stream",
          "name": "stderr",
          "text": [
            "<ipython-input-31-0c7f1ded6659>:2: ParserWarning:\n",
            "\n",
            "Falling back to the 'python' engine because the 'c' engine does not support regex separators (separators > 1 char and different from '\\s+' are interpreted as regex); you can avoid this warning by specifying engine='python'.\n",
            "\n"
          ]
        },
        {
          "output_type": "execute_result",
          "data": {
            "text/plain": [
              "                                                   0\n",
              "0  The Project Gutenberg eBook of Moby-Dick; or T...\n",
              "1  This eBook is for the use of anyone anywhere i...\n",
              "2  most other parts of the world at no cost and w...\n",
              "3  whatsoever. You may copy it, give it away or r...\n",
              "4  of the Project Gutenberg License included with..."
            ],
            "text/html": [
              "\n",
              "  <div id=\"df-13ec8601-ef10-49bf-8dc4-882469ac0901\" class=\"colab-df-container\">\n",
              "    <div>\n",
              "<style scoped>\n",
              "    .dataframe tbody tr th:only-of-type {\n",
              "        vertical-align: middle;\n",
              "    }\n",
              "\n",
              "    .dataframe tbody tr th {\n",
              "        vertical-align: top;\n",
              "    }\n",
              "\n",
              "    .dataframe thead th {\n",
              "        text-align: right;\n",
              "    }\n",
              "</style>\n",
              "<table border=\"1\" class=\"dataframe\">\n",
              "  <thead>\n",
              "    <tr style=\"text-align: right;\">\n",
              "      <th></th>\n",
              "      <th>0</th>\n",
              "    </tr>\n",
              "  </thead>\n",
              "  <tbody>\n",
              "    <tr>\n",
              "      <th>0</th>\n",
              "      <td>The Project Gutenberg eBook of Moby-Dick; or T...</td>\n",
              "    </tr>\n",
              "    <tr>\n",
              "      <th>1</th>\n",
              "      <td>This eBook is for the use of anyone anywhere i...</td>\n",
              "    </tr>\n",
              "    <tr>\n",
              "      <th>2</th>\n",
              "      <td>most other parts of the world at no cost and w...</td>\n",
              "    </tr>\n",
              "    <tr>\n",
              "      <th>3</th>\n",
              "      <td>whatsoever. You may copy it, give it away or r...</td>\n",
              "    </tr>\n",
              "    <tr>\n",
              "      <th>4</th>\n",
              "      <td>of the Project Gutenberg License included with...</td>\n",
              "    </tr>\n",
              "  </tbody>\n",
              "</table>\n",
              "</div>\n",
              "    <div class=\"colab-df-buttons\">\n",
              "\n",
              "  <div class=\"colab-df-container\">\n",
              "    <button class=\"colab-df-convert\" onclick=\"convertToInteractive('df-13ec8601-ef10-49bf-8dc4-882469ac0901')\"\n",
              "            title=\"Convert this dataframe to an interactive table.\"\n",
              "            style=\"display:none;\">\n",
              "\n",
              "  <svg xmlns=\"http://www.w3.org/2000/svg\" height=\"24px\" viewBox=\"0 -960 960 960\">\n",
              "    <path d=\"M120-120v-720h720v720H120Zm60-500h600v-160H180v160Zm220 220h160v-160H400v160Zm0 220h160v-160H400v160ZM180-400h160v-160H180v160Zm440 0h160v-160H620v160ZM180-180h160v-160H180v160Zm440 0h160v-160H620v160Z\"/>\n",
              "  </svg>\n",
              "    </button>\n",
              "\n",
              "  <style>\n",
              "    .colab-df-container {\n",
              "      display:flex;\n",
              "      gap: 12px;\n",
              "    }\n",
              "\n",
              "    .colab-df-convert {\n",
              "      background-color: #E8F0FE;\n",
              "      border: none;\n",
              "      border-radius: 50%;\n",
              "      cursor: pointer;\n",
              "      display: none;\n",
              "      fill: #1967D2;\n",
              "      height: 32px;\n",
              "      padding: 0 0 0 0;\n",
              "      width: 32px;\n",
              "    }\n",
              "\n",
              "    .colab-df-convert:hover {\n",
              "      background-color: #E2EBFA;\n",
              "      box-shadow: 0px 1px 2px rgba(60, 64, 67, 0.3), 0px 1px 3px 1px rgba(60, 64, 67, 0.15);\n",
              "      fill: #174EA6;\n",
              "    }\n",
              "\n",
              "    .colab-df-buttons div {\n",
              "      margin-bottom: 4px;\n",
              "    }\n",
              "\n",
              "    [theme=dark] .colab-df-convert {\n",
              "      background-color: #3B4455;\n",
              "      fill: #D2E3FC;\n",
              "    }\n",
              "\n",
              "    [theme=dark] .colab-df-convert:hover {\n",
              "      background-color: #434B5C;\n",
              "      box-shadow: 0px 1px 3px 1px rgba(0, 0, 0, 0.15);\n",
              "      filter: drop-shadow(0px 1px 2px rgba(0, 0, 0, 0.3));\n",
              "      fill: #FFFFFF;\n",
              "    }\n",
              "  </style>\n",
              "\n",
              "    <script>\n",
              "      const buttonEl =\n",
              "        document.querySelector('#df-13ec8601-ef10-49bf-8dc4-882469ac0901 button.colab-df-convert');\n",
              "      buttonEl.style.display =\n",
              "        google.colab.kernel.accessAllowed ? 'block' : 'none';\n",
              "\n",
              "      async function convertToInteractive(key) {\n",
              "        const element = document.querySelector('#df-13ec8601-ef10-49bf-8dc4-882469ac0901');\n",
              "        const dataTable =\n",
              "          await google.colab.kernel.invokeFunction('convertToInteractive',\n",
              "                                                    [key], {});\n",
              "        if (!dataTable) return;\n",
              "\n",
              "        const docLinkHtml = 'Like what you see? Visit the ' +\n",
              "          '<a target=\"_blank\" href=https://colab.research.google.com/notebooks/data_table.ipynb>data table notebook</a>'\n",
              "          + ' to learn more about interactive tables.';\n",
              "        element.innerHTML = '';\n",
              "        dataTable['output_type'] = 'display_data';\n",
              "        await google.colab.output.renderOutput(dataTable, element);\n",
              "        const docLink = document.createElement('div');\n",
              "        docLink.innerHTML = docLinkHtml;\n",
              "        element.appendChild(docLink);\n",
              "      }\n",
              "    </script>\n",
              "  </div>\n",
              "\n",
              "\n",
              "<div id=\"df-14d36a16-d042-449b-874b-fee7907edbff\">\n",
              "  <button class=\"colab-df-quickchart\" onclick=\"quickchart('df-14d36a16-d042-449b-874b-fee7907edbff')\"\n",
              "            title=\"Suggest charts\"\n",
              "            style=\"display:none;\">\n",
              "\n",
              "<svg xmlns=\"http://www.w3.org/2000/svg\" height=\"24px\"viewBox=\"0 0 24 24\"\n",
              "     width=\"24px\">\n",
              "    <g>\n",
              "        <path d=\"M19 3H5c-1.1 0-2 .9-2 2v14c0 1.1.9 2 2 2h14c1.1 0 2-.9 2-2V5c0-1.1-.9-2-2-2zM9 17H7v-7h2v7zm4 0h-2V7h2v10zm4 0h-2v-4h2v4z\"/>\n",
              "    </g>\n",
              "</svg>\n",
              "  </button>\n",
              "\n",
              "<style>\n",
              "  .colab-df-quickchart {\n",
              "      --bg-color: #E8F0FE;\n",
              "      --fill-color: #1967D2;\n",
              "      --hover-bg-color: #E2EBFA;\n",
              "      --hover-fill-color: #174EA6;\n",
              "      --disabled-fill-color: #AAA;\n",
              "      --disabled-bg-color: #DDD;\n",
              "  }\n",
              "\n",
              "  [theme=dark] .colab-df-quickchart {\n",
              "      --bg-color: #3B4455;\n",
              "      --fill-color: #D2E3FC;\n",
              "      --hover-bg-color: #434B5C;\n",
              "      --hover-fill-color: #FFFFFF;\n",
              "      --disabled-bg-color: #3B4455;\n",
              "      --disabled-fill-color: #666;\n",
              "  }\n",
              "\n",
              "  .colab-df-quickchart {\n",
              "    background-color: var(--bg-color);\n",
              "    border: none;\n",
              "    border-radius: 50%;\n",
              "    cursor: pointer;\n",
              "    display: none;\n",
              "    fill: var(--fill-color);\n",
              "    height: 32px;\n",
              "    padding: 0;\n",
              "    width: 32px;\n",
              "  }\n",
              "\n",
              "  .colab-df-quickchart:hover {\n",
              "    background-color: var(--hover-bg-color);\n",
              "    box-shadow: 0 1px 2px rgba(60, 64, 67, 0.3), 0 1px 3px 1px rgba(60, 64, 67, 0.15);\n",
              "    fill: var(--button-hover-fill-color);\n",
              "  }\n",
              "\n",
              "  .colab-df-quickchart-complete:disabled,\n",
              "  .colab-df-quickchart-complete:disabled:hover {\n",
              "    background-color: var(--disabled-bg-color);\n",
              "    fill: var(--disabled-fill-color);\n",
              "    box-shadow: none;\n",
              "  }\n",
              "\n",
              "  .colab-df-spinner {\n",
              "    border: 2px solid var(--fill-color);\n",
              "    border-color: transparent;\n",
              "    border-bottom-color: var(--fill-color);\n",
              "    animation:\n",
              "      spin 1s steps(1) infinite;\n",
              "  }\n",
              "\n",
              "  @keyframes spin {\n",
              "    0% {\n",
              "      border-color: transparent;\n",
              "      border-bottom-color: var(--fill-color);\n",
              "      border-left-color: var(--fill-color);\n",
              "    }\n",
              "    20% {\n",
              "      border-color: transparent;\n",
              "      border-left-color: var(--fill-color);\n",
              "      border-top-color: var(--fill-color);\n",
              "    }\n",
              "    30% {\n",
              "      border-color: transparent;\n",
              "      border-left-color: var(--fill-color);\n",
              "      border-top-color: var(--fill-color);\n",
              "      border-right-color: var(--fill-color);\n",
              "    }\n",
              "    40% {\n",
              "      border-color: transparent;\n",
              "      border-right-color: var(--fill-color);\n",
              "      border-top-color: var(--fill-color);\n",
              "    }\n",
              "    60% {\n",
              "      border-color: transparent;\n",
              "      border-right-color: var(--fill-color);\n",
              "    }\n",
              "    80% {\n",
              "      border-color: transparent;\n",
              "      border-right-color: var(--fill-color);\n",
              "      border-bottom-color: var(--fill-color);\n",
              "    }\n",
              "    90% {\n",
              "      border-color: transparent;\n",
              "      border-bottom-color: var(--fill-color);\n",
              "    }\n",
              "  }\n",
              "</style>\n",
              "\n",
              "  <script>\n",
              "    async function quickchart(key) {\n",
              "      const quickchartButtonEl =\n",
              "        document.querySelector('#' + key + ' button');\n",
              "      quickchartButtonEl.disabled = true;  // To prevent multiple clicks.\n",
              "      quickchartButtonEl.classList.add('colab-df-spinner');\n",
              "      try {\n",
              "        const charts = await google.colab.kernel.invokeFunction(\n",
              "            'suggestCharts', [key], {});\n",
              "      } catch (error) {\n",
              "        console.error('Error during call to suggestCharts:', error);\n",
              "      }\n",
              "      quickchartButtonEl.classList.remove('colab-df-spinner');\n",
              "      quickchartButtonEl.classList.add('colab-df-quickchart-complete');\n",
              "    }\n",
              "    (() => {\n",
              "      let quickchartButtonEl =\n",
              "        document.querySelector('#df-14d36a16-d042-449b-874b-fee7907edbff button');\n",
              "      quickchartButtonEl.style.display =\n",
              "        google.colab.kernel.accessAllowed ? 'block' : 'none';\n",
              "    })();\n",
              "  </script>\n",
              "</div>\n",
              "\n",
              "    </div>\n",
              "  </div>\n"
            ],
            "application/vnd.google.colaboratory.intrinsic+json": {
              "type": "dataframe",
              "variable_name": "df",
              "summary": "{\n  \"name\": \"df\",\n  \"rows\": 19229,\n  \"fields\": [\n    {\n      \"column\": 0,\n      \"properties\": {\n        \"dtype\": \"string\",\n        \"num_unique_values\": 19063,\n        \"samples\": [\n          \"children-seeking Rachel; and no spout had yet been seen; the monomaniac\",\n          \"together. The straight warp of necessity, not to be swerved from its\",\n          \"the stretch, they were engaged in the boats, steadily pulling, or\"\n        ],\n        \"semantic_type\": \"\",\n        \"description\": \"\"\n      }\n    }\n  ]\n}"
            }
          },
          "metadata": {},
          "execution_count": 31
        }
      ],
      "source": [
        "# Armar el dataset utilizando salto de línea para separar las oraciones/docs\n",
        "df = pd.read_csv('moby_dick.txt', sep='/n', header=None)\n",
        "df.head()"
      ]
    },
    {
      "cell_type": "code",
      "execution_count": 32,
      "metadata": {
        "id": "LEpKubK9XzXN",
        "colab": {
          "base_uri": "https://localhost:8080/"
        },
        "outputId": "8eebcf6f-6cb7-4b6e-9e6e-85c20d4a410c"
      },
      "outputs": [
        {
          "output_type": "stream",
          "name": "stdout",
          "text": [
            "Cantidad de documentos: 19229\n"
          ]
        }
      ],
      "source": [
        "print(\"Cantidad de documentos:\", df.shape[0])"
      ]
    },
    {
      "cell_type": "markdown",
      "metadata": {
        "id": "ab94qaFlrA1G"
      },
      "source": [
        "### 1 - Preprocesamiento"
      ]
    },
    {
      "cell_type": "code",
      "source": [
        "pip install Keras==2.12.0\n"
      ],
      "metadata": {
        "colab": {
          "base_uri": "https://localhost:8080/"
        },
        "id": "r7B-HKG_FJP9",
        "outputId": "289f25fd-c557-4dc3-ade3-99acd1bd0a74"
      },
      "execution_count": 6,
      "outputs": [
        {
          "output_type": "stream",
          "name": "stdout",
          "text": [
            "Collecting Keras==2.12.0\n",
            "  Using cached keras-2.12.0-py2.py3-none-any.whl.metadata (1.4 kB)\n",
            "Using cached keras-2.12.0-py2.py3-none-any.whl (1.7 MB)\n",
            "Installing collected packages: Keras\n",
            "  Attempting uninstall: Keras\n",
            "    Found existing installation: keras 2.10.0\n",
            "    Uninstalling keras-2.10.0:\n",
            "      Successfully uninstalled keras-2.10.0\n",
            "\u001b[31mERROR: pip's dependency resolver does not currently take into account all the packages that are installed. This behaviour is the source of the following dependency conflicts.\n",
            "tensorflow 2.10.0 requires keras<2.11,>=2.10.0, but you have keras 2.12.0 which is incompatible.\n",
            "tf-keras 2.17.0 requires tensorflow<2.18,>=2.17, but you have tensorflow 2.10.0 which is incompatible.\u001b[0m\u001b[31m\n",
            "\u001b[0mSuccessfully installed Keras-2.12.0\n"
          ]
        }
      ]
    },
    {
      "cell_type": "code",
      "source": [
        "pip install tensorflow==2.10.0"
      ],
      "metadata": {
        "colab": {
          "base_uri": "https://localhost:8080/"
        },
        "id": "QcAXVnZFF9lZ",
        "outputId": "5abf7a2a-deaf-4af3-bdf4-c52290ea86e3"
      },
      "execution_count": 7,
      "outputs": [
        {
          "output_type": "stream",
          "name": "stdout",
          "text": [
            "Requirement already satisfied: tensorflow==2.10.0 in /usr/local/lib/python3.10/dist-packages (2.10.0)\n",
            "Requirement already satisfied: absl-py>=1.0.0 in /usr/local/lib/python3.10/dist-packages (from tensorflow==2.10.0) (1.4.0)\n",
            "Requirement already satisfied: astunparse>=1.6.0 in /usr/local/lib/python3.10/dist-packages (from tensorflow==2.10.0) (1.6.3)\n",
            "Requirement already satisfied: flatbuffers>=2.0 in /usr/local/lib/python3.10/dist-packages (from tensorflow==2.10.0) (24.3.25)\n",
            "Requirement already satisfied: gast<=0.4.0,>=0.2.1 in /usr/local/lib/python3.10/dist-packages (from tensorflow==2.10.0) (0.4.0)\n",
            "Requirement already satisfied: google-pasta>=0.1.1 in /usr/local/lib/python3.10/dist-packages (from tensorflow==2.10.0) (0.2.0)\n",
            "Requirement already satisfied: grpcio<2.0,>=1.24.3 in /usr/local/lib/python3.10/dist-packages (from tensorflow==2.10.0) (1.64.1)\n",
            "Requirement already satisfied: h5py>=2.9.0 in /usr/local/lib/python3.10/dist-packages (from tensorflow==2.10.0) (3.11.0)\n",
            "Collecting keras<2.11,>=2.10.0 (from tensorflow==2.10.0)\n",
            "  Using cached keras-2.10.0-py2.py3-none-any.whl.metadata (1.3 kB)\n",
            "Requirement already satisfied: keras-preprocessing>=1.1.1 in /usr/local/lib/python3.10/dist-packages (from tensorflow==2.10.0) (1.1.2)\n",
            "Requirement already satisfied: libclang>=13.0.0 in /usr/local/lib/python3.10/dist-packages (from tensorflow==2.10.0) (18.1.1)\n",
            "Requirement already satisfied: numpy>=1.20 in /usr/local/lib/python3.10/dist-packages (from tensorflow==2.10.0) (1.26.4)\n",
            "Requirement already satisfied: opt-einsum>=2.3.2 in /usr/local/lib/python3.10/dist-packages (from tensorflow==2.10.0) (3.3.0)\n",
            "Requirement already satisfied: packaging in /usr/local/lib/python3.10/dist-packages (from tensorflow==2.10.0) (24.1)\n",
            "Requirement already satisfied: protobuf<3.20,>=3.9.2 in /usr/local/lib/python3.10/dist-packages (from tensorflow==2.10.0) (3.19.6)\n",
            "Requirement already satisfied: setuptools in /usr/local/lib/python3.10/dist-packages (from tensorflow==2.10.0) (71.0.4)\n",
            "Requirement already satisfied: six>=1.12.0 in /usr/local/lib/python3.10/dist-packages (from tensorflow==2.10.0) (1.16.0)\n",
            "Requirement already satisfied: tensorboard<2.11,>=2.10 in /usr/local/lib/python3.10/dist-packages (from tensorflow==2.10.0) (2.10.1)\n",
            "Requirement already satisfied: tensorflow-io-gcs-filesystem>=0.23.1 in /usr/local/lib/python3.10/dist-packages (from tensorflow==2.10.0) (0.37.1)\n",
            "Requirement already satisfied: tensorflow-estimator<2.11,>=2.10.0 in /usr/local/lib/python3.10/dist-packages (from tensorflow==2.10.0) (2.10.0)\n",
            "Requirement already satisfied: termcolor>=1.1.0 in /usr/local/lib/python3.10/dist-packages (from tensorflow==2.10.0) (2.4.0)\n",
            "Requirement already satisfied: typing-extensions>=3.6.6 in /usr/local/lib/python3.10/dist-packages (from tensorflow==2.10.0) (4.12.2)\n",
            "Requirement already satisfied: wrapt>=1.11.0 in /usr/local/lib/python3.10/dist-packages (from tensorflow==2.10.0) (1.16.0)\n",
            "Requirement already satisfied: wheel<1.0,>=0.23.0 in /usr/local/lib/python3.10/dist-packages (from astunparse>=1.6.0->tensorflow==2.10.0) (0.44.0)\n",
            "Requirement already satisfied: google-auth<3,>=1.6.3 in /usr/local/lib/python3.10/dist-packages (from tensorboard<2.11,>=2.10->tensorflow==2.10.0) (2.27.0)\n",
            "Requirement already satisfied: google-auth-oauthlib<0.5,>=0.4.1 in /usr/local/lib/python3.10/dist-packages (from tensorboard<2.11,>=2.10->tensorflow==2.10.0) (0.4.6)\n",
            "Requirement already satisfied: markdown>=2.6.8 in /usr/local/lib/python3.10/dist-packages (from tensorboard<2.11,>=2.10->tensorflow==2.10.0) (3.6)\n",
            "Requirement already satisfied: requests<3,>=2.21.0 in /usr/local/lib/python3.10/dist-packages (from tensorboard<2.11,>=2.10->tensorflow==2.10.0) (2.32.3)\n",
            "Requirement already satisfied: tensorboard-data-server<0.7.0,>=0.6.0 in /usr/local/lib/python3.10/dist-packages (from tensorboard<2.11,>=2.10->tensorflow==2.10.0) (0.6.1)\n",
            "Requirement already satisfied: tensorboard-plugin-wit>=1.6.0 in /usr/local/lib/python3.10/dist-packages (from tensorboard<2.11,>=2.10->tensorflow==2.10.0) (1.8.1)\n",
            "Requirement already satisfied: werkzeug>=1.0.1 in /usr/local/lib/python3.10/dist-packages (from tensorboard<2.11,>=2.10->tensorflow==2.10.0) (3.0.3)\n",
            "Requirement already satisfied: cachetools<6.0,>=2.0.0 in /usr/local/lib/python3.10/dist-packages (from google-auth<3,>=1.6.3->tensorboard<2.11,>=2.10->tensorflow==2.10.0) (5.4.0)\n",
            "Requirement already satisfied: pyasn1-modules>=0.2.1 in /usr/local/lib/python3.10/dist-packages (from google-auth<3,>=1.6.3->tensorboard<2.11,>=2.10->tensorflow==2.10.0) (0.4.0)\n",
            "Requirement already satisfied: rsa<5,>=3.1.4 in /usr/local/lib/python3.10/dist-packages (from google-auth<3,>=1.6.3->tensorboard<2.11,>=2.10->tensorflow==2.10.0) (4.9)\n",
            "Requirement already satisfied: requests-oauthlib>=0.7.0 in /usr/local/lib/python3.10/dist-packages (from google-auth-oauthlib<0.5,>=0.4.1->tensorboard<2.11,>=2.10->tensorflow==2.10.0) (1.3.1)\n",
            "Requirement already satisfied: charset-normalizer<4,>=2 in /usr/local/lib/python3.10/dist-packages (from requests<3,>=2.21.0->tensorboard<2.11,>=2.10->tensorflow==2.10.0) (3.3.2)\n",
            "Requirement already satisfied: idna<4,>=2.5 in /usr/local/lib/python3.10/dist-packages (from requests<3,>=2.21.0->tensorboard<2.11,>=2.10->tensorflow==2.10.0) (3.7)\n",
            "Requirement already satisfied: urllib3<3,>=1.21.1 in /usr/local/lib/python3.10/dist-packages (from requests<3,>=2.21.0->tensorboard<2.11,>=2.10->tensorflow==2.10.0) (2.0.7)\n",
            "Requirement already satisfied: certifi>=2017.4.17 in /usr/local/lib/python3.10/dist-packages (from requests<3,>=2.21.0->tensorboard<2.11,>=2.10->tensorflow==2.10.0) (2024.7.4)\n",
            "Requirement already satisfied: MarkupSafe>=2.1.1 in /usr/local/lib/python3.10/dist-packages (from werkzeug>=1.0.1->tensorboard<2.11,>=2.10->tensorflow==2.10.0) (2.1.5)\n",
            "Requirement already satisfied: pyasn1<0.7.0,>=0.4.6 in /usr/local/lib/python3.10/dist-packages (from pyasn1-modules>=0.2.1->google-auth<3,>=1.6.3->tensorboard<2.11,>=2.10->tensorflow==2.10.0) (0.6.0)\n",
            "Requirement already satisfied: oauthlib>=3.0.0 in /usr/local/lib/python3.10/dist-packages (from requests-oauthlib>=0.7.0->google-auth-oauthlib<0.5,>=0.4.1->tensorboard<2.11,>=2.10->tensorflow==2.10.0) (3.2.2)\n",
            "Using cached keras-2.10.0-py2.py3-none-any.whl (1.7 MB)\n",
            "Installing collected packages: keras\n",
            "  Attempting uninstall: keras\n",
            "    Found existing installation: keras 2.12.0\n",
            "    Uninstalling keras-2.12.0:\n",
            "      Successfully uninstalled keras-2.12.0\n",
            "\u001b[31mERROR: pip's dependency resolver does not currently take into account all the packages that are installed. This behaviour is the source of the following dependency conflicts.\n",
            "tf-keras 2.17.0 requires tensorflow<2.18,>=2.17, but you have tensorflow 2.10.0 which is incompatible.\u001b[0m\u001b[31m\n",
            "\u001b[0mSuccessfully installed keras-2.10.0\n"
          ]
        }
      ]
    },
    {
      "cell_type": "code",
      "execution_count": 33,
      "metadata": {
        "id": "rIsmMWmjrDHd"
      },
      "outputs": [],
      "source": [
        "from keras.preprocessing.text import text_to_word_sequence\n",
        "\n",
        "sentence_tokens = []\n",
        "# Recorrer todas las filas y transformar las oraciones\n",
        "# en una secuencia de palabras (esto podría realizarse con NLTK o spaCy también)\n",
        "for _, row in df[:None].iterrows():\n",
        "    sentence_tokens.append(text_to_word_sequence(row[0]))"
      ]
    },
    {
      "cell_type": "code",
      "execution_count": 34,
      "metadata": {
        "id": "CHepi_DGrbhq",
        "colab": {
          "base_uri": "https://localhost:8080/"
        },
        "outputId": "71553f7b-24a5-40e2-fbbf-04271ef02e94"
      },
      "outputs": [
        {
          "output_type": "execute_result",
          "data": {
            "text/plain": [
              "[['the',\n",
              "  'project',\n",
              "  'gutenberg',\n",
              "  'ebook',\n",
              "  'of',\n",
              "  'moby',\n",
              "  'dick',\n",
              "  'or',\n",
              "  'the',\n",
              "  'whale',\n",
              "  'by',\n",
              "  'herman',\n",
              "  'melville'],\n",
              " ['this',\n",
              "  'ebook',\n",
              "  'is',\n",
              "  'for',\n",
              "  'the',\n",
              "  'use',\n",
              "  'of',\n",
              "  'anyone',\n",
              "  'anywhere',\n",
              "  'in',\n",
              "  'the',\n",
              "  'united',\n",
              "  'states',\n",
              "  'and']]"
            ]
          },
          "metadata": {},
          "execution_count": 34
        }
      ],
      "source": [
        "# Demos un vistazo\n",
        "sentence_tokens[:2]"
      ]
    },
    {
      "cell_type": "markdown",
      "metadata": {
        "id": "BaXV6nlHr5Aa"
      },
      "source": [
        "### 2 - Crear los vectores (word2vec)"
      ]
    },
    {
      "cell_type": "code",
      "execution_count": 35,
      "metadata": {
        "id": "OSb0v7h8r7hK"
      },
      "outputs": [],
      "source": [
        "from gensim.models.callbacks import CallbackAny2Vec\n",
        "# Durante el entrenamiento gensim por defecto no informa el \"loss\" en cada época\n",
        "# Sobrecargamos el callback para poder tener esta información\n",
        "class callback(CallbackAny2Vec):\n",
        "    \"\"\"\n",
        "    Callback to print loss after each epoch\n",
        "    \"\"\"\n",
        "    def __init__(self):\n",
        "        self.epoch = 0\n",
        "\n",
        "    def on_epoch_end(self, model):\n",
        "        loss = model.get_latest_training_loss()\n",
        "        if self.epoch == 0:\n",
        "            print('Loss after epoch {}: {}'.format(self.epoch, loss))\n",
        "        else:\n",
        "            print('Loss after epoch {}: {}'.format(self.epoch, loss- self.loss_previous_step))\n",
        "        self.epoch += 1\n",
        "        self.loss_previous_step = loss"
      ]
    },
    {
      "cell_type": "code",
      "execution_count": 36,
      "metadata": {
        "id": "i0wnDdv9sJ47"
      },
      "outputs": [],
      "source": [
        "# Crearmos el modelo generador de vectores\n",
        "# En este caso utilizaremos la estructura modelo Skipgram\n",
        "w2v_model = Word2Vec(min_count=5,    # frecuencia mínima de palabra para incluirla en el vocabulario\n",
        "                     window=2,       # cant de palabras antes y desp de la predicha\n",
        "                     vector_size=300,       # dimensionalidad de los vectores\n",
        "                     negative=20,    # cantidad de negative samples... 0 es no se usa\n",
        "                     workers=1,      # si tienen más cores pueden cambiar este valor\n",
        "                     sg=1)           # modelo 0:CBOW  1:skipgram"
      ]
    },
    {
      "cell_type": "code",
      "execution_count": 37,
      "metadata": {
        "id": "5lTt8wErsf17"
      },
      "outputs": [],
      "source": [
        "# Obtener el vocabulario con los tokens\n",
        "w2v_model.build_vocab(sentence_tokens)"
      ]
    },
    {
      "cell_type": "code",
      "execution_count": 38,
      "metadata": {
        "id": "TNc9qt4os5AT",
        "colab": {
          "base_uri": "https://localhost:8080/"
        },
        "outputId": "0a563b9c-c090-46ad-cbe4-ba81de1eb8bb"
      },
      "outputs": [
        {
          "output_type": "stream",
          "name": "stdout",
          "text": [
            "Cantidad de docs en el corpus: 19229\n"
          ]
        }
      ],
      "source": [
        "# Cantidad de filas/docs encontradas en el corpus\n",
        "print(\"Cantidad de docs en el corpus:\", w2v_model.corpus_count)"
      ]
    },
    {
      "cell_type": "code",
      "execution_count": 39,
      "metadata": {
        "id": "idw9cHF3tSMl",
        "colab": {
          "base_uri": "https://localhost:8080/"
        },
        "outputId": "c4231dae-166f-4f5f-aef6-40de6f7aba67"
      },
      "outputs": [
        {
          "output_type": "stream",
          "name": "stdout",
          "text": [
            "Cantidad de words distintas en el corpus: 4381\n"
          ]
        }
      ],
      "source": [
        "# Cantidad de words encontradas en el corpus\n",
        "print(\"Cantidad de words distintas en el corpus:\", len(w2v_model.wv.index_to_key))"
      ]
    },
    {
      "cell_type": "markdown",
      "metadata": {
        "id": "fC9mZ8DPk-UC"
      },
      "source": [
        "### 3 - Entrenar embeddings"
      ]
    },
    {
      "cell_type": "code",
      "execution_count": 40,
      "metadata": {
        "id": "QSp-x0PAsq56",
        "colab": {
          "base_uri": "https://localhost:8080/"
        },
        "outputId": "c52c8d32-3f60-438c-ccc5-eacc30e13f63"
      },
      "outputs": [
        {
          "output_type": "stream",
          "name": "stdout",
          "text": [
            "Loss after epoch 0: 1675047.625\n",
            "Loss after epoch 1: 1121795.875\n",
            "Loss after epoch 2: 1057600.75\n",
            "Loss after epoch 3: 1010644.75\n",
            "Loss after epoch 4: 987850.0\n",
            "Loss after epoch 5: 977799.5\n",
            "Loss after epoch 6: 967653.5\n",
            "Loss after epoch 7: 947658.0\n",
            "Loss after epoch 8: 923223.0\n",
            "Loss after epoch 9: 912971.0\n",
            "Loss after epoch 10: 907722.0\n",
            "Loss after epoch 11: 896458.0\n",
            "Loss after epoch 12: 889036.0\n",
            "Loss after epoch 13: 882084.0\n",
            "Loss after epoch 14: 875566.0\n",
            "Loss after epoch 15: 871382.0\n",
            "Loss after epoch 16: 867185.0\n",
            "Loss after epoch 17: 836019.0\n",
            "Loss after epoch 18: 835232.0\n",
            "Loss after epoch 19: 829638.0\n"
          ]
        },
        {
          "output_type": "execute_result",
          "data": {
            "text/plain": [
              "(2826904, 4415420)"
            ]
          },
          "metadata": {},
          "execution_count": 40
        }
      ],
      "source": [
        "# Entrenamos el modelo generador de vectores\n",
        "# Utilizamos nuestro callback\n",
        "w2v_model.train(sentence_tokens,\n",
        "                 total_examples=w2v_model.corpus_count,\n",
        "                 epochs=20,\n",
        "                 compute_loss = True,\n",
        "                 callbacks=[callback()]\n",
        "                 )"
      ]
    },
    {
      "cell_type": "markdown",
      "metadata": {
        "id": "ddT9NVuNlCAe"
      },
      "source": [
        "### 4 - Ensayar"
      ]
    },
    {
      "cell_type": "code",
      "execution_count": 42,
      "metadata": {
        "id": "6cHN9xGLuPEm",
        "colab": {
          "base_uri": "https://localhost:8080/"
        },
        "outputId": "4fd66773-fceb-4983-e112-1af8eb514363"
      },
      "outputs": [
        {
          "output_type": "execute_result",
          "data": {
            "text/plain": [
              "[('hairs', 0.6063191890716553),\n",
              " ('glistening', 0.5978313684463501),\n",
              " ('whales', 0.5961450934410095),\n",
              " ('whale’s', 0.5960444808006287),\n",
              " ('“hast', 0.5859410762786865),\n",
              " ('squalls', 0.5779882073402405),\n",
              " ('shoal', 0.5764021873474121),\n",
              " ('whaler', 0.5711514353752136),\n",
              " ('steed', 0.5658363699913025),\n",
              " ('hunting', 0.5630220174789429)]"
            ]
          },
          "metadata": {},
          "execution_count": 42
        }
      ],
      "source": [
        "# Palabras que MÁS se relacionan con...:\n",
        "w2v_model.wv.most_similar(positive=[\"whale\"], topn=10)"
      ]
    },
    {
      "cell_type": "code",
      "execution_count": 43,
      "metadata": {
        "id": "47HiU5gdkdMq",
        "colab": {
          "base_uri": "https://localhost:8080/"
        },
        "outputId": "30fb6d8d-22b5-49d5-f04a-0ed1a060ad45"
      },
      "outputs": [
        {
          "output_type": "execute_result",
          "data": {
            "text/plain": [
              "[('or', -0.09040482342243195),\n",
              " ('into', -0.12280155718326569),\n",
              " ('than', -0.1497901827096939),\n",
              " ('its', -0.1548781543970108),\n",
              " ('from', -0.15526516735553741),\n",
              " ('no', -0.15613260865211487),\n",
              " ('between', -0.15714167058467865),\n",
              " ('up', -0.15834391117095947),\n",
              " ('broad', -0.16433435678482056),\n",
              " ('any', -0.16784261167049408)]"
            ]
          },
          "metadata": {},
          "execution_count": 43
        }
      ],
      "source": [
        "# Palabras que MENOS se relacionan con...:\n",
        "w2v_model.wv.most_similar(negative=[\"love\"], topn=10)"
      ]
    },
    {
      "cell_type": "code",
      "execution_count": 44,
      "metadata": {
        "id": "DT4Rvno2mD65",
        "colab": {
          "base_uri": "https://localhost:8080/"
        },
        "outputId": "003cfaad-f0dd-4225-bde8-7328dd410da5"
      },
      "outputs": [
        {
          "output_type": "execute_result",
          "data": {
            "text/plain": [
              "[('sixty', 0.7609437108039856),\n",
              " ('weeks', 0.7402021884918213),\n",
              " ('ninety', 0.7294574975967407),\n",
              " ('five', 0.7290971875190735),\n",
              " ('eighteen', 0.7273372411727905),\n",
              " ('thirty', 0.7200717926025391),\n",
              " ('twenty', 0.7117601037025452),\n",
              " ('score', 0.7077972888946533),\n",
              " ('years’', 0.7056097984313965),\n",
              " ('fifty', 0.7010278701782227)]"
            ]
          },
          "metadata": {},
          "execution_count": 44
        }
      ],
      "source": [
        "# Palabras que MÁS se relacionan con...:\n",
        "w2v_model.wv.most_similar(positive=[\"four\"], topn=10)"
      ]
    },
    {
      "cell_type": "code",
      "execution_count": 45,
      "metadata": {
        "id": "XPLDPgzBmQXt",
        "colab": {
          "base_uri": "https://localhost:8080/"
        },
        "outputId": "00b68940-0848-45ae-fcf6-f350da94ccc3"
      },
      "outputs": [
        {
          "output_type": "execute_result",
          "data": {
            "text/plain": [
              "[('religion', 0.8330126404762268),\n",
              " ('murderer', 0.8178383708000183),\n",
              " ('hopeless', 0.8125391602516174),\n",
              " ('shown', 0.8086636066436768),\n",
              " ('sober', 0.8084625601768494)]"
            ]
          },
          "metadata": {},
          "execution_count": 45
        }
      ],
      "source": [
        "# Palabras que MÁS se relacionan con...:\n",
        "w2v_model.wv.most_similar(positive=[\"money\"], topn=5)"
      ]
    },
    {
      "cell_type": "code",
      "execution_count": 21,
      "metadata": {
        "id": "L_UvHPMMklOr"
      },
      "outputs": [],
      "source": [
        "# Ensayar con una palabra que no está en el vocabulario:\n",
        "#w2v_model.wv.most_similar(negative=[\"diedaa\"])"
      ]
    },
    {
      "cell_type": "code",
      "execution_count": 23,
      "metadata": {
        "colab": {
          "base_uri": "https://localhost:8080/"
        },
        "id": "ClkGomn7E5Ep",
        "outputId": "17969001-3098-4a3b-e3f4-7ba8850d6d24"
      },
      "outputs": [
        {
          "output_type": "stream",
          "name": "stdout",
          "text": [
            "[ 0.17736822  0.21460655 -0.05408018  0.06707036  0.13059464 -0.25713933\n",
            "  0.00711611  0.26743424 -0.03100746  0.259963    0.21179457 -0.08465387\n",
            " -0.26272097  0.308386   -0.07934437 -0.13357355  0.2994755   0.18062147\n",
            " -0.13111673 -0.11857472  0.03468326  0.1125607   0.08478875  0.08090881\n",
            " -0.17622267  0.03122034 -0.08725598  0.23746666 -0.11507358 -0.29119617\n",
            " -0.03650665 -0.3322312   0.23262788  0.10366543 -0.18365337  0.08299578\n",
            "  0.14315338 -0.19761457 -0.00757894  0.1119568  -0.10421463 -0.13083619\n",
            " -0.03264419 -0.04687435  0.11330808  0.10231452 -0.16202034 -0.10347028\n",
            "  0.03659901 -0.08524423 -0.34872082 -0.02154255  0.25938764  0.16540806\n",
            "  0.0310861   0.09505633  0.24452917 -0.09859891  0.18298703  0.0645447\n",
            "  0.016967   -0.3259168  -0.04774074 -0.05418535 -0.04338397 -0.09137302\n",
            "  0.00889874  0.11636022 -0.25662988  0.05426472  0.08915784  0.04541444\n",
            "  0.20835714 -0.19101828  0.32210803  0.19337991  0.09080223 -0.00362429\n",
            " -0.18664253 -0.07053486 -0.1213743  -0.03477469 -0.15798187  0.39070287\n",
            " -0.06144987  0.11083187 -0.16213974 -0.24604863  0.15004653  0.41447446\n",
            " -0.02289782 -0.17896852 -0.07827526 -0.22193784  0.02855509  0.48533952\n",
            "  0.04447097  0.12464199 -0.04169935  0.1982593  -0.15919553 -0.08606501\n",
            "  0.1320642   0.07071835  0.30667147  0.08809892 -0.19750106  0.23502588\n",
            " -0.07388738  0.04295443 -0.24779157 -0.28854167 -0.4401632   0.00458563\n",
            " -0.07824975  0.18824083  0.05077408 -0.05739668  0.15620743 -0.48762608\n",
            "  0.1922928   0.08314091  0.04989756  0.02644576 -0.06825414  0.35304525\n",
            "  0.17191295 -0.16261117 -0.2936474   0.29585826  0.34883434  0.13242614\n",
            "  0.20136862 -0.45008007  0.10677742  0.29548344  0.05580255 -0.10513617\n",
            " -0.18692017 -0.00885901  0.01701376 -0.16563897 -0.11337513  0.06720471\n",
            "  0.15243004 -0.00960089 -0.0473961  -0.08677159 -0.07125839  0.16441917\n",
            "  0.00310922 -0.36776385  0.08532935  0.06346983 -0.02668795  0.22113207\n",
            " -0.2441667   0.02439994 -0.00925008  0.23633759 -0.10890642  0.11366176\n",
            " -0.0994612   0.21860765  0.01365219  0.01017555 -0.1882097   0.25845018\n",
            "  0.30251107  0.03778573  0.206645    0.22037302  0.16829754  0.04512674\n",
            "  0.01971447 -0.36934844  0.0328729  -0.20335236  0.12939689  0.04162559\n",
            "  0.02085797 -0.10500363 -0.17457162 -0.28335714 -0.08274048 -0.04555536\n",
            " -0.11861075 -0.03437103  0.0255297  -0.2554016   0.17146216  0.05093628\n",
            "  0.0917547  -0.06427904 -0.16107002  0.19086204 -0.10930005 -0.18050742\n",
            " -0.06337117  0.01224837 -0.09302392  0.22475737  0.30700293 -0.26619977\n",
            "  0.2305236   0.00149169  0.13293476  0.02429233  0.07883647 -0.09135374\n",
            " -0.17123872 -0.3664065   0.3834617  -0.21642369  0.30520016 -0.05142065\n",
            " -0.36278993 -0.23481902  0.05347933 -0.33067894 -0.01501467  0.07849759\n",
            "  0.01582254 -0.111112    0.25853142 -0.1510902   0.07833586  0.03887907\n",
            "  0.06565052 -0.10252414 -0.02964626 -0.17363134  0.01443172  0.14266178\n",
            " -0.2042187   0.03214323 -0.1629491   0.23105827 -0.08103111 -0.07967328\n",
            "  0.13010906 -0.15625998  0.0689413  -0.03020397 -0.04729844 -0.24360013\n",
            "  0.2185359  -0.0347794   0.05899534  0.17103592  0.02150829  0.2957355\n",
            "  0.11162414 -0.16905093 -0.18563178 -0.19697626  0.3415001   0.18426846\n",
            " -0.20898484 -0.06920402  0.02646237 -0.33699226  0.0361828  -0.02290664\n",
            " -0.04528077 -0.02644458  0.27353263  0.2873995  -0.03061444  0.13751149\n",
            "  0.05503082  0.02680384  0.05629698  0.03125441  0.27008575  0.18144625\n",
            "  0.04076385  0.18558657 -0.10238926 -0.05794458  0.04535891 -0.09978388\n",
            " -0.17145762 -0.15288326  0.09159966  0.05247529  0.00280528  0.00947132\n",
            "  0.23113796  0.0304687   0.11368281  0.35986233  0.15569495 -0.02521801\n",
            "  0.35871565  0.3222857   0.00839845  0.1805266   0.1312731  -0.31311095]\n"
          ]
        }
      ],
      "source": [
        "# el método `get_vector` permite obtener los vectores:\n",
        "vector_love = w2v_model.wv.get_vector(\"love\")\n",
        "print(vector_love)"
      ]
    },
    {
      "cell_type": "code",
      "execution_count": 24,
      "metadata": {
        "colab": {
          "base_uri": "https://localhost:8080/"
        },
        "id": "umgpx7krE5Ep",
        "outputId": "1e09d3b7-9cfb-432b-e491-ccb094835861"
      },
      "outputs": [
        {
          "output_type": "execute_result",
          "data": {
            "text/plain": [
              "[('love', 1.0),\n",
              " ('babe', 0.9132986068725586),\n",
              " ('someone', 0.8914992809295654),\n",
              " ('nothing', 0.8811879754066467),\n",
              " ('need', 0.8758756518363953),\n",
              " (\"didn't\", 0.8689683079719543),\n",
              " (\"there's\", 0.8557919859886169),\n",
              " ('you', 0.8447725772857666),\n",
              " ('feed', 0.8422104716300964),\n",
              " ('somebody', 0.8385539054870605)]"
            ]
          },
          "metadata": {},
          "execution_count": 24
        }
      ],
      "source": [
        "# el método `most_similar` también permite comparar a partir de vectores\n",
        "w2v_model.wv.most_similar(vector_love)"
      ]
    },
    {
      "cell_type": "code",
      "execution_count": null,
      "metadata": {
        "id": "A-m3D_paE5Eq"
      },
      "outputs": [],
      "source": [
        "# Palabras que MÁS se relacionan con...:\n",
        "w2v_model.wv.most_similar(positive=[\"love\"], topn=10)"
      ]
    },
    {
      "cell_type": "markdown",
      "metadata": {
        "id": "_g8UVWe6lFmh"
      },
      "source": [
        "### 5 - Visualizar agrupación de vectores"
      ]
    },
    {
      "cell_type": "code",
      "execution_count": 46,
      "metadata": {
        "id": "pDxEVXAivjr9"
      },
      "outputs": [],
      "source": [
        "from sklearn.decomposition import IncrementalPCA\n",
        "from sklearn.manifold import TSNE\n",
        "import numpy as np\n",
        "\n",
        "def reduce_dimensions(model, num_dimensions = 2 ):\n",
        "\n",
        "    vectors = np.asarray(model.wv.vectors)\n",
        "    labels = np.asarray(model.wv.index_to_key)\n",
        "\n",
        "\n",
        "    tsne = TSNE(n_components=num_dimensions, random_state=0)\n",
        "    vectors = tsne.fit_transform(vectors)\n",
        "\n",
        "    return vectors, labels"
      ]
    },
    {
      "cell_type": "code",
      "execution_count": 47,
      "metadata": {
        "id": "NCCXtDpcugmd",
        "colab": {
          "base_uri": "https://localhost:8080/",
          "height": 542
        },
        "outputId": "ebb6d7d2-d36a-4da5-ad7c-92647d81efb6"
      },
      "outputs": [
        {
          "output_type": "display_data",
          "data": {
            "text/html": [
              "<html>\n",
              "<head><meta charset=\"utf-8\" /></head>\n",
              "<body>\n",
              "    <div>            <script src=\"https://cdnjs.cloudflare.com/ajax/libs/mathjax/2.7.5/MathJax.js?config=TeX-AMS-MML_SVG\"></script><script type=\"text/javascript\">if (window.MathJax && window.MathJax.Hub && window.MathJax.Hub.Config) {window.MathJax.Hub.Config({SVG: {font: \"STIX-Web\"}});}</script>                <script type=\"text/javascript\">window.PlotlyConfig = {MathJaxConfig: 'local'};</script>\n",
              "        <script charset=\"utf-8\" src=\"https://cdn.plot.ly/plotly-2.24.1.min.js\"></script>                <div id=\"c115cbb4-f3d3-4650-a739-d91091f40198\" class=\"plotly-graph-div\" style=\"height:525px; width:100%;\"></div>            <script type=\"text/javascript\">                                    window.PLOTLYENV=window.PLOTLYENV || {};                                    if (document.getElementById(\"c115cbb4-f3d3-4650-a739-d91091f40198\")) {                    Plotly.newPlot(                        \"c115cbb4-f3d3-4650-a739-d91091f40198\",                        [{\"hovertemplate\":\"x=%{x}\\u003cbr\\u003ey=%{y}\\u003cbr\\u003etext=%{text}\\u003cextra\\u003e\\u003c\\u002fextra\\u003e\",\"legendgroup\":\"\",\"marker\":{\"color\":\"#636efa\",\"symbol\":\"circle\"},\"mode\":\"markers+text\",\"name\":\"\",\"orientation\":\"v\",\"showlegend\":false,\"text\":[\"the\",\"of\",\"and\",\"a\",\"to\",\"in\",\"that\",\"his\",\"it\",\"i\",\"with\",\"but\",\"he\",\"as\",\"is\",\"was\",\"for\",\"all\",\"this\",\"\\u201d\",\"at\",\"by\",\"not\",\"from\",\"whale\",\"be\",\"on\",\"him\",\"so\",\"you\",\"one\",\"or\",\"had\",\"have\",\"now\",\"there\",\"were\",\"they\",\"which\",\"like\",\"their\",\"me\",\"are\",\"then\",\"some\",\"an\",\"when\",\"my\",\"upon\",\"no\",\"out\",\"into\",\"up\",\"more\",\"what\",\"if\",\"them\",\"man\",\"sea\",\"old\",\"we\",\"ship\",\"would\",\"ahab\",\"ye\",\"other\",\"been\",\"over\",\"these\",\"will\",\"its\",\"such\",\"only\",\"down\",\"any\",\"though\",\"yet\",\"head\",\"long\",\"time\",\"who\",\"her\",\"very\",\"about\",\"than\",\"chapter\",\"still\",\"do\",\"great\",\"those\",\"before\",\"said\",\"must\",\"two\",\"boat\",\"has\",\"captain\",\"here\",\"most\",\"seemed\",\"white\",\"last\",\"whales\",\"after\",\"see\",\"way\",\"your\",\"again\",\"did\",\"may\",\"little\",\"thou\",\"round\",\"sperm\",\"while\",\"three\",\"first\",\"through\",\"how\",\"men\",\"stubb\",\"us\",\"say\",\"every\",\"much\",\"being\",\"could\",\"same\",\"off\",\"hand\",\"our\",\"good\",\"can\",\"side\",\"own\",\"well\",\"ever\",\"where\",\"himself\",\"never\",\"queequeg\",\"deck\",\"almost\",\"even\",\"water\",\"should\",\"thing\",\"go\",\"might\",\"away\",\"look\",\"too\",\"made\",\"day\",\"life\",\"among\",\"starbuck\",\"many\",\"fish\",\"far\",\"back\",\"seen\",\"without\",\"world\",\"come\",\"sir\",\"line\",\"eyes\",\"part\",\"sort\",\"right\",\"nor\",\"thought\",\"once\",\"cried\",\"know\",\"night\",\"boats\",\"air\",\"whole\",\"half\",\"crew\",\"full\",\"\\u2019\",\"against\",\"thus\",\"whaling\",\"tell\",\"things\",\"came\",\"each\",\"small\",\"let\",\"thee\",\"whale\\u2019s\",\"take\",\"soon\",\"pequod\",\"feet\",\"mast\"],\"x\":[-19.123634338378906,-10.664063453674316,-0.3508959412574768,12.03253173828125,29.08289909362793,-0.2630687952041626,13.27304458618164,16.53066062927246,17.9406795501709,35.42471694946289,-36.418697357177734,17.93137550354004,9.277353286743164,22.458559036254883,4.239898204803467,11.733535766601562,10.535178184509277,1.6454604864120483,12.942096710205078,23.554563522338867,-17.239364624023438,17.311172485351562,33.855411529541016,-2.4104042053222656,-2.9171271324157715,32.10738754272461,-14.727446556091309,19.198909759521484,19.758262634277344,35.29400634765625,-14.066278457641602,-4.5727009773254395,15.05746841430664,27.293489456176758,14.315425872802734,19.775217056274414,5.706414699554443,35.905582427978516,-15.112667083740234,-23.672344207763672,-17.702505111694336,35.062923431396484,-9.511414527893066,2.4996354579925537,6.920908451080322,34.974979400634766,-0.7500514388084412,17.091211318969727,-14.117548942565918,23.399276733398438,-18.479873657226562,-21.51394271850586,-16.73193359375,15.703060150146484,33.14643478393555,13.836373329162598,8.387850761413574,19.945356369018555,-34.425716400146484,23.45655059814453,14.665689468383789,-2.7239062786102295,38.76795196533203,20.168209075927734,35.8094482421875,-12.899762153625488,21.102148056030273,-22.888458251953125,-13.473614692687988,38.06102752685547,-18.14421272277832,12.759590148925781,12.521868705749512,1.510071039199829,0.7230147123336792,17.537368774414062,9.258288383483887,-32.53507995605469,13.24710750579834,-2.1319291591644287,16.55209732055664,-31.658981323242188,21.31393051147461,12.215275764465332,16.13178825378418,-19.18755531311035,-5.668057918548584,36.191490173339844,2.4602479934692383,-15.551925659179688,9.019083023071289,27.168441772460938,37.62089538574219,-32.14069747924805,-9.50499439239502,12.298324584960938,29.147846221923828,24.972328186035156,3.581547498703003,5.249243259429932,-29.732986450195312,-0.2508811950683594,-18.495929718017578,0.029557498171925545,32.348541259765625,4.6961541175842285,39.15178680419922,1.487354040145874,27.048973083496094,27.279008865356445,9.912467956542969,35.40681457519531,-19.759599685668945,-15.806297302246094,-2.3170125484466553,-30.824604034423828,-3.4347305297851562,-26.260257720947266,25.539518356323242,18.4792537689209,26.39168357849121,26.594911575317383,37.389095306396484,-27.587913513183594,9.46245002746582,11.366375923156738,38.489471435546875,-7.840263366699219,-19.36189842224121,-0.3421676456928253,19.461536407470703,34.422672271728516,39.445831298828125,-25.43710708618164,-3.9438228607177734,22.3480167388916,32.506168365478516,-9.603052139282227,15.534226417541504,26.351606369018555,6.249396324157715,-27.549949645996094,31.52676010131836,-5.203037261962891,-13.534965515136719,37.84185791015625,27.140954971313477,13.14856243133545,26.6124324798584,-17.286823272705078,29.47764778137207,24.265705108642578,11.246183395385742,-9.424656867980957,17.398876190185547,-5.379981994628906,23.48387336730957,-2.08601450920105,-9.264697074890137,0.13128000497817993,-13.099748611450195,24.1030330657959,15.485376358032227,20.60628318786621,13.609904289245605,28.22422218322754,-26.994237899780273,-4.778181076049805,-19.665693283081055,8.82308292388916,22.178417205810547,39.654117584228516,25.720232009887695,7.9936089515686035,26.70498275756836,35.57111740112305,0.40140974521636963,-32.8605842590332,-21.791038513183594,-8.215567588806152,5.637981414794922,-7.476063251495361,-12.612714767456055,29.965681076049805,-19.60624885559082,3.3415298461914062,-2.5061612129211426,33.05252456665039,14.27966594696045,-8.4970703125,-32.16341018676758,-3.7113876342773438,32.716346740722656,37.2603645324707,-33.07135009765625,34.095115661621094,1.7801967859268188,-9.182190895080566,-30.793319702148438,-21.38995933532715],\"xaxis\":\"x\",\"y\":[1.9255708456039429,-17.4638671875,2.270134925842285,-6.194207668304443,-6.187623500823975,-3.948596239089966,-6.753631114959717,31.80855941772461,-2.284741163253784,11.820252418518066,14.095182418823242,-3.9942703247070312,10.497442245483398,-17.97867202758789,-16.437761306762695,1.5184941291809082,-7.025976181030273,-27.197195053100586,-7.5184478759765625,19.546415328979492,9.55247974395752,13.109536170959473,-7.023989200592041,12.706944465637207,-31.38211441040039,-13.955668449401855,13.225143432617188,-6.61663293838501,-23.83407211303711,10.743168830871582,16.931804656982422,-36.57332229614258,5.264924049377441,3.092057466506958,8.965313911437988,-0.650326669216156,7.684194087982178,-8.933232307434082,-0.4515778124332428,5.125368595123291,-16.032028198242188,9.634400367736816,-29.207746505737305,31.522798538208008,-33.32091522216797,-11.778230667114258,7.877705097198486,31.985572814941406,14.203425407409668,-25.07225227355957,34.12061309814453,23.020856857299805,33.27679443359375,-31.077354431152344,-8.712457656860352,-5.289646148681641,17.152212142944336,-31.034360885620117,4.762299060821533,13.887621879577637,1.1560496091842651,5.4443278312683105,10.5702486038208,26.77126693725586,13.878549575805664,-23.77107048034668,-9.420923233032227,23.344539642333984,-27.438547134399414,12.650528907775879,3.927501916885376,-12.048735618591309,-9.680965423583984,34.12687301635742,-34.52669906616211,-11.019662857055664,-6.23154878616333,15.703104019165039,4.174924373626709,-5.0619893074035645,-6.40375280380249,9.299421310424805,-23.889402389526367,-4.893563747406006,-31.114765167236328,-32.83631134033203,33.62239456176758,1.6931709051132202,-22.639305114746094,-19.26256561279297,23.2428035736084,23.48741912841797,11.654094696044922,-22.180206298828125,30.099397659301758,-15.16747760772705,25.04561996459961,14.724299430847168,-26.84652328491211,-17.05154037475586,4.397660255432129,12.86409854888916,-20.51780891418457,10.270108222961426,4.936774253845215,5.986296653747559,6.5629143714904785,33.37458801269531,1.0212883949279785,-16.22992706298828,1.4446145296096802,20.033689498901367,24.790374755859375,-27.174762725830078,35.97721481323242,-24.113611221313477,-18.86606216430664,4.419547080993652,6.929696559906006,17.343135833740234,25.785051345825195,12.748815536499023,0.7782816290855408,20.062557220458984,-28.860074996948242,-1.2840133905410767,11.700088500976562,-10.806347846984863,28.760576248168945,23.702667236328125,12.477890014648438,8.078970909118652,12.842828750610352,21.562358856201172,23.20514678955078,-2.3663289546966553,10.888439178466797,-16.391021728515625,2.6569223403930664,2.4950146675109863,30.56318473815918,22.479541778564453,-12.074624061584473,-16.638599395751953,12.530655860900879,11.311161994934082,-19.16205596923828,14.71950626373291,-14.787214279174805,29.192636489868164,8.990837097167969,-3.3642284870147705,4.816707134246826,-7.722440242767334,2.2865381240844727,-30.344987869262695,23.74382209777832,-29.091768264770508,-17.522069931030273,18.64130210876465,15.958529472351074,-9.912105560302734,-4.455541133880615,-15.320858001708984,13.603233337402344,20.88301658630371,26.993877410888672,23.9750919342041,-23.313465118408203,-23.85650634765625,14.798945426940918,-1.2860878705978394,-7.9717302322387695,11.92392349243164,24.377349853515625,3.2863118648529053,11.023527145385742,18.463438034057617,10.73888874053955,-11.079750061035156,6.102185249328613,25.561386108398438,-35.623043060302734,22.773109436035156,26.238733291625977,20.690874099731445,-23.16718292236328,3.7859582901000977,-24.4543514251709,29.06288719177246,11.932459831237793,-29.761659622192383,6.520229816436768,18.983125686645508,2.167984962463379,6.9588623046875,33.92422866821289,-4.149238586425781,-20.053247451782227,32.39347457885742],\"yaxis\":\"y\",\"type\":\"scatter\"}],                        {\"template\":{\"data\":{\"histogram2dcontour\":[{\"type\":\"histogram2dcontour\",\"colorbar\":{\"outlinewidth\":0,\"ticks\":\"\"},\"colorscale\":[[0.0,\"#0d0887\"],[0.1111111111111111,\"#46039f\"],[0.2222222222222222,\"#7201a8\"],[0.3333333333333333,\"#9c179e\"],[0.4444444444444444,\"#bd3786\"],[0.5555555555555556,\"#d8576b\"],[0.6666666666666666,\"#ed7953\"],[0.7777777777777778,\"#fb9f3a\"],[0.8888888888888888,\"#fdca26\"],[1.0,\"#f0f921\"]]}],\"choropleth\":[{\"type\":\"choropleth\",\"colorbar\":{\"outlinewidth\":0,\"ticks\":\"\"}}],\"histogram2d\":[{\"type\":\"histogram2d\",\"colorbar\":{\"outlinewidth\":0,\"ticks\":\"\"},\"colorscale\":[[0.0,\"#0d0887\"],[0.1111111111111111,\"#46039f\"],[0.2222222222222222,\"#7201a8\"],[0.3333333333333333,\"#9c179e\"],[0.4444444444444444,\"#bd3786\"],[0.5555555555555556,\"#d8576b\"],[0.6666666666666666,\"#ed7953\"],[0.7777777777777778,\"#fb9f3a\"],[0.8888888888888888,\"#fdca26\"],[1.0,\"#f0f921\"]]}],\"heatmap\":[{\"type\":\"heatmap\",\"colorbar\":{\"outlinewidth\":0,\"ticks\":\"\"},\"colorscale\":[[0.0,\"#0d0887\"],[0.1111111111111111,\"#46039f\"],[0.2222222222222222,\"#7201a8\"],[0.3333333333333333,\"#9c179e\"],[0.4444444444444444,\"#bd3786\"],[0.5555555555555556,\"#d8576b\"],[0.6666666666666666,\"#ed7953\"],[0.7777777777777778,\"#fb9f3a\"],[0.8888888888888888,\"#fdca26\"],[1.0,\"#f0f921\"]]}],\"heatmapgl\":[{\"type\":\"heatmapgl\",\"colorbar\":{\"outlinewidth\":0,\"ticks\":\"\"},\"colorscale\":[[0.0,\"#0d0887\"],[0.1111111111111111,\"#46039f\"],[0.2222222222222222,\"#7201a8\"],[0.3333333333333333,\"#9c179e\"],[0.4444444444444444,\"#bd3786\"],[0.5555555555555556,\"#d8576b\"],[0.6666666666666666,\"#ed7953\"],[0.7777777777777778,\"#fb9f3a\"],[0.8888888888888888,\"#fdca26\"],[1.0,\"#f0f921\"]]}],\"contourcarpet\":[{\"type\":\"contourcarpet\",\"colorbar\":{\"outlinewidth\":0,\"ticks\":\"\"}}],\"contour\":[{\"type\":\"contour\",\"colorbar\":{\"outlinewidth\":0,\"ticks\":\"\"},\"colorscale\":[[0.0,\"#0d0887\"],[0.1111111111111111,\"#46039f\"],[0.2222222222222222,\"#7201a8\"],[0.3333333333333333,\"#9c179e\"],[0.4444444444444444,\"#bd3786\"],[0.5555555555555556,\"#d8576b\"],[0.6666666666666666,\"#ed7953\"],[0.7777777777777778,\"#fb9f3a\"],[0.8888888888888888,\"#fdca26\"],[1.0,\"#f0f921\"]]}],\"surface\":[{\"type\":\"surface\",\"colorbar\":{\"outlinewidth\":0,\"ticks\":\"\"},\"colorscale\":[[0.0,\"#0d0887\"],[0.1111111111111111,\"#46039f\"],[0.2222222222222222,\"#7201a8\"],[0.3333333333333333,\"#9c179e\"],[0.4444444444444444,\"#bd3786\"],[0.5555555555555556,\"#d8576b\"],[0.6666666666666666,\"#ed7953\"],[0.7777777777777778,\"#fb9f3a\"],[0.8888888888888888,\"#fdca26\"],[1.0,\"#f0f921\"]]}],\"mesh3d\":[{\"type\":\"mesh3d\",\"colorbar\":{\"outlinewidth\":0,\"ticks\":\"\"}}],\"scatter\":[{\"fillpattern\":{\"fillmode\":\"overlay\",\"size\":10,\"solidity\":0.2},\"type\":\"scatter\"}],\"parcoords\":[{\"type\":\"parcoords\",\"line\":{\"colorbar\":{\"outlinewidth\":0,\"ticks\":\"\"}}}],\"scatterpolargl\":[{\"type\":\"scatterpolargl\",\"marker\":{\"colorbar\":{\"outlinewidth\":0,\"ticks\":\"\"}}}],\"bar\":[{\"error_x\":{\"color\":\"#2a3f5f\"},\"error_y\":{\"color\":\"#2a3f5f\"},\"marker\":{\"line\":{\"color\":\"#E5ECF6\",\"width\":0.5},\"pattern\":{\"fillmode\":\"overlay\",\"size\":10,\"solidity\":0.2}},\"type\":\"bar\"}],\"scattergeo\":[{\"type\":\"scattergeo\",\"marker\":{\"colorbar\":{\"outlinewidth\":0,\"ticks\":\"\"}}}],\"scatterpolar\":[{\"type\":\"scatterpolar\",\"marker\":{\"colorbar\":{\"outlinewidth\":0,\"ticks\":\"\"}}}],\"histogram\":[{\"marker\":{\"pattern\":{\"fillmode\":\"overlay\",\"size\":10,\"solidity\":0.2}},\"type\":\"histogram\"}],\"scattergl\":[{\"type\":\"scattergl\",\"marker\":{\"colorbar\":{\"outlinewidth\":0,\"ticks\":\"\"}}}],\"scatter3d\":[{\"type\":\"scatter3d\",\"line\":{\"colorbar\":{\"outlinewidth\":0,\"ticks\":\"\"}},\"marker\":{\"colorbar\":{\"outlinewidth\":0,\"ticks\":\"\"}}}],\"scattermapbox\":[{\"type\":\"scattermapbox\",\"marker\":{\"colorbar\":{\"outlinewidth\":0,\"ticks\":\"\"}}}],\"scatterternary\":[{\"type\":\"scatterternary\",\"marker\":{\"colorbar\":{\"outlinewidth\":0,\"ticks\":\"\"}}}],\"scattercarpet\":[{\"type\":\"scattercarpet\",\"marker\":{\"colorbar\":{\"outlinewidth\":0,\"ticks\":\"\"}}}],\"carpet\":[{\"aaxis\":{\"endlinecolor\":\"#2a3f5f\",\"gridcolor\":\"white\",\"linecolor\":\"white\",\"minorgridcolor\":\"white\",\"startlinecolor\":\"#2a3f5f\"},\"baxis\":{\"endlinecolor\":\"#2a3f5f\",\"gridcolor\":\"white\",\"linecolor\":\"white\",\"minorgridcolor\":\"white\",\"startlinecolor\":\"#2a3f5f\"},\"type\":\"carpet\"}],\"table\":[{\"cells\":{\"fill\":{\"color\":\"#EBF0F8\"},\"line\":{\"color\":\"white\"}},\"header\":{\"fill\":{\"color\":\"#C8D4E3\"},\"line\":{\"color\":\"white\"}},\"type\":\"table\"}],\"barpolar\":[{\"marker\":{\"line\":{\"color\":\"#E5ECF6\",\"width\":0.5},\"pattern\":{\"fillmode\":\"overlay\",\"size\":10,\"solidity\":0.2}},\"type\":\"barpolar\"}],\"pie\":[{\"automargin\":true,\"type\":\"pie\"}]},\"layout\":{\"autotypenumbers\":\"strict\",\"colorway\":[\"#636efa\",\"#EF553B\",\"#00cc96\",\"#ab63fa\",\"#FFA15A\",\"#19d3f3\",\"#FF6692\",\"#B6E880\",\"#FF97FF\",\"#FECB52\"],\"font\":{\"color\":\"#2a3f5f\"},\"hovermode\":\"closest\",\"hoverlabel\":{\"align\":\"left\"},\"paper_bgcolor\":\"white\",\"plot_bgcolor\":\"#E5ECF6\",\"polar\":{\"bgcolor\":\"#E5ECF6\",\"angularaxis\":{\"gridcolor\":\"white\",\"linecolor\":\"white\",\"ticks\":\"\"},\"radialaxis\":{\"gridcolor\":\"white\",\"linecolor\":\"white\",\"ticks\":\"\"}},\"ternary\":{\"bgcolor\":\"#E5ECF6\",\"aaxis\":{\"gridcolor\":\"white\",\"linecolor\":\"white\",\"ticks\":\"\"},\"baxis\":{\"gridcolor\":\"white\",\"linecolor\":\"white\",\"ticks\":\"\"},\"caxis\":{\"gridcolor\":\"white\",\"linecolor\":\"white\",\"ticks\":\"\"}},\"coloraxis\":{\"colorbar\":{\"outlinewidth\":0,\"ticks\":\"\"}},\"colorscale\":{\"sequential\":[[0.0,\"#0d0887\"],[0.1111111111111111,\"#46039f\"],[0.2222222222222222,\"#7201a8\"],[0.3333333333333333,\"#9c179e\"],[0.4444444444444444,\"#bd3786\"],[0.5555555555555556,\"#d8576b\"],[0.6666666666666666,\"#ed7953\"],[0.7777777777777778,\"#fb9f3a\"],[0.8888888888888888,\"#fdca26\"],[1.0,\"#f0f921\"]],\"sequentialminus\":[[0.0,\"#0d0887\"],[0.1111111111111111,\"#46039f\"],[0.2222222222222222,\"#7201a8\"],[0.3333333333333333,\"#9c179e\"],[0.4444444444444444,\"#bd3786\"],[0.5555555555555556,\"#d8576b\"],[0.6666666666666666,\"#ed7953\"],[0.7777777777777778,\"#fb9f3a\"],[0.8888888888888888,\"#fdca26\"],[1.0,\"#f0f921\"]],\"diverging\":[[0,\"#8e0152\"],[0.1,\"#c51b7d\"],[0.2,\"#de77ae\"],[0.3,\"#f1b6da\"],[0.4,\"#fde0ef\"],[0.5,\"#f7f7f7\"],[0.6,\"#e6f5d0\"],[0.7,\"#b8e186\"],[0.8,\"#7fbc41\"],[0.9,\"#4d9221\"],[1,\"#276419\"]]},\"xaxis\":{\"gridcolor\":\"white\",\"linecolor\":\"white\",\"ticks\":\"\",\"title\":{\"standoff\":15},\"zerolinecolor\":\"white\",\"automargin\":true,\"zerolinewidth\":2},\"yaxis\":{\"gridcolor\":\"white\",\"linecolor\":\"white\",\"ticks\":\"\",\"title\":{\"standoff\":15},\"zerolinecolor\":\"white\",\"automargin\":true,\"zerolinewidth\":2},\"scene\":{\"xaxis\":{\"backgroundcolor\":\"#E5ECF6\",\"gridcolor\":\"white\",\"linecolor\":\"white\",\"showbackground\":true,\"ticks\":\"\",\"zerolinecolor\":\"white\",\"gridwidth\":2},\"yaxis\":{\"backgroundcolor\":\"#E5ECF6\",\"gridcolor\":\"white\",\"linecolor\":\"white\",\"showbackground\":true,\"ticks\":\"\",\"zerolinecolor\":\"white\",\"gridwidth\":2},\"zaxis\":{\"backgroundcolor\":\"#E5ECF6\",\"gridcolor\":\"white\",\"linecolor\":\"white\",\"showbackground\":true,\"ticks\":\"\",\"zerolinecolor\":\"white\",\"gridwidth\":2}},\"shapedefaults\":{\"line\":{\"color\":\"#2a3f5f\"}},\"annotationdefaults\":{\"arrowcolor\":\"#2a3f5f\",\"arrowhead\":0,\"arrowwidth\":1},\"geo\":{\"bgcolor\":\"white\",\"landcolor\":\"#E5ECF6\",\"subunitcolor\":\"white\",\"showland\":true,\"showlakes\":true,\"lakecolor\":\"white\"},\"title\":{\"x\":0.05},\"mapbox\":{\"style\":\"light\"}}},\"xaxis\":{\"anchor\":\"y\",\"domain\":[0.0,1.0],\"title\":{\"text\":\"x\"}},\"yaxis\":{\"anchor\":\"x\",\"domain\":[0.0,1.0],\"title\":{\"text\":\"y\"}},\"legend\":{\"tracegroupgap\":0},\"margin\":{\"t\":60}},                        {\"responsive\": true}                    ).then(function(){\n",
              "                            \n",
              "var gd = document.getElementById('c115cbb4-f3d3-4650-a739-d91091f40198');\n",
              "var x = new MutationObserver(function (mutations, observer) {{\n",
              "        var display = window.getComputedStyle(gd).display;\n",
              "        if (!display || display === 'none') {{\n",
              "            console.log([gd, 'removed!']);\n",
              "            Plotly.purge(gd);\n",
              "            observer.disconnect();\n",
              "        }}\n",
              "}});\n",
              "\n",
              "// Listen for the removal of the full notebook cells\n",
              "var notebookContainer = gd.closest('#notebook-container');\n",
              "if (notebookContainer) {{\n",
              "    x.observe(notebookContainer, {childList: true});\n",
              "}}\n",
              "\n",
              "// Listen for the clearing of the current output cell\n",
              "var outputEl = gd.closest('.output');\n",
              "if (outputEl) {{\n",
              "    x.observe(outputEl, {childList: true});\n",
              "}}\n",
              "\n",
              "                        })                };                            </script>        </div>\n",
              "</body>\n",
              "</html>"
            ]
          },
          "metadata": {}
        }
      ],
      "source": [
        "# Graficar los embedddings en 2D\n",
        "import plotly.graph_objects as go\n",
        "import plotly.express as px\n",
        "\n",
        "vecs, labels = reduce_dimensions(w2v_model)\n",
        "\n",
        "MAX_WORDS=200\n",
        "fig = px.scatter(x=vecs[:MAX_WORDS,0], y=vecs[:MAX_WORDS,1], text=labels[:MAX_WORDS])\n",
        "fig.show(renderer=\"colab\") # esto para plotly en colab"
      ]
    },
    {
      "cell_type": "code",
      "execution_count": 27,
      "metadata": {
        "colab": {
          "base_uri": "https://localhost:8080/",
          "height": 542
        },
        "id": "irzuNkgxE5Eq",
        "outputId": "d9067320-de2d-4c8a-8bad-05747a96b7e1"
      },
      "outputs": [
        {
          "output_type": "display_data",
          "data": {
            "text/html": [
              "<html>\n",
              "<head><meta charset=\"utf-8\" /></head>\n",
              "<body>\n",
              "    <div>            <script src=\"https://cdnjs.cloudflare.com/ajax/libs/mathjax/2.7.5/MathJax.js?config=TeX-AMS-MML_SVG\"></script><script type=\"text/javascript\">if (window.MathJax && window.MathJax.Hub && window.MathJax.Hub.Config) {window.MathJax.Hub.Config({SVG: {font: \"STIX-Web\"}});}</script>                <script type=\"text/javascript\">window.PlotlyConfig = {MathJaxConfig: 'local'};</script>\n",
              "        <script charset=\"utf-8\" src=\"https://cdn.plot.ly/plotly-2.24.1.min.js\"></script>                <div id=\"b5c4c8c3-f5e5-4fb5-95ed-d5c751e4d997\" class=\"plotly-graph-div\" style=\"height:525px; width:100%;\"></div>            <script type=\"text/javascript\">                                    window.PLOTLYENV=window.PLOTLYENV || {};                                    if (document.getElementById(\"b5c4c8c3-f5e5-4fb5-95ed-d5c751e4d997\")) {                    Plotly.newPlot(                        \"b5c4c8c3-f5e5-4fb5-95ed-d5c751e4d997\",                        [{\"hovertemplate\":\"x=%{x}\\u003cbr\\u003ey=%{y}\\u003cbr\\u003ez=%{z}\\u003cbr\\u003etext=%{text}\\u003cextra\\u003e\\u003c\\u002fextra\\u003e\",\"legendgroup\":\"\",\"marker\":{\"color\":\"#636efa\",\"symbol\":\"circle\",\"size\":2},\"mode\":\"markers+text\",\"name\":\"\",\"scene\":\"scene\",\"showlegend\":false,\"text\":[\"you\",\"i\",\"the\",\"to\",\"and\",\"love\",\"a\",\"me\",\"in\",\"all\",\"nah\",\"my\",\"it\",\"know\",\"that\",\"be\",\"on\",\"of\",\"she\",\"is\",\"say\",\"now\",\"oh\",\"your\",\"yeah\",\"get\",\"don't\",\"back\",\"with\",\"let\",\"her\",\"can\",\"it's\",\"do\",\"when\",\"come\",\"i'm\",\"will\",\"he\",\"but\",\"for\",\"so\",\"there\",\"need\",\"like\",\"together\",\"no\",\"i'll\",\"see\",\"we\",\"was\",\"never\",\"down\",\"if\",\"way\",\"want\",\"hey\",\"out\",\"one\",\"got\",\"can't\",\"girl\",\"well\",\"good\",\"go\",\"sun\",\"his\",\"hello\",\"home\",\"they\",\"day\",\"are\",\"ah\",\"right\",\"from\",\"little\",\"at\",\"man\",\"help\",\"here\",\"have\",\"gonna\",\"not\",\"world\",\"what\",\"going\",\"how\",\"please\",\"still\",\"too\",\"just\",\"you're\",\"time\",\"as\",\"make\",\"long\",\"yes\",\"yellow\",\"life\",\"once\",\"sky\",\"been\",\"think\",\"tell\",\"why\",\"only\",\"where\",\"people\",\"she's\",\"eyes\",\"jude\",\"take\",\"submarine\",\"up\",\"hold\",\"goodbye\",\"give\",\"nowhere\",\"sing\",\"look\",\"friends\",\"always\",\"hand\",\"boy\",\"we're\",\"am\",\"away\",\"darling\",\"goo\",\"nothing\",\"should\",\"lonely\",\"could\",\"feel\",\"some\",\"night\",\"comes\",\"had\",\"would\",\"better\",\"head\",\"them\",\"four\",\"buy\",\"more\",\"i've\",\"la\",\"mind\",\"two\",\"this\",\"everything\",\"carry\",\"by\",\"our\",\"sunshine\",\"weight\",\"change\",\"us\",\"lucy\",\"birthday\",\"an\",\"true\",\"you'll\",\"every\",\"pretty\",\"three\",\"diamonds\",\"before\",\"believe\",\"these\",\"i'd\",\"words\",\"mm\",\"work\",\"dear\",\"leave\",\"were\",\"mine\",\"there's\",\"nobody\",\"told\",\"money\",\"bom\",\"said\",\"forever\",\"round\",\"children\",\"'cause\",\"something\",\"about\",\"waiting\",\"standing\",\"who\",\"didn't\",\"try\",\"loves\",\"then\",\"hide\",\"saw\",\"prudence\"],\"x\":[-20.70174789428711,-4.842916965484619,-2.087230682373047,-11.692377090454102,-7.35446310043335,-27.039487838745117,-14.26610279083252,-17.421154022216797,-4.499321460723877,-12.379899024963379,26.850841522216797,-25.563459396362305,-24.64095115661621,5.583834648132324,-9.343039512634277,23.512548446655273,-11.185493469238281,5.517962455749512,19.142744064331055,-12.969707489013672,4.0808000564575195,-12.270428657531738,-3.123403310775757,-28.166471481323242,16.299949645996094,-24.248680114746094,9.296492576599121,-21.182430267333984,-11.875960350036621,27.869577407836914,-23.534597396850586,-15.325037956237793,0.8760161399841309,-10.731039047241211,-18.107065200805664,-10.797502517700195,6.681725978851318,-24.461063385009766,1.504481315612793,-3.855078935623169,-2.061936616897583,-9.835709571838379,-14.244858741760254,-28.589210510253906,-12.695056915283203,-11.606498718261719,-10.663736343383789,13.960453987121582,-22.348072052001953,7.161238670349121,-16.41486358642578,-5.875168323516846,28.213058471679688,-10.613604545593262,-14.045517921447754,-27.535240173339844,24.033601760864258,-16.462703704833984,-0.5375293493270874,7.406795024871826,-3.132566452026367,8.947422981262207,17.511913299560547,7.95676326751709,5.326284885406494,19.433752059936523,7.982795238494873,8.153658866882324,-18.516876220703125,-17.315412521362305,4.182944297790527,-9.62803840637207,33.217323303222656,-11.378174781799316,-26.10731315612793,-24.539079666137695,28.27685546875,13.445439338684082,-30.154966354370117,22.782739639282227,-2.9446332454681396,-20.781566619873047,-6.7115678787231445,-21.755815505981445,-0.0451468862593174,-0.8066151738166809,7.572689056396484,-13.715994834899902,-27.63245391845703,-6.965902328491211,-0.22458642721176147,-15.00869369506836,-6.296000003814697,5.1887640953063965,16.875381469726562,-8.38963794708252,0.013034339062869549,3.42018723487854,-21.41933822631836,-21.644622802734375,-12.92221450805664,11.667064666748047,-6.374897003173828,-22.47637367248535,7.817523002624512,5.127618789672852,-24.049692153930664,21.062490463256836,5.62860107421875,-0.3056574761867523,24.1944580078125,23.09782600402832,0.36492857336997986,-5.144260406494141,-24.236520767211914,9.102872848510742,9.040915489196777,10.893241882324219,-20.70853042602539,30.248247146606445,-26.792184829711914,15.393811225891113,-28.43698501586914,-12.106060981750488,-7.499948024749756,2.9922163486480713,-14.79284954071045,-29.60137939453125,33.212318420410156,-22.118345260620117,9.379236221313477,21.400827407836914,1.2193886041641235,5.074190139770508,-4.189870357513428,6.357025146484375,20.005069732666016,21.234054565429688,-13.154454231262207,18.736576080322266,3.910231828689575,27.378135681152344,11.952752113342285,-6.522375106811523,14.881383895874023,6.950300693511963,33.662506103515625,-20.968894958496094,-1.8993152379989624,7.8439130783081055,6.799672603607178,-15.635348320007324,-17.318525314331055,-9.509759902954102,8.171910285949707,-13.249493598937988,-22.250638961791992,2.868911027908325,-10.737271308898926,-7.1968536376953125,5.579050540924072,17.124441146850586,3.0117688179016113,7.60103178024292,-25.11476707458496,12.461996078491211,-14.696564674377441,-4.289937973022461,-11.854793548583984,-8.163798332214355,-14.682543754577637,24.647974014282227,32.67981719970703,-19.222166061401367,-6.168342590332031,22.603004455566406,-4.002346038818359,25.20058250427246,-13.967489242553711,8.379024505615234,-16.216110229492188,-2.406233310699463,25.49074935913086,-5.808550834655762,12.19885540008545,-16.788959503173828,7.060634613037109,5.405200958251953,-6.3633503913879395,-1.3430988788604736,10.363539695739746,20.02126693725586,9.794326782226562,-19.10593605041504,-18.616830825805664,17.738676071166992,2.2558395862579346,3.3550221920013428,-11.00703239440918,-9.694595336914062],\"y\":[-33.02185821533203,-36.343441009521484,8.03756332397461,-0.08039607107639313,-0.9042083024978638,-28.45966911315918,25.63506507873535,-20.641178131103516,21.236055374145508,11.815224647521973,-9.043906211853027,6.660909175872803,11.190077781677246,-35.65229415893555,-18.284269332885742,-23.0659236907959,22.840919494628906,9.893253326416016,0.9729418158531189,2.2556324005126953,-37.613365173339844,14.312797546386719,-33.291709899902344,-11.722553253173828,-0.43999695777893066,31.365324020385742,-36.44647979736328,35.431034088134766,21.633731842041016,-25.542943954467773,-8.149267196655273,-22.36693000793457,-24.47307014465332,-30.45068359375,-32.55329132080078,22.82413673400879,7.570070266723633,-14.677238464355469,-7.678305149078369,-8.446162223815918,-20.98443603515625,-23.666311264038086,37.11253356933594,-23.03582763671875,-16.704666137695312,18.819421768188477,-36.0027961730957,-25.089630126953125,-18.63086700439453,33.840885162353516,36.09284591674805,-36.51894760131836,-22.145280838012695,-24.47599220275879,32.08597946166992,-19.505891799926758,-13.56144905090332,17.096586227416992,-13.92622184753418,-14.753288269042969,-19.191999435424805,1.9438802003860474,-7.990963459014893,35.915409088134766,32.32810974121094,-4.694710731506348,21.044130325317383,-36.09192657470703,31.317529678344727,3.3188202381134033,35.17616271972656,-6.811853408813477,7.061426162719727,16.26946258544922,18.17439079284668,20.274314880371094,10.12615966796875,26.625417709350586,17.21016502380371,-3.580101251602173,-8.057157516479492,-15.907221794128418,-35.203224182128906,-5.900054931640625,-35.399837493896484,9.278959274291992,-24.217060089111328,-22.684673309326172,-18.000444412231445,-24.208927154541016,-14.684715270996094,-12.363818168640137,-22.85719108581543,-8.454124450683594,-19.756624221801758,-21.275524139404297,-45.1046257019043,31.55310821533203,10.415650367736816,37.431514739990234,19.36345672607422,2.377047061920166,-30.615447998046875,-25.700883865356445,-38.691349029541016,-15.252668380737305,32.350948333740234,12.488750457763672,-4.304233551025391,20.057340621948242,-13.463082313537598,-21.31428337097168,32.21331787109375,25.328044891357422,-17.113737106323242,-38.045345306396484,-20.551502227783203,24.290998458862305,-7.743837833404541,8.5768461227417,14.66805362701416,-17.908649444580078,-15.185302734375,-10.191977500915527,25.15456771850586,-47.30036163330078,-12.418719291687012,20.023963928222656,20.464445114135742,-31.57331085205078,-30.930444717407227,16.84563636779785,-28.80198860168457,-22.636375427246094,-2.0454907417297363,5.383481979370117,-0.6925649642944336,2.4658031463623047,-20.32678985595703,-18.549564361572266,17.3167724609375,-2.644994020462036,19.73244857788086,-21.068117141723633,-18.40892219543457,-8.464309692382812,5.856571197509766,11.256521224975586,-10.832679748535156,-11.322407722473145,-14.084949493408203,-15.669026374816895,22.30632781982422,31.89497184753418,34.15699768066406,-18.824871063232422,-10.44357967376709,26.10533332824707,23.645963668823242,-19.23653793334961,14.797330856323242,-19.393423080444336,-28.928020477294922,25.132404327392578,18.476396560668945,24.298458099365234,22.91329574584961,-17.507038116455078,-27.62765884399414,16.081262588500977,-4.077681064605713,-12.748263359069824,3.7783567905426025,18.248573303222656,11.851758003234863,-27.397361755371094,-3.767521619796753,-0.7669057250022888,-29.931604385375977,-10.355528831481934,-29.155292510986328,-22.97878074645996,21.183019638061523,-7.1273603439331055,-12.047886848449707,-1.3829759359359741,31.600893020629883,6.902002811431885,0.6105689406394958,-2.1899642944335938,-7.965179443359375,-8.140047073364258,24.91197395324707,-24.451583862304688,21.146930694580078,0.48048537969589233,26.376218795776367,-18.087669372558594,-13.854157447814941,14.071683883666992],\"z\":[-10.877095222473145,-3.236016035079956,28.22693634033203,-20.636301040649414,-7.944808483123779,-8.132867813110352,13.808491706848145,-18.37630844116211,30.277803421020508,-30.27901268005371,-23.227920532226562,15.997942924499512,-17.040237426757812,-11.390817642211914,16.00918197631836,4.197617053985596,-17.063213348388672,29.22148895263672,-21.713708877563477,28.093795776367188,-3.17647385597229,-27.382614135742188,-21.555747985839844,-21.073787689208984,-30.29911231994629,-10.528484344482422,-14.872415542602539,-10.130834579467773,25.79326820373535,-0.10566841810941696,-2.0367844104766846,5.076129913330078,6.778334140777588,-22.763988494873047,-18.99213981628418,-21.512310028076172,-30.294004440307617,-10.766328811645508,-13.32095718383789,-20.577564239501953,23.193952560424805,-16.322227478027344,3.232713222503662,-9.641104698181152,-20.92057991027832,-28.907005310058594,-9.785152435302734,1.5654581785202026,-0.9160849452018738,18.128141403198242,-0.17094755172729492,-13.955916404724121,-3.9464550018310547,-8.1653413772583,-6.797565460205078,-20.001976013183594,-24.99526596069336,-16.453481674194336,35.157562255859375,-29.331640243530273,-35.78357696533203,32.526851654052734,-0.10683003067970276,-0.6433107852935791,-9.796364784240723,29.87096405029297,27.158172607421875,2.205564022064209,-11.916142463684082,-11.3096923828125,2.768235921859741,11.855452537536621,7.138778209686279,-33.42558288574219,16.990713119506836,13.126189231872559,13.643757820129395,12.901433944702148,12.624765396118164,27.19806671142578,12.33061695098877,24.101102828979492,8.987217903137207,21.82642936706543,-14.814866065979004,-24.270944595336914,-4.208587646484375,-25.188770294189453,-9.596856117248535,12.712556838989258,-27.286746978759766,26.21221160888672,18.304668426513672,12.470185279846191,-12.998066902160645,23.420759201049805,-2.435148239135742,26.649694442749023,24.002811431884766,-2.240281581878662,31.9920597076416,16.09184455871582,-7.308736801147461,-15.986778259277344,-6.818373680114746,21.893909454345703,-3.6282858848571777,23.579952239990234,30.843507766723633,27.105974197387695,-20.8680419921875,-7.349334239959717,24.445205688476562,1.506791591644287,-24.53566551208496,-1.1003389358520508,-24.0443058013916,21.358524322509766,-13.12330150604248,11.023859977722168,14.714619636535645,5.892159938812256,-22.357765197753906,24.416950225830078,-10.208999633789062,1.073091983795166,-2.8671724796295166,4.907151222229004,-7.607588768005371,-4.781811237335205,-9.551775932312012,25.908700942993164,-6.230020046234131,-17.18745231628418,14.464554786682129,23.312246322631836,28.42277717590332,-11.175091743469238,0.46233490109443665,-16.904285430908203,25.5950984954834,11.342906951904297,-29.04829978942871,-34.56233596801758,-26.896202087402344,-24.87331199645996,-0.8693773150444031,17.161495208740234,38.4440803527832,20.351863861083984,-22.385894775390625,21.36009407043457,9.333673477172852,-7.729740142822266,3.1685075759887695,23.316518783569336,21.12537956237793,8.357831954956055,30.67890739440918,-2.6363441944122314,38.63822555541992,2.398575782775879,-15.307424545288086,2.0064492225646973,4.76200008392334,-26.962722778320312,28.980533599853516,17.190547943115234,-14.920269012451172,15.80411148071289,-5.199893474578857,-0.5400740504264832,-11.24717903137207,-18.788272857666016,-15.216363906860352,-9.447664260864258,26.54924201965332,0.29850080609321594,-2.3312008380889893,3.0243752002716064,-14.996289253234863,-33.33751678466797,7.132770538330078,7.5863871574401855,-15.532508850097656,16.928329467773438,-4.815250396728516,-24.978872299194336,2.6500442028045654,-17.269102096557617,23.142702102661133,18.415332794189453,16.159135818481445,-12.170339584350586,5.137688636779785,-26.21284294128418,-19.641996383666992,-27.17758560180664,4.501203536987305,-14.844599723815918],\"type\":\"scatter3d\"}],                        {\"template\":{\"data\":{\"histogram2dcontour\":[{\"type\":\"histogram2dcontour\",\"colorbar\":{\"outlinewidth\":0,\"ticks\":\"\"},\"colorscale\":[[0.0,\"#0d0887\"],[0.1111111111111111,\"#46039f\"],[0.2222222222222222,\"#7201a8\"],[0.3333333333333333,\"#9c179e\"],[0.4444444444444444,\"#bd3786\"],[0.5555555555555556,\"#d8576b\"],[0.6666666666666666,\"#ed7953\"],[0.7777777777777778,\"#fb9f3a\"],[0.8888888888888888,\"#fdca26\"],[1.0,\"#f0f921\"]]}],\"choropleth\":[{\"type\":\"choropleth\",\"colorbar\":{\"outlinewidth\":0,\"ticks\":\"\"}}],\"histogram2d\":[{\"type\":\"histogram2d\",\"colorbar\":{\"outlinewidth\":0,\"ticks\":\"\"},\"colorscale\":[[0.0,\"#0d0887\"],[0.1111111111111111,\"#46039f\"],[0.2222222222222222,\"#7201a8\"],[0.3333333333333333,\"#9c179e\"],[0.4444444444444444,\"#bd3786\"],[0.5555555555555556,\"#d8576b\"],[0.6666666666666666,\"#ed7953\"],[0.7777777777777778,\"#fb9f3a\"],[0.8888888888888888,\"#fdca26\"],[1.0,\"#f0f921\"]]}],\"heatmap\":[{\"type\":\"heatmap\",\"colorbar\":{\"outlinewidth\":0,\"ticks\":\"\"},\"colorscale\":[[0.0,\"#0d0887\"],[0.1111111111111111,\"#46039f\"],[0.2222222222222222,\"#7201a8\"],[0.3333333333333333,\"#9c179e\"],[0.4444444444444444,\"#bd3786\"],[0.5555555555555556,\"#d8576b\"],[0.6666666666666666,\"#ed7953\"],[0.7777777777777778,\"#fb9f3a\"],[0.8888888888888888,\"#fdca26\"],[1.0,\"#f0f921\"]]}],\"heatmapgl\":[{\"type\":\"heatmapgl\",\"colorbar\":{\"outlinewidth\":0,\"ticks\":\"\"},\"colorscale\":[[0.0,\"#0d0887\"],[0.1111111111111111,\"#46039f\"],[0.2222222222222222,\"#7201a8\"],[0.3333333333333333,\"#9c179e\"],[0.4444444444444444,\"#bd3786\"],[0.5555555555555556,\"#d8576b\"],[0.6666666666666666,\"#ed7953\"],[0.7777777777777778,\"#fb9f3a\"],[0.8888888888888888,\"#fdca26\"],[1.0,\"#f0f921\"]]}],\"contourcarpet\":[{\"type\":\"contourcarpet\",\"colorbar\":{\"outlinewidth\":0,\"ticks\":\"\"}}],\"contour\":[{\"type\":\"contour\",\"colorbar\":{\"outlinewidth\":0,\"ticks\":\"\"},\"colorscale\":[[0.0,\"#0d0887\"],[0.1111111111111111,\"#46039f\"],[0.2222222222222222,\"#7201a8\"],[0.3333333333333333,\"#9c179e\"],[0.4444444444444444,\"#bd3786\"],[0.5555555555555556,\"#d8576b\"],[0.6666666666666666,\"#ed7953\"],[0.7777777777777778,\"#fb9f3a\"],[0.8888888888888888,\"#fdca26\"],[1.0,\"#f0f921\"]]}],\"surface\":[{\"type\":\"surface\",\"colorbar\":{\"outlinewidth\":0,\"ticks\":\"\"},\"colorscale\":[[0.0,\"#0d0887\"],[0.1111111111111111,\"#46039f\"],[0.2222222222222222,\"#7201a8\"],[0.3333333333333333,\"#9c179e\"],[0.4444444444444444,\"#bd3786\"],[0.5555555555555556,\"#d8576b\"],[0.6666666666666666,\"#ed7953\"],[0.7777777777777778,\"#fb9f3a\"],[0.8888888888888888,\"#fdca26\"],[1.0,\"#f0f921\"]]}],\"mesh3d\":[{\"type\":\"mesh3d\",\"colorbar\":{\"outlinewidth\":0,\"ticks\":\"\"}}],\"scatter\":[{\"fillpattern\":{\"fillmode\":\"overlay\",\"size\":10,\"solidity\":0.2},\"type\":\"scatter\"}],\"parcoords\":[{\"type\":\"parcoords\",\"line\":{\"colorbar\":{\"outlinewidth\":0,\"ticks\":\"\"}}}],\"scatterpolargl\":[{\"type\":\"scatterpolargl\",\"marker\":{\"colorbar\":{\"outlinewidth\":0,\"ticks\":\"\"}}}],\"bar\":[{\"error_x\":{\"color\":\"#2a3f5f\"},\"error_y\":{\"color\":\"#2a3f5f\"},\"marker\":{\"line\":{\"color\":\"#E5ECF6\",\"width\":0.5},\"pattern\":{\"fillmode\":\"overlay\",\"size\":10,\"solidity\":0.2}},\"type\":\"bar\"}],\"scattergeo\":[{\"type\":\"scattergeo\",\"marker\":{\"colorbar\":{\"outlinewidth\":0,\"ticks\":\"\"}}}],\"scatterpolar\":[{\"type\":\"scatterpolar\",\"marker\":{\"colorbar\":{\"outlinewidth\":0,\"ticks\":\"\"}}}],\"histogram\":[{\"marker\":{\"pattern\":{\"fillmode\":\"overlay\",\"size\":10,\"solidity\":0.2}},\"type\":\"histogram\"}],\"scattergl\":[{\"type\":\"scattergl\",\"marker\":{\"colorbar\":{\"outlinewidth\":0,\"ticks\":\"\"}}}],\"scatter3d\":[{\"type\":\"scatter3d\",\"line\":{\"colorbar\":{\"outlinewidth\":0,\"ticks\":\"\"}},\"marker\":{\"colorbar\":{\"outlinewidth\":0,\"ticks\":\"\"}}}],\"scattermapbox\":[{\"type\":\"scattermapbox\",\"marker\":{\"colorbar\":{\"outlinewidth\":0,\"ticks\":\"\"}}}],\"scatterternary\":[{\"type\":\"scatterternary\",\"marker\":{\"colorbar\":{\"outlinewidth\":0,\"ticks\":\"\"}}}],\"scattercarpet\":[{\"type\":\"scattercarpet\",\"marker\":{\"colorbar\":{\"outlinewidth\":0,\"ticks\":\"\"}}}],\"carpet\":[{\"aaxis\":{\"endlinecolor\":\"#2a3f5f\",\"gridcolor\":\"white\",\"linecolor\":\"white\",\"minorgridcolor\":\"white\",\"startlinecolor\":\"#2a3f5f\"},\"baxis\":{\"endlinecolor\":\"#2a3f5f\",\"gridcolor\":\"white\",\"linecolor\":\"white\",\"minorgridcolor\":\"white\",\"startlinecolor\":\"#2a3f5f\"},\"type\":\"carpet\"}],\"table\":[{\"cells\":{\"fill\":{\"color\":\"#EBF0F8\"},\"line\":{\"color\":\"white\"}},\"header\":{\"fill\":{\"color\":\"#C8D4E3\"},\"line\":{\"color\":\"white\"}},\"type\":\"table\"}],\"barpolar\":[{\"marker\":{\"line\":{\"color\":\"#E5ECF6\",\"width\":0.5},\"pattern\":{\"fillmode\":\"overlay\",\"size\":10,\"solidity\":0.2}},\"type\":\"barpolar\"}],\"pie\":[{\"automargin\":true,\"type\":\"pie\"}]},\"layout\":{\"autotypenumbers\":\"strict\",\"colorway\":[\"#636efa\",\"#EF553B\",\"#00cc96\",\"#ab63fa\",\"#FFA15A\",\"#19d3f3\",\"#FF6692\",\"#B6E880\",\"#FF97FF\",\"#FECB52\"],\"font\":{\"color\":\"#2a3f5f\"},\"hovermode\":\"closest\",\"hoverlabel\":{\"align\":\"left\"},\"paper_bgcolor\":\"white\",\"plot_bgcolor\":\"#E5ECF6\",\"polar\":{\"bgcolor\":\"#E5ECF6\",\"angularaxis\":{\"gridcolor\":\"white\",\"linecolor\":\"white\",\"ticks\":\"\"},\"radialaxis\":{\"gridcolor\":\"white\",\"linecolor\":\"white\",\"ticks\":\"\"}},\"ternary\":{\"bgcolor\":\"#E5ECF6\",\"aaxis\":{\"gridcolor\":\"white\",\"linecolor\":\"white\",\"ticks\":\"\"},\"baxis\":{\"gridcolor\":\"white\",\"linecolor\":\"white\",\"ticks\":\"\"},\"caxis\":{\"gridcolor\":\"white\",\"linecolor\":\"white\",\"ticks\":\"\"}},\"coloraxis\":{\"colorbar\":{\"outlinewidth\":0,\"ticks\":\"\"}},\"colorscale\":{\"sequential\":[[0.0,\"#0d0887\"],[0.1111111111111111,\"#46039f\"],[0.2222222222222222,\"#7201a8\"],[0.3333333333333333,\"#9c179e\"],[0.4444444444444444,\"#bd3786\"],[0.5555555555555556,\"#d8576b\"],[0.6666666666666666,\"#ed7953\"],[0.7777777777777778,\"#fb9f3a\"],[0.8888888888888888,\"#fdca26\"],[1.0,\"#f0f921\"]],\"sequentialminus\":[[0.0,\"#0d0887\"],[0.1111111111111111,\"#46039f\"],[0.2222222222222222,\"#7201a8\"],[0.3333333333333333,\"#9c179e\"],[0.4444444444444444,\"#bd3786\"],[0.5555555555555556,\"#d8576b\"],[0.6666666666666666,\"#ed7953\"],[0.7777777777777778,\"#fb9f3a\"],[0.8888888888888888,\"#fdca26\"],[1.0,\"#f0f921\"]],\"diverging\":[[0,\"#8e0152\"],[0.1,\"#c51b7d\"],[0.2,\"#de77ae\"],[0.3,\"#f1b6da\"],[0.4,\"#fde0ef\"],[0.5,\"#f7f7f7\"],[0.6,\"#e6f5d0\"],[0.7,\"#b8e186\"],[0.8,\"#7fbc41\"],[0.9,\"#4d9221\"],[1,\"#276419\"]]},\"xaxis\":{\"gridcolor\":\"white\",\"linecolor\":\"white\",\"ticks\":\"\",\"title\":{\"standoff\":15},\"zerolinecolor\":\"white\",\"automargin\":true,\"zerolinewidth\":2},\"yaxis\":{\"gridcolor\":\"white\",\"linecolor\":\"white\",\"ticks\":\"\",\"title\":{\"standoff\":15},\"zerolinecolor\":\"white\",\"automargin\":true,\"zerolinewidth\":2},\"scene\":{\"xaxis\":{\"backgroundcolor\":\"#E5ECF6\",\"gridcolor\":\"white\",\"linecolor\":\"white\",\"showbackground\":true,\"ticks\":\"\",\"zerolinecolor\":\"white\",\"gridwidth\":2},\"yaxis\":{\"backgroundcolor\":\"#E5ECF6\",\"gridcolor\":\"white\",\"linecolor\":\"white\",\"showbackground\":true,\"ticks\":\"\",\"zerolinecolor\":\"white\",\"gridwidth\":2},\"zaxis\":{\"backgroundcolor\":\"#E5ECF6\",\"gridcolor\":\"white\",\"linecolor\":\"white\",\"showbackground\":true,\"ticks\":\"\",\"zerolinecolor\":\"white\",\"gridwidth\":2}},\"shapedefaults\":{\"line\":{\"color\":\"#2a3f5f\"}},\"annotationdefaults\":{\"arrowcolor\":\"#2a3f5f\",\"arrowhead\":0,\"arrowwidth\":1},\"geo\":{\"bgcolor\":\"white\",\"landcolor\":\"#E5ECF6\",\"subunitcolor\":\"white\",\"showland\":true,\"showlakes\":true,\"lakecolor\":\"white\"},\"title\":{\"x\":0.05},\"mapbox\":{\"style\":\"light\"}}},\"scene\":{\"domain\":{\"x\":[0.0,1.0],\"y\":[0.0,1.0]},\"xaxis\":{\"title\":{\"text\":\"x\"}},\"yaxis\":{\"title\":{\"text\":\"y\"}},\"zaxis\":{\"title\":{\"text\":\"z\"}}},\"legend\":{\"tracegroupgap\":0},\"margin\":{\"t\":60}},                        {\"responsive\": true}                    ).then(function(){\n",
              "                            \n",
              "var gd = document.getElementById('b5c4c8c3-f5e5-4fb5-95ed-d5c751e4d997');\n",
              "var x = new MutationObserver(function (mutations, observer) {{\n",
              "        var display = window.getComputedStyle(gd).display;\n",
              "        if (!display || display === 'none') {{\n",
              "            console.log([gd, 'removed!']);\n",
              "            Plotly.purge(gd);\n",
              "            observer.disconnect();\n",
              "        }}\n",
              "}});\n",
              "\n",
              "// Listen for the removal of the full notebook cells\n",
              "var notebookContainer = gd.closest('#notebook-container');\n",
              "if (notebookContainer) {{\n",
              "    x.observe(notebookContainer, {childList: true});\n",
              "}}\n",
              "\n",
              "// Listen for the clearing of the current output cell\n",
              "var outputEl = gd.closest('.output');\n",
              "if (outputEl) {{\n",
              "    x.observe(outputEl, {childList: true});\n",
              "}}\n",
              "\n",
              "                        })                };                            </script>        </div>\n",
              "</body>\n",
              "</html>"
            ]
          },
          "metadata": {}
        }
      ],
      "source": [
        "# Graficar los embedddings en 3D\n",
        "\n",
        "vecs, labels = reduce_dimensions(w2v_model,3)\n",
        "\n",
        "fig = px.scatter_3d(x=vecs[:MAX_WORDS,0], y=vecs[:MAX_WORDS,1], z=vecs[:MAX_WORDS,2],text=labels[:MAX_WORDS])\n",
        "fig.update_traces(marker_size = 2)\n",
        "fig.show(renderer=\"colab\") # esto para plotly en colab"
      ]
    },
    {
      "cell_type": "code",
      "execution_count": 28,
      "metadata": {
        "id": "7aNtgDxuE5Eq"
      },
      "outputs": [],
      "source": [
        "# También se pueden guardar los vectores y labels como tsv para graficar en\n",
        "# http://projector.tensorflow.org/\n",
        "\n",
        "\n",
        "vectors = np.asarray(w2v_model.wv.vectors)\n",
        "labels = list(w2v_model.wv.index_to_key)\n",
        "\n",
        "np.savetxt(\"vectors.tsv\", vectors, delimiter=\"\\t\")\n",
        "\n",
        "with open(\"labels.tsv\", \"w\") as fp:\n",
        "    for item in labels:\n",
        "        fp.write(\"%s\\n\" % item)"
      ]
    },
    {
      "cell_type": "markdown",
      "metadata": {
        "id": "yMM_SHSaZ9N-"
      },
      "source": [
        "### Alumno"
      ]
    },
    {
      "cell_type": "markdown",
      "metadata": {
        "id": "WivQZ3ZCZ9N_"
      },
      "source": [
        "- Crear sus propios vectores con Gensim basado en lo visto en clase con otro dataset.\n",
        "- Probar términos de interés y explicar similitudes en el espacio de embeddings (sacar conclusiones entre palabras similitudes y diferencias).\n",
        "- Graficarlos.\n",
        "- Obtener conclusiones."
      ]
    }
  ],
  "metadata": {
    "colab": {
      "provenance": [],
      "include_colab_link": true
    },
    "kernelspec": {
      "display_name": "Python 3 (ipykernel)",
      "language": "python",
      "name": "python3"
    },
    "language_info": {
      "codemirror_mode": {
        "name": "ipython",
        "version": 3
      },
      "file_extension": ".py",
      "mimetype": "text/x-python",
      "name": "python",
      "nbconvert_exporter": "python",
      "pygments_lexer": "ipython3",
      "version": "3.10.6"
    }
  },
  "nbformat": 4,
  "nbformat_minor": 0
}