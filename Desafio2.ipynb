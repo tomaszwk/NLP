{
  "cells": [
    {
      "cell_type": "markdown",
      "metadata": {
        "id": "view-in-github",
        "colab_type": "text"
      },
      "source": [
        "<a href=\"https://colab.research.google.com/github/tomaszwk/NLP/blob/main/Desafio2.ipynb\" target=\"_parent\"><img src=\"https://colab.research.google.com/assets/colab-badge.svg\" alt=\"Open In Colab\"/></a>"
      ]
    },
    {
      "cell_type": "markdown",
      "metadata": {
        "id": "sZd5yLnnHOK0"
      },
      "source": [
        "<img src=\"https://github.com/hernancontigiani/ceia_memorias_especializacion/raw/master/Figures/logoFIUBA.jpg\" width=\"500\" align=\"center\">\n",
        "\n",
        "\n",
        "# Procesamiento de lenguaje natural\n",
        "## Custom embedddings con Gensim\n",
        "\n"
      ]
    },
    {
      "cell_type": "markdown",
      "metadata": {
        "id": "vA7nqkumo9z9"
      },
      "source": [
        "### Objetivo\n",
        "El objetivo es utilizar documentos / corpus para crear embeddings de palabras basado en ese contexto. Se utilizará canciones de bandas para generar los embeddings, es decir, que los vectores tendrán la forma en función de como esa banda haya utilizado las palabras en sus canciones."
      ]
    },
    {
      "cell_type": "code",
      "execution_count": 1,
      "metadata": {
        "id": "lFToQs5FK5uZ"
      },
      "outputs": [],
      "source": [
        "import pandas as pd\n",
        "import matplotlib.pyplot as plt\n",
        "import seaborn as sns\n",
        "\n",
        "import multiprocessing\n",
        "from gensim.models import Word2Vec"
      ]
    },
    {
      "cell_type": "markdown",
      "metadata": {
        "id": "g07zJxG7H9vG"
      },
      "source": [
        "### Datos\n",
        "Utilizaremos como dataset canciones de bandas de habla inglesa."
      ]
    },
    {
      "cell_type": "code",
      "source": [
        "import os\n",
        "import requests\n",
        "\n",
        "# URL del libro en formato txt desde el Proyecto Gutenberg\n",
        "url = 'https://www.gutenberg.org/files/2701/2701-0.txt'  # Ejemplo con \"Moby Dick\" de Herman Melville\n",
        "\n",
        "# Nombre del archivo donde se guardará el libro\n",
        "filename = 'moby_dick.txt'\n",
        "\n",
        "# Verificar si el archivo ya existe\n",
        "if not os.path.exists(filename):\n",
        "    print(\"Descargando el libro desde el Proyecto Gutenberg...\")\n",
        "    response = requests.get(url)\n",
        "\n",
        "    if response.status_code == 200:\n",
        "        with open(filename, 'wb') as file:\n",
        "            file.write(response.content)\n",
        "        print(f'El libro se ha descargado y guardado como {filename}')\n",
        "    else:\n",
        "        print(\"Hubo un problema al descargar el libro.\")\n",
        "else:\n",
        "    print(f\"El archivo '{filename}' ya existe.\")\n",
        "\n"
      ],
      "metadata": {
        "colab": {
          "base_uri": "https://localhost:8080/"
        },
        "id": "_iCQ3CaFHwP9",
        "outputId": "80e6327c-a292-4473-8071-db7dacc92aae"
      },
      "execution_count": 2,
      "outputs": [
        {
          "output_type": "stream",
          "name": "stdout",
          "text": [
            "El archivo 'moby_dick.txt' ya existe.\n"
          ]
        }
      ]
    },
    {
      "cell_type": "code",
      "execution_count": 3,
      "metadata": {
        "id": "ticoqYD1Z3I7",
        "colab": {
          "base_uri": "https://localhost:8080/",
          "height": 242
        },
        "outputId": "6e4f9b1f-ec60-4579-e808-7a34fb0168f3"
      },
      "outputs": [
        {
          "output_type": "stream",
          "name": "stderr",
          "text": [
            "[nltk_data] Downloading package punkt to /root/nltk_data...\n",
            "[nltk_data]   Package punkt is already up-to-date!\n"
          ]
        },
        {
          "output_type": "execute_result",
          "data": {
            "text/plain": [
              "                                            Sentence\n",
              "0  ﻿The Project Gutenberg eBook of Moby-Dick; or ...\n",
              "1  You may copy it, give it away or re-use it und...\n",
              "2  If you are not located in the United States, y...\n",
              "3  Title: Moby-Dick; or The Whale\\n\\nAuthor: Herm...\n",
              "4   By Herman Melville\\n\\n\\n\\nCONTENTS\\n\\nETYMOLOGY."
            ],
            "text/html": [
              "\n",
              "  <div id=\"df-336d914e-6fc8-457f-950b-9722a8adec5b\" class=\"colab-df-container\">\n",
              "    <div>\n",
              "<style scoped>\n",
              "    .dataframe tbody tr th:only-of-type {\n",
              "        vertical-align: middle;\n",
              "    }\n",
              "\n",
              "    .dataframe tbody tr th {\n",
              "        vertical-align: top;\n",
              "    }\n",
              "\n",
              "    .dataframe thead th {\n",
              "        text-align: right;\n",
              "    }\n",
              "</style>\n",
              "<table border=\"1\" class=\"dataframe\">\n",
              "  <thead>\n",
              "    <tr style=\"text-align: right;\">\n",
              "      <th></th>\n",
              "      <th>Sentence</th>\n",
              "    </tr>\n",
              "  </thead>\n",
              "  <tbody>\n",
              "    <tr>\n",
              "      <th>0</th>\n",
              "      <td>﻿The Project Gutenberg eBook of Moby-Dick; or ...</td>\n",
              "    </tr>\n",
              "    <tr>\n",
              "      <th>1</th>\n",
              "      <td>You may copy it, give it away or re-use it und...</td>\n",
              "    </tr>\n",
              "    <tr>\n",
              "      <th>2</th>\n",
              "      <td>If you are not located in the United States, y...</td>\n",
              "    </tr>\n",
              "    <tr>\n",
              "      <th>3</th>\n",
              "      <td>Title: Moby-Dick; or The Whale\\n\\nAuthor: Herm...</td>\n",
              "    </tr>\n",
              "    <tr>\n",
              "      <th>4</th>\n",
              "      <td>By Herman Melville\\n\\n\\n\\nCONTENTS\\n\\nETYMOLOGY.</td>\n",
              "    </tr>\n",
              "  </tbody>\n",
              "</table>\n",
              "</div>\n",
              "    <div class=\"colab-df-buttons\">\n",
              "\n",
              "  <div class=\"colab-df-container\">\n",
              "    <button class=\"colab-df-convert\" onclick=\"convertToInteractive('df-336d914e-6fc8-457f-950b-9722a8adec5b')\"\n",
              "            title=\"Convert this dataframe to an interactive table.\"\n",
              "            style=\"display:none;\">\n",
              "\n",
              "  <svg xmlns=\"http://www.w3.org/2000/svg\" height=\"24px\" viewBox=\"0 -960 960 960\">\n",
              "    <path d=\"M120-120v-720h720v720H120Zm60-500h600v-160H180v160Zm220 220h160v-160H400v160Zm0 220h160v-160H400v160ZM180-400h160v-160H180v160Zm440 0h160v-160H620v160ZM180-180h160v-160H180v160Zm440 0h160v-160H620v160Z\"/>\n",
              "  </svg>\n",
              "    </button>\n",
              "\n",
              "  <style>\n",
              "    .colab-df-container {\n",
              "      display:flex;\n",
              "      gap: 12px;\n",
              "    }\n",
              "\n",
              "    .colab-df-convert {\n",
              "      background-color: #E8F0FE;\n",
              "      border: none;\n",
              "      border-radius: 50%;\n",
              "      cursor: pointer;\n",
              "      display: none;\n",
              "      fill: #1967D2;\n",
              "      height: 32px;\n",
              "      padding: 0 0 0 0;\n",
              "      width: 32px;\n",
              "    }\n",
              "\n",
              "    .colab-df-convert:hover {\n",
              "      background-color: #E2EBFA;\n",
              "      box-shadow: 0px 1px 2px rgba(60, 64, 67, 0.3), 0px 1px 3px 1px rgba(60, 64, 67, 0.15);\n",
              "      fill: #174EA6;\n",
              "    }\n",
              "\n",
              "    .colab-df-buttons div {\n",
              "      margin-bottom: 4px;\n",
              "    }\n",
              "\n",
              "    [theme=dark] .colab-df-convert {\n",
              "      background-color: #3B4455;\n",
              "      fill: #D2E3FC;\n",
              "    }\n",
              "\n",
              "    [theme=dark] .colab-df-convert:hover {\n",
              "      background-color: #434B5C;\n",
              "      box-shadow: 0px 1px 3px 1px rgba(0, 0, 0, 0.15);\n",
              "      filter: drop-shadow(0px 1px 2px rgba(0, 0, 0, 0.3));\n",
              "      fill: #FFFFFF;\n",
              "    }\n",
              "  </style>\n",
              "\n",
              "    <script>\n",
              "      const buttonEl =\n",
              "        document.querySelector('#df-336d914e-6fc8-457f-950b-9722a8adec5b button.colab-df-convert');\n",
              "      buttonEl.style.display =\n",
              "        google.colab.kernel.accessAllowed ? 'block' : 'none';\n",
              "\n",
              "      async function convertToInteractive(key) {\n",
              "        const element = document.querySelector('#df-336d914e-6fc8-457f-950b-9722a8adec5b');\n",
              "        const dataTable =\n",
              "          await google.colab.kernel.invokeFunction('convertToInteractive',\n",
              "                                                    [key], {});\n",
              "        if (!dataTable) return;\n",
              "\n",
              "        const docLinkHtml = 'Like what you see? Visit the ' +\n",
              "          '<a target=\"_blank\" href=https://colab.research.google.com/notebooks/data_table.ipynb>data table notebook</a>'\n",
              "          + ' to learn more about interactive tables.';\n",
              "        element.innerHTML = '';\n",
              "        dataTable['output_type'] = 'display_data';\n",
              "        await google.colab.output.renderOutput(dataTable, element);\n",
              "        const docLink = document.createElement('div');\n",
              "        docLink.innerHTML = docLinkHtml;\n",
              "        element.appendChild(docLink);\n",
              "      }\n",
              "    </script>\n",
              "  </div>\n",
              "\n",
              "\n",
              "<div id=\"df-0fce83b0-cc57-45f5-9218-0ef511991333\">\n",
              "  <button class=\"colab-df-quickchart\" onclick=\"quickchart('df-0fce83b0-cc57-45f5-9218-0ef511991333')\"\n",
              "            title=\"Suggest charts\"\n",
              "            style=\"display:none;\">\n",
              "\n",
              "<svg xmlns=\"http://www.w3.org/2000/svg\" height=\"24px\"viewBox=\"0 0 24 24\"\n",
              "     width=\"24px\">\n",
              "    <g>\n",
              "        <path d=\"M19 3H5c-1.1 0-2 .9-2 2v14c0 1.1.9 2 2 2h14c1.1 0 2-.9 2-2V5c0-1.1-.9-2-2-2zM9 17H7v-7h2v7zm4 0h-2V7h2v10zm4 0h-2v-4h2v4z\"/>\n",
              "    </g>\n",
              "</svg>\n",
              "  </button>\n",
              "\n",
              "<style>\n",
              "  .colab-df-quickchart {\n",
              "      --bg-color: #E8F0FE;\n",
              "      --fill-color: #1967D2;\n",
              "      --hover-bg-color: #E2EBFA;\n",
              "      --hover-fill-color: #174EA6;\n",
              "      --disabled-fill-color: #AAA;\n",
              "      --disabled-bg-color: #DDD;\n",
              "  }\n",
              "\n",
              "  [theme=dark] .colab-df-quickchart {\n",
              "      --bg-color: #3B4455;\n",
              "      --fill-color: #D2E3FC;\n",
              "      --hover-bg-color: #434B5C;\n",
              "      --hover-fill-color: #FFFFFF;\n",
              "      --disabled-bg-color: #3B4455;\n",
              "      --disabled-fill-color: #666;\n",
              "  }\n",
              "\n",
              "  .colab-df-quickchart {\n",
              "    background-color: var(--bg-color);\n",
              "    border: none;\n",
              "    border-radius: 50%;\n",
              "    cursor: pointer;\n",
              "    display: none;\n",
              "    fill: var(--fill-color);\n",
              "    height: 32px;\n",
              "    padding: 0;\n",
              "    width: 32px;\n",
              "  }\n",
              "\n",
              "  .colab-df-quickchart:hover {\n",
              "    background-color: var(--hover-bg-color);\n",
              "    box-shadow: 0 1px 2px rgba(60, 64, 67, 0.3), 0 1px 3px 1px rgba(60, 64, 67, 0.15);\n",
              "    fill: var(--button-hover-fill-color);\n",
              "  }\n",
              "\n",
              "  .colab-df-quickchart-complete:disabled,\n",
              "  .colab-df-quickchart-complete:disabled:hover {\n",
              "    background-color: var(--disabled-bg-color);\n",
              "    fill: var(--disabled-fill-color);\n",
              "    box-shadow: none;\n",
              "  }\n",
              "\n",
              "  .colab-df-spinner {\n",
              "    border: 2px solid var(--fill-color);\n",
              "    border-color: transparent;\n",
              "    border-bottom-color: var(--fill-color);\n",
              "    animation:\n",
              "      spin 1s steps(1) infinite;\n",
              "  }\n",
              "\n",
              "  @keyframes spin {\n",
              "    0% {\n",
              "      border-color: transparent;\n",
              "      border-bottom-color: var(--fill-color);\n",
              "      border-left-color: var(--fill-color);\n",
              "    }\n",
              "    20% {\n",
              "      border-color: transparent;\n",
              "      border-left-color: var(--fill-color);\n",
              "      border-top-color: var(--fill-color);\n",
              "    }\n",
              "    30% {\n",
              "      border-color: transparent;\n",
              "      border-left-color: var(--fill-color);\n",
              "      border-top-color: var(--fill-color);\n",
              "      border-right-color: var(--fill-color);\n",
              "    }\n",
              "    40% {\n",
              "      border-color: transparent;\n",
              "      border-right-color: var(--fill-color);\n",
              "      border-top-color: var(--fill-color);\n",
              "    }\n",
              "    60% {\n",
              "      border-color: transparent;\n",
              "      border-right-color: var(--fill-color);\n",
              "    }\n",
              "    80% {\n",
              "      border-color: transparent;\n",
              "      border-right-color: var(--fill-color);\n",
              "      border-bottom-color: var(--fill-color);\n",
              "    }\n",
              "    90% {\n",
              "      border-color: transparent;\n",
              "      border-bottom-color: var(--fill-color);\n",
              "    }\n",
              "  }\n",
              "</style>\n",
              "\n",
              "  <script>\n",
              "    async function quickchart(key) {\n",
              "      const quickchartButtonEl =\n",
              "        document.querySelector('#' + key + ' button');\n",
              "      quickchartButtonEl.disabled = true;  // To prevent multiple clicks.\n",
              "      quickchartButtonEl.classList.add('colab-df-spinner');\n",
              "      try {\n",
              "        const charts = await google.colab.kernel.invokeFunction(\n",
              "            'suggestCharts', [key], {});\n",
              "      } catch (error) {\n",
              "        console.error('Error during call to suggestCharts:', error);\n",
              "      }\n",
              "      quickchartButtonEl.classList.remove('colab-df-spinner');\n",
              "      quickchartButtonEl.classList.add('colab-df-quickchart-complete');\n",
              "    }\n",
              "    (() => {\n",
              "      let quickchartButtonEl =\n",
              "        document.querySelector('#df-0fce83b0-cc57-45f5-9218-0ef511991333 button');\n",
              "      quickchartButtonEl.style.display =\n",
              "        google.colab.kernel.accessAllowed ? 'block' : 'none';\n",
              "    })();\n",
              "  </script>\n",
              "</div>\n",
              "\n",
              "    </div>\n",
              "  </div>\n"
            ],
            "application/vnd.google.colaboratory.intrinsic+json": {
              "type": "dataframe",
              "variable_name": "df",
              "summary": "{\n  \"name\": \"df\",\n  \"rows\": 9181,\n  \"fields\": [\n    {\n      \"column\": \"Sentence\",\n      \"properties\": {\n        \"dtype\": \"string\",\n        \"num_unique_values\": 8788,\n        \"samples\": [\n          \"If I\\nhad been downright honest with myself, I would have seen very plainly\\nin my heart that I did but half fancy being committed this way to so\\nlong a voyage, without once laying my eyes on the man who was to be the\\nabsolute dictator of it, so soon as the ship sailed out upon the open\\nsea.\",\n          \"This peculiarity is most vividly\\nhit by the French in the name they bestow upon that fish.\",\n          \"But in brief, they are these: lungs and warm blood;\\nwhereas, all other fish are lungless and cold blooded.\"\n        ],\n        \"semantic_type\": \"\",\n        \"description\": \"\"\n      }\n    }\n  ]\n}"
            }
          },
          "metadata": {},
          "execution_count": 3
        }
      ],
      "source": [
        "# Armar el dataset utilizando salto de línea para separar las oraciones/docs\n",
        "import nltk\n",
        "import pandas as pd\n",
        "\n",
        "# Descargar el tokenizador de oraciones\n",
        "nltk.download('punkt')\n",
        "\n",
        "# Leer el contenido del archivo 'moby_dick.txt'\n",
        "with open('moby_dick.txt', 'r', encoding='utf-8') as file:\n",
        "    text = file.read()\n",
        "\n",
        "# Separar el texto en oraciones\n",
        "sentences = nltk.sent_tokenize(text)\n",
        "\n",
        "# Crear un DataFrame con cada oración como una fila\n",
        "df = pd.DataFrame(sentences, columns=['Sentence'])\n",
        "df.head()\n"
      ]
    },
    {
      "cell_type": "code",
      "execution_count": 4,
      "metadata": {
        "id": "LEpKubK9XzXN",
        "colab": {
          "base_uri": "https://localhost:8080/"
        },
        "outputId": "8b828ddd-5003-498c-f6aa-a19eb982b787"
      },
      "outputs": [
        {
          "output_type": "stream",
          "name": "stdout",
          "text": [
            "Cantidad de documentos: 9181\n"
          ]
        }
      ],
      "source": [
        "print(\"Cantidad de documentos:\", df.shape[0])"
      ]
    },
    {
      "cell_type": "markdown",
      "metadata": {
        "id": "ab94qaFlrA1G"
      },
      "source": [
        "### 1 - Preprocesamiento"
      ]
    },
    {
      "cell_type": "code",
      "source": [
        "pip install Keras==2.12.0\n"
      ],
      "metadata": {
        "colab": {
          "base_uri": "https://localhost:8080/"
        },
        "id": "r7B-HKG_FJP9",
        "outputId": "45a4ac1b-5724-4bf6-af85-4d4388b2072f"
      },
      "execution_count": 5,
      "outputs": [
        {
          "output_type": "stream",
          "name": "stdout",
          "text": [
            "Collecting Keras==2.12.0\n",
            "  Using cached keras-2.12.0-py2.py3-none-any.whl.metadata (1.4 kB)\n",
            "Using cached keras-2.12.0-py2.py3-none-any.whl (1.7 MB)\n",
            "Installing collected packages: Keras\n",
            "  Attempting uninstall: Keras\n",
            "    Found existing installation: keras 2.10.0\n",
            "    Uninstalling keras-2.10.0:\n",
            "      Successfully uninstalled keras-2.10.0\n",
            "\u001b[31mERROR: pip's dependency resolver does not currently take into account all the packages that are installed. This behaviour is the source of the following dependency conflicts.\n",
            "tensorflow 2.10.0 requires keras<2.11,>=2.10.0, but you have keras 2.12.0 which is incompatible.\n",
            "tf-keras 2.17.0 requires tensorflow<2.18,>=2.17, but you have tensorflow 2.10.0 which is incompatible.\u001b[0m\u001b[31m\n",
            "\u001b[0mSuccessfully installed Keras-2.12.0\n"
          ]
        }
      ]
    },
    {
      "cell_type": "code",
      "source": [
        "pip install tensorflow==2.10.0"
      ],
      "metadata": {
        "colab": {
          "base_uri": "https://localhost:8080/"
        },
        "id": "QcAXVnZFF9lZ",
        "outputId": "4534d236-d52f-4f78-a9a7-945f09b6007d"
      },
      "execution_count": 6,
      "outputs": [
        {
          "output_type": "stream",
          "name": "stdout",
          "text": [
            "Requirement already satisfied: tensorflow==2.10.0 in /usr/local/lib/python3.10/dist-packages (2.10.0)\n",
            "Requirement already satisfied: absl-py>=1.0.0 in /usr/local/lib/python3.10/dist-packages (from tensorflow==2.10.0) (1.4.0)\n",
            "Requirement already satisfied: astunparse>=1.6.0 in /usr/local/lib/python3.10/dist-packages (from tensorflow==2.10.0) (1.6.3)\n",
            "Requirement already satisfied: flatbuffers>=2.0 in /usr/local/lib/python3.10/dist-packages (from tensorflow==2.10.0) (24.3.25)\n",
            "Requirement already satisfied: gast<=0.4.0,>=0.2.1 in /usr/local/lib/python3.10/dist-packages (from tensorflow==2.10.0) (0.4.0)\n",
            "Requirement already satisfied: google-pasta>=0.1.1 in /usr/local/lib/python3.10/dist-packages (from tensorflow==2.10.0) (0.2.0)\n",
            "Requirement already satisfied: grpcio<2.0,>=1.24.3 in /usr/local/lib/python3.10/dist-packages (from tensorflow==2.10.0) (1.64.1)\n",
            "Requirement already satisfied: h5py>=2.9.0 in /usr/local/lib/python3.10/dist-packages (from tensorflow==2.10.0) (3.11.0)\n",
            "Collecting keras<2.11,>=2.10.0 (from tensorflow==2.10.0)\n",
            "  Using cached keras-2.10.0-py2.py3-none-any.whl.metadata (1.3 kB)\n",
            "Requirement already satisfied: keras-preprocessing>=1.1.1 in /usr/local/lib/python3.10/dist-packages (from tensorflow==2.10.0) (1.1.2)\n",
            "Requirement already satisfied: libclang>=13.0.0 in /usr/local/lib/python3.10/dist-packages (from tensorflow==2.10.0) (18.1.1)\n",
            "Requirement already satisfied: numpy>=1.20 in /usr/local/lib/python3.10/dist-packages (from tensorflow==2.10.0) (1.26.4)\n",
            "Requirement already satisfied: opt-einsum>=2.3.2 in /usr/local/lib/python3.10/dist-packages (from tensorflow==2.10.0) (3.3.0)\n",
            "Requirement already satisfied: packaging in /usr/local/lib/python3.10/dist-packages (from tensorflow==2.10.0) (24.1)\n",
            "Requirement already satisfied: protobuf<3.20,>=3.9.2 in /usr/local/lib/python3.10/dist-packages (from tensorflow==2.10.0) (3.19.6)\n",
            "Requirement already satisfied: setuptools in /usr/local/lib/python3.10/dist-packages (from tensorflow==2.10.0) (71.0.4)\n",
            "Requirement already satisfied: six>=1.12.0 in /usr/local/lib/python3.10/dist-packages (from tensorflow==2.10.0) (1.16.0)\n",
            "Requirement already satisfied: tensorboard<2.11,>=2.10 in /usr/local/lib/python3.10/dist-packages (from tensorflow==2.10.0) (2.10.1)\n",
            "Requirement already satisfied: tensorflow-io-gcs-filesystem>=0.23.1 in /usr/local/lib/python3.10/dist-packages (from tensorflow==2.10.0) (0.37.1)\n",
            "Requirement already satisfied: tensorflow-estimator<2.11,>=2.10.0 in /usr/local/lib/python3.10/dist-packages (from tensorflow==2.10.0) (2.10.0)\n",
            "Requirement already satisfied: termcolor>=1.1.0 in /usr/local/lib/python3.10/dist-packages (from tensorflow==2.10.0) (2.4.0)\n",
            "Requirement already satisfied: typing-extensions>=3.6.6 in /usr/local/lib/python3.10/dist-packages (from tensorflow==2.10.0) (4.12.2)\n",
            "Requirement already satisfied: wrapt>=1.11.0 in /usr/local/lib/python3.10/dist-packages (from tensorflow==2.10.0) (1.16.0)\n",
            "Requirement already satisfied: wheel<1.0,>=0.23.0 in /usr/local/lib/python3.10/dist-packages (from astunparse>=1.6.0->tensorflow==2.10.0) (0.44.0)\n",
            "Requirement already satisfied: google-auth<3,>=1.6.3 in /usr/local/lib/python3.10/dist-packages (from tensorboard<2.11,>=2.10->tensorflow==2.10.0) (2.27.0)\n",
            "Requirement already satisfied: google-auth-oauthlib<0.5,>=0.4.1 in /usr/local/lib/python3.10/dist-packages (from tensorboard<2.11,>=2.10->tensorflow==2.10.0) (0.4.6)\n",
            "Requirement already satisfied: markdown>=2.6.8 in /usr/local/lib/python3.10/dist-packages (from tensorboard<2.11,>=2.10->tensorflow==2.10.0) (3.6)\n",
            "Requirement already satisfied: requests<3,>=2.21.0 in /usr/local/lib/python3.10/dist-packages (from tensorboard<2.11,>=2.10->tensorflow==2.10.0) (2.32.3)\n",
            "Requirement already satisfied: tensorboard-data-server<0.7.0,>=0.6.0 in /usr/local/lib/python3.10/dist-packages (from tensorboard<2.11,>=2.10->tensorflow==2.10.0) (0.6.1)\n",
            "Requirement already satisfied: tensorboard-plugin-wit>=1.6.0 in /usr/local/lib/python3.10/dist-packages (from tensorboard<2.11,>=2.10->tensorflow==2.10.0) (1.8.1)\n",
            "Requirement already satisfied: werkzeug>=1.0.1 in /usr/local/lib/python3.10/dist-packages (from tensorboard<2.11,>=2.10->tensorflow==2.10.0) (3.0.3)\n",
            "Requirement already satisfied: cachetools<6.0,>=2.0.0 in /usr/local/lib/python3.10/dist-packages (from google-auth<3,>=1.6.3->tensorboard<2.11,>=2.10->tensorflow==2.10.0) (5.4.0)\n",
            "Requirement already satisfied: pyasn1-modules>=0.2.1 in /usr/local/lib/python3.10/dist-packages (from google-auth<3,>=1.6.3->tensorboard<2.11,>=2.10->tensorflow==2.10.0) (0.4.0)\n",
            "Requirement already satisfied: rsa<5,>=3.1.4 in /usr/local/lib/python3.10/dist-packages (from google-auth<3,>=1.6.3->tensorboard<2.11,>=2.10->tensorflow==2.10.0) (4.9)\n",
            "Requirement already satisfied: requests-oauthlib>=0.7.0 in /usr/local/lib/python3.10/dist-packages (from google-auth-oauthlib<0.5,>=0.4.1->tensorboard<2.11,>=2.10->tensorflow==2.10.0) (1.3.1)\n",
            "Requirement already satisfied: charset-normalizer<4,>=2 in /usr/local/lib/python3.10/dist-packages (from requests<3,>=2.21.0->tensorboard<2.11,>=2.10->tensorflow==2.10.0) (3.3.2)\n",
            "Requirement already satisfied: idna<4,>=2.5 in /usr/local/lib/python3.10/dist-packages (from requests<3,>=2.21.0->tensorboard<2.11,>=2.10->tensorflow==2.10.0) (3.7)\n",
            "Requirement already satisfied: urllib3<3,>=1.21.1 in /usr/local/lib/python3.10/dist-packages (from requests<3,>=2.21.0->tensorboard<2.11,>=2.10->tensorflow==2.10.0) (2.0.7)\n",
            "Requirement already satisfied: certifi>=2017.4.17 in /usr/local/lib/python3.10/dist-packages (from requests<3,>=2.21.0->tensorboard<2.11,>=2.10->tensorflow==2.10.0) (2024.7.4)\n",
            "Requirement already satisfied: MarkupSafe>=2.1.1 in /usr/local/lib/python3.10/dist-packages (from werkzeug>=1.0.1->tensorboard<2.11,>=2.10->tensorflow==2.10.0) (2.1.5)\n",
            "Requirement already satisfied: pyasn1<0.7.0,>=0.4.6 in /usr/local/lib/python3.10/dist-packages (from pyasn1-modules>=0.2.1->google-auth<3,>=1.6.3->tensorboard<2.11,>=2.10->tensorflow==2.10.0) (0.6.0)\n",
            "Requirement already satisfied: oauthlib>=3.0.0 in /usr/local/lib/python3.10/dist-packages (from requests-oauthlib>=0.7.0->google-auth-oauthlib<0.5,>=0.4.1->tensorboard<2.11,>=2.10->tensorflow==2.10.0) (3.2.2)\n",
            "Using cached keras-2.10.0-py2.py3-none-any.whl (1.7 MB)\n",
            "Installing collected packages: keras\n",
            "  Attempting uninstall: keras\n",
            "    Found existing installation: keras 2.12.0\n",
            "    Uninstalling keras-2.12.0:\n",
            "      Successfully uninstalled keras-2.12.0\n",
            "\u001b[31mERROR: pip's dependency resolver does not currently take into account all the packages that are installed. This behaviour is the source of the following dependency conflicts.\n",
            "tf-keras 2.17.0 requires tensorflow<2.18,>=2.17, but you have tensorflow 2.10.0 which is incompatible.\u001b[0m\u001b[31m\n",
            "\u001b[0mSuccessfully installed keras-2.10.0\n"
          ]
        }
      ]
    },
    {
      "cell_type": "code",
      "execution_count": 7,
      "metadata": {
        "id": "rIsmMWmjrDHd",
        "colab": {
          "base_uri": "https://localhost:8080/"
        },
        "outputId": "350ed95d-b2e6-48d6-fac4-667c64ce4b9a"
      },
      "outputs": [
        {
          "output_type": "stream",
          "name": "stderr",
          "text": [
            "<ipython-input-7-4bb61bf6ad25>:7: FutureWarning: Series.__getitem__ treating keys as positions is deprecated. In a future version, integer keys will always be treated as labels (consistent with DataFrame behavior). To access a value by position, use `ser.iloc[pos]`\n",
            "  sentence_tokens.append(text_to_word_sequence(row[0]))\n"
          ]
        }
      ],
      "source": [
        "from keras.preprocessing.text import text_to_word_sequence\n",
        "\n",
        "sentence_tokens = []\n",
        "# Recorrer todas las filas y transformar las oraciones\n",
        "# en una secuencia de palabras (esto podría realizarse con NLTK o spaCy también)\n",
        "for _, row in df[:None].iterrows():\n",
        "    sentence_tokens.append(text_to_word_sequence(row[0]))"
      ]
    },
    {
      "cell_type": "markdown",
      "metadata": {
        "id": "BaXV6nlHr5Aa"
      },
      "source": [
        "### 2 - Crear los vectores (word2vec)"
      ]
    },
    {
      "cell_type": "code",
      "execution_count": 8,
      "metadata": {
        "id": "OSb0v7h8r7hK"
      },
      "outputs": [],
      "source": [
        "from gensim.models.callbacks import CallbackAny2Vec\n",
        "# Durante el entrenamiento gensim por defecto no informa el \"loss\" en cada época\n",
        "# Sobrecargamos el callback para poder tener esta información\n",
        "class callback(CallbackAny2Vec):\n",
        "    \"\"\"\n",
        "    Callback to print loss after each epoch\n",
        "    \"\"\"\n",
        "    def __init__(self):\n",
        "        self.epoch = 0\n",
        "\n",
        "    def on_epoch_end(self, model):\n",
        "        loss = model.get_latest_training_loss()\n",
        "        if self.epoch == 0:\n",
        "            print('Loss after epoch {}: {}'.format(self.epoch, loss))\n",
        "        else:\n",
        "            print('Loss after epoch {}: {}'.format(self.epoch, loss- self.loss_previous_step))\n",
        "        self.epoch += 1\n",
        "        self.loss_previous_step = loss"
      ]
    },
    {
      "cell_type": "code",
      "execution_count": 9,
      "metadata": {
        "id": "i0wnDdv9sJ47"
      },
      "outputs": [],
      "source": [
        "# Crearmos el modelo generador de vectores\n",
        "# En este caso utilizaremos la estructura modelo Skipgram\n",
        "w2v_model = Word2Vec(min_count=5,    # frecuencia mínima de palabra para incluirla en el vocabulario\n",
        "                     window=2,       # cant de palabras antes y desp de la predicha\n",
        "                     vector_size=300,       # dimensionalidad de los vectores\n",
        "                     negative=20,    # cantidad de negative samples... 0 es no se usa\n",
        "                     workers=4,      # si tienen más cores pueden cambiar este valor\n",
        "                     sg=1)           # modelo 0:CBOW  1:skipgram"
      ]
    },
    {
      "cell_type": "code",
      "execution_count": 10,
      "metadata": {
        "id": "5lTt8wErsf17"
      },
      "outputs": [],
      "source": [
        "# Obtener el vocabulario con los tokens\n",
        "w2v_model.build_vocab(sentence_tokens)"
      ]
    },
    {
      "cell_type": "code",
      "execution_count": 11,
      "metadata": {
        "id": "TNc9qt4os5AT",
        "colab": {
          "base_uri": "https://localhost:8080/"
        },
        "outputId": "297b636c-3a79-4def-8614-ed480576038e"
      },
      "outputs": [
        {
          "output_type": "stream",
          "name": "stdout",
          "text": [
            "Cantidad de docs en el corpus: 9181\n"
          ]
        }
      ],
      "source": [
        "# Cantidad de filas/docs encontradas en el corpus\n",
        "print(\"Cantidad de docs en el corpus:\", w2v_model.corpus_count)"
      ]
    },
    {
      "cell_type": "code",
      "execution_count": 12,
      "metadata": {
        "id": "idw9cHF3tSMl",
        "colab": {
          "base_uri": "https://localhost:8080/"
        },
        "outputId": "391d9c79-d777-40d8-a24c-23a402eb31b0"
      },
      "outputs": [
        {
          "output_type": "stream",
          "name": "stdout",
          "text": [
            "Cantidad de words distintas en el corpus: 4381\n"
          ]
        }
      ],
      "source": [
        "# Cantidad de words encontradas en el corpus\n",
        "print(\"Cantidad de words distintas en el corpus:\", len(w2v_model.wv.index_to_key))"
      ]
    },
    {
      "cell_type": "markdown",
      "metadata": {
        "id": "fC9mZ8DPk-UC"
      },
      "source": [
        "### 3 - Entrenar embeddings"
      ]
    },
    {
      "cell_type": "code",
      "execution_count": 13,
      "metadata": {
        "id": "QSp-x0PAsq56",
        "colab": {
          "base_uri": "https://localhost:8080/"
        },
        "outputId": "98eb4221-7921-488f-cbad-8a2682718d92"
      },
      "outputs": [
        {
          "output_type": "stream",
          "name": "stdout",
          "text": [
            "Loss after epoch 0: 504874.53125\n",
            "Loss after epoch 1: 414125.96875\n",
            "Loss after epoch 2: 379576.75\n",
            "Loss after epoch 3: 360688.0\n",
            "Loss after epoch 4: 353034.125\n",
            "Loss after epoch 5: 320481.375\n",
            "Loss after epoch 6: 308732.25\n",
            "Loss after epoch 7: 307454.0\n",
            "Loss after epoch 8: 306179.5\n",
            "Loss after epoch 9: 301542.25\n",
            "Loss after epoch 10: 297084.25\n",
            "Loss after epoch 11: 299147.5\n",
            "Loss after epoch 12: 277231.5\n",
            "Loss after epoch 13: 269809.5\n",
            "Loss after epoch 14: 263853.5\n",
            "Loss after epoch 15: 265168.5\n",
            "Loss after epoch 16: 261875.0\n",
            "Loss after epoch 17: 261576.5\n",
            "Loss after epoch 18: 259738.0\n",
            "Loss after epoch 19: 257846.5\n",
            "Loss after epoch 20: 256516.5\n",
            "Loss after epoch 21: 252539.5\n",
            "Loss after epoch 22: 255171.0\n",
            "Loss after epoch 23: 249330.5\n",
            "Loss after epoch 24: 247070.0\n",
            "Loss after epoch 25: 245017.5\n",
            "Loss after epoch 26: 249091.0\n",
            "Loss after epoch 27: 245378.0\n",
            "Loss after epoch 28: 235628.5\n",
            "Loss after epoch 29: 226839.0\n",
            "Loss after epoch 30: 229077.0\n",
            "Loss after epoch 31: 224223.0\n",
            "Loss after epoch 32: 223696.0\n",
            "Loss after epoch 33: 224534.0\n",
            "Loss after epoch 34: 220620.0\n",
            "Loss after epoch 35: 218910.0\n",
            "Loss after epoch 36: 222499.0\n",
            "Loss after epoch 37: 225830.0\n",
            "Loss after epoch 38: 218803.0\n",
            "Loss after epoch 39: 217811.0\n",
            "Loss after epoch 40: 215564.0\n",
            "Loss after epoch 41: 220760.0\n",
            "Loss after epoch 42: 217958.0\n",
            "Loss after epoch 43: 216431.0\n",
            "Loss after epoch 44: 215385.0\n",
            "Loss after epoch 45: 213585.0\n",
            "Loss after epoch 46: 216755.0\n",
            "Loss after epoch 47: 215382.0\n",
            "Loss after epoch 48: 218329.0\n",
            "Loss after epoch 49: 210853.0\n",
            "Loss after epoch 50: 214342.0\n",
            "Loss after epoch 51: 211958.0\n",
            "Loss after epoch 52: 214588.0\n",
            "Loss after epoch 53: 214597.0\n",
            "Loss after epoch 54: 209593.0\n",
            "Loss after epoch 55: 245484.0\n",
            "Loss after epoch 56: 213922.0\n",
            "Loss after epoch 57: 212633.0\n",
            "Loss after epoch 58: 207363.0\n",
            "Loss after epoch 59: 208563.0\n",
            "Loss after epoch 60: 210271.0\n",
            "Loss after epoch 61: 214649.0\n",
            "Loss after epoch 62: 206646.0\n",
            "Loss after epoch 63: 209631.0\n",
            "Loss after epoch 64: 206245.0\n",
            "Loss after epoch 65: 209841.0\n",
            "Loss after epoch 66: 203491.0\n",
            "Loss after epoch 67: 190253.0\n",
            "Loss after epoch 68: 192244.0\n",
            "Loss after epoch 69: 188362.0\n",
            "Loss after epoch 70: 187224.0\n",
            "Loss after epoch 71: 185590.0\n",
            "Loss after epoch 72: 191586.0\n",
            "Loss after epoch 73: 188720.0\n",
            "Loss after epoch 74: 183812.0\n",
            "Loss after epoch 75: 187740.0\n",
            "Loss after epoch 76: 185750.0\n",
            "Loss after epoch 77: 183672.0\n",
            "Loss after epoch 78: 186990.0\n",
            "Loss after epoch 79: 183980.0\n",
            "Loss after epoch 80: 185710.0\n",
            "Loss after epoch 81: 182582.0\n",
            "Loss after epoch 82: 181140.0\n",
            "Loss after epoch 83: 186274.0\n",
            "Loss after epoch 84: 184888.0\n",
            "Loss after epoch 85: 183110.0\n",
            "Loss after epoch 86: 181390.0\n",
            "Loss after epoch 87: 179744.0\n",
            "Loss after epoch 88: 183020.0\n",
            "Loss after epoch 89: 180934.0\n",
            "Loss after epoch 90: 213860.0\n",
            "Loss after epoch 91: 183290.0\n",
            "Loss after epoch 92: 181034.0\n",
            "Loss after epoch 93: 181202.0\n",
            "Loss after epoch 94: 179666.0\n",
            "Loss after epoch 95: 176536.0\n",
            "Loss after epoch 96: 175516.0\n",
            "Loss after epoch 97: 176056.0\n",
            "Loss after epoch 98: 178638.0\n",
            "Loss after epoch 99: 175608.0\n"
          ]
        },
        {
          "output_type": "execute_result",
          "data": {
            "text/plain": [
              "(14135305, 22077100)"
            ]
          },
          "metadata": {},
          "execution_count": 13
        }
      ],
      "source": [
        "# Entrenamos el modelo generador de vectores\n",
        "# Utilizamos nuestro callback\n",
        "w2v_model.train(sentence_tokens,\n",
        "                 total_examples=w2v_model.corpus_count,\n",
        "                 epochs=100,\n",
        "                 compute_loss = True,\n",
        "                 callbacks=[callback()]\n",
        "                 )"
      ]
    },
    {
      "cell_type": "markdown",
      "metadata": {
        "id": "ddT9NVuNlCAe"
      },
      "source": [
        "### 4 - Ensayar"
      ]
    },
    {
      "cell_type": "code",
      "execution_count": 14,
      "metadata": {
        "id": "6cHN9xGLuPEm",
        "colab": {
          "base_uri": "https://localhost:8080/"
        },
        "outputId": "92d9b243-35d6-445e-abeb-0a4283fef565"
      },
      "outputs": [
        {
          "output_type": "execute_result",
          "data": {
            "text/plain": [
              "[('“hast', 0.3810027837753296),\n",
              " ('killer', 0.33427926898002625),\n",
              " ('designated', 0.32033321261405945),\n",
              " ('beale’s', 0.31745684146881104),\n",
              " ('feat', 0.3078577220439911),\n",
              " ('v', 0.3053145706653595),\n",
              " ('scoresby', 0.3053103983402252),\n",
              " ('frederick', 0.3043726682662964),\n",
              " ('authorities', 0.29904332756996155),\n",
              " ('technically', 0.29787224531173706)]"
            ]
          },
          "metadata": {},
          "execution_count": 14
        }
      ],
      "source": [
        "# Palabras que MÁS se relacionan con...:\n",
        "w2v_model.wv.most_similar(positive=[\"whale\"], topn=10)"
      ]
    },
    {
      "cell_type": "code",
      "execution_count": 15,
      "metadata": {
        "id": "47HiU5gdkdMq",
        "colab": {
          "base_uri": "https://localhost:8080/"
        },
        "outputId": "c8e7832e-dd9b-491e-8d3c-e4cbcb1d26a3"
      },
      "outputs": [
        {
          "output_type": "execute_result",
          "data": {
            "text/plain": [
              "[('stepping', 0.05092572420835495),\n",
              " ('during', 0.050820983946323395),\n",
              " ('thigh', 0.047357380390167236),\n",
              " ('caw', 0.04567653313279152),\n",
              " ('subject', 0.04554687440395355),\n",
              " ('links', 0.04429538547992706),\n",
              " ('beneath', 0.04298143461346626),\n",
              " ('slender', 0.04060402140021324),\n",
              " ('wholly', 0.03290611878037453),\n",
              " ('means', 0.030932491645216942)]"
            ]
          },
          "metadata": {},
          "execution_count": 15
        }
      ],
      "source": [
        "# Palabras que MENOS se relacionan con...:\n",
        "w2v_model.wv.most_similar(negative=[\"love\"], topn=10)"
      ]
    },
    {
      "cell_type": "code",
      "execution_count": 16,
      "metadata": {
        "id": "DT4Rvno2mD65",
        "colab": {
          "base_uri": "https://localhost:8080/"
        },
        "outputId": "003f9deb-4442-4336-adc6-380919da11aa"
      },
      "outputs": [
        {
          "output_type": "execute_result",
          "data": {
            "text/plain": [
              "[('goin’', 0.37935659289360046),\n",
              " ('twenty', 0.37709060311317444),\n",
              " ('years’', 0.36710086464881897),\n",
              " ('five', 0.35121291875839233),\n",
              " ('ridge', 0.34427475929260254),\n",
              " ('sixty', 0.3423555791378021),\n",
              " ('eighteen', 0.3414296805858612),\n",
              " ('six', 0.33636417984962463),\n",
              " ('yards', 0.32665517926216125),\n",
              " ('sorts', 0.3192387819290161)]"
            ]
          },
          "metadata": {},
          "execution_count": 16
        }
      ],
      "source": [
        "# Palabras que MÁS se relacionan con...:\n",
        "w2v_model.wv.most_similar(positive=[\"four\"], topn=10)"
      ]
    },
    {
      "cell_type": "code",
      "execution_count": 40,
      "metadata": {
        "id": "XPLDPgzBmQXt",
        "colab": {
          "base_uri": "https://localhost:8080/"
        },
        "outputId": "b0ac8d1d-bc22-493c-ccc8-9f3fac522c6b"
      },
      "outputs": [
        {
          "output_type": "execute_result",
          "data": {
            "text/plain": [
              "[('dick', 0.7595923542976379),\n",
              " ('“god', 0.37841933965682983),\n",
              " ('earlier', 0.3711804747581482),\n",
              " ('mile', 0.36969640851020813),\n",
              " ('bless', 0.35548901557922363)]"
            ]
          },
          "metadata": {},
          "execution_count": 40
        }
      ],
      "source": [
        "# Palabras que MÁS se relacionan con...:\n",
        "w2v_model.wv.most_similar(positive=[\"moby\"], topn=5)"
      ]
    },
    {
      "cell_type": "code",
      "source": [
        "# Palabras que MÁS se relacionan con...:\n",
        "w2v_model.wv.most_similar(positive=[\"whale\"], topn=10)"
      ],
      "metadata": {
        "colab": {
          "base_uri": "https://localhost:8080/"
        },
        "id": "y6Kq86_IO162",
        "outputId": "e02a0c5e-9d48-4818-e064-bdd9f0cc1e6e"
      },
      "execution_count": 24,
      "outputs": [
        {
          "output_type": "execute_result",
          "data": {
            "text/plain": [
              "[('“hast', 0.3810027837753296),\n",
              " ('killer', 0.33427926898002625),\n",
              " ('designated', 0.32033321261405945),\n",
              " ('beale’s', 0.31745684146881104),\n",
              " ('feat', 0.3078577220439911),\n",
              " ('v', 0.3053145706653595),\n",
              " ('scoresby', 0.3053103983402252),\n",
              " ('frederick', 0.3043726682662964),\n",
              " ('authorities', 0.29904332756996155),\n",
              " ('technically', 0.29787224531173706)]"
            ]
          },
          "metadata": {},
          "execution_count": 24
        }
      ]
    },
    {
      "cell_type": "code",
      "execution_count": 43,
      "metadata": {
        "colab": {
          "base_uri": "https://localhost:8080/"
        },
        "id": "ClkGomn7E5Ep",
        "outputId": "f5e91155-60b2-4468-d8e3-02eba36e2e91"
      },
      "outputs": [
        {
          "output_type": "stream",
          "name": "stdout",
          "text": [
            "[-2.20049694e-01  5.45216560e-01  1.46163300e-01  1.59049287e-01\n",
            " -1.15445420e-01 -2.84355413e-02  3.44187438e-01  4.97637868e-01\n",
            "  2.27356359e-01 -1.67559370e-01  2.96008795e-01 -1.76022470e-01\n",
            " -1.45135261e-03  1.21515676e-01  6.89677447e-02 -4.49861959e-02\n",
            "  5.42619109e-01 -5.19128561e-01 -3.78556773e-02 -4.00886685e-01\n",
            "  1.96594149e-01 -1.18480492e-02 -5.80869541e-02 -3.15241724e-01\n",
            "  1.71946019e-01 -2.42200717e-01 -9.37238336e-02 -1.45085886e-01\n",
            " -2.79885918e-01  1.01333849e-01  5.57826981e-02 -2.01355577e-01\n",
            " -3.11721981e-01 -1.61708444e-01 -3.65316361e-01  8.12738091e-02\n",
            "  2.35225201e-01  1.88330904e-01  3.01481247e-01 -1.15861468e-01\n",
            "  2.00999364e-01 -7.32027888e-02  2.98784822e-01 -3.71304527e-03\n",
            "  1.01741530e-01 -4.96414537e-03 -3.92204404e-01  2.62895763e-01\n",
            " -1.97127625e-01 -9.52214748e-02  1.56607665e-02 -3.29372212e-02\n",
            " -4.52129841e-01  6.94828391e-01  1.23917960e-01 -6.70075178e-01\n",
            "  3.50955367e-01 -2.07593262e-01 -3.46151851e-02  2.52562433e-01\n",
            "  5.66831566e-02 -2.09101230e-01 -1.55877098e-02 -3.80504340e-01\n",
            "  1.25506014e-01 -2.23832965e-01 -2.27862179e-01 -3.20685744e-01\n",
            " -3.14088054e-02  1.62970752e-01 -2.62075961e-01  9.45710763e-02\n",
            "  3.08090821e-02 -2.58689731e-01  2.51541972e-01 -4.46650535e-02\n",
            " -2.70134836e-01  2.25068584e-01 -2.75775820e-01  2.10297734e-01\n",
            " -1.33800179e-01  7.52754733e-02 -1.91454310e-02  5.34065127e-01\n",
            "  1.44492835e-01  3.31291020e-01  7.52797186e-01 -3.20794255e-01\n",
            "  1.60545439e-01  2.55978078e-01 -7.13322535e-02  3.20783824e-01\n",
            "  2.82277405e-01 -5.60031384e-02  3.36578667e-01  2.69244462e-01\n",
            "  8.17008689e-02  1.49814576e-01  1.30079702e-01  5.15825786e-02\n",
            "  7.07427114e-02  1.00559182e-01 -3.77093852e-02 -1.23609893e-01\n",
            "  4.27996427e-01 -2.70636767e-01  2.29116883e-02  4.86907698e-02\n",
            " -3.58028680e-01 -4.66682725e-02 -2.95244187e-01 -1.32738888e-01\n",
            "  4.83714223e-01 -2.05986351e-01  1.63210407e-01  8.97438824e-02\n",
            " -1.55934066e-01  7.16308057e-01 -2.35779241e-01  4.05749232e-02\n",
            "  7.25273341e-02  3.34865272e-01  4.98621196e-01  2.96120215e-02\n",
            " -2.71710664e-01  2.49936596e-01 -1.49424702e-01  2.64564101e-02\n",
            "  6.51775822e-02  1.07022792e-01  2.87436992e-01 -1.23665445e-01\n",
            "  1.68844968e-01 -3.72726530e-01 -2.00539857e-01  4.57197547e-01\n",
            " -2.62157451e-02  4.03967053e-02 -1.21347420e-01 -3.98767255e-02\n",
            "  2.60505557e-01  1.51345342e-01 -1.39773786e-01 -2.52820641e-01\n",
            " -1.54686198e-01  9.49382409e-02 -5.99807091e-02 -2.18656823e-01\n",
            "  4.29598093e-01  1.10528357e-01 -1.56831011e-01 -6.97659254e-02\n",
            " -9.08608809e-02 -1.52782425e-01 -3.31295729e-01  3.21983360e-02\n",
            " -5.12470007e-01  3.14673096e-01  1.46259353e-01  3.20375413e-01\n",
            "  7.40237683e-02  3.17322731e-01 -4.26223278e-01 -1.23239227e-01\n",
            "  4.94990833e-02  2.43955150e-01  2.88596809e-01 -9.02634487e-02\n",
            "  3.25489759e-01 -6.37304559e-02 -2.04628646e-01 -3.05226147e-02\n",
            "  1.57944277e-01  8.48894596e-01  5.30168653e-01  4.74037468e-01\n",
            "  4.02386226e-02 -3.15181501e-02 -1.98781475e-01 -1.32195264e-01\n",
            " -4.14686427e-02 -2.48989761e-02 -2.77069598e-01 -5.98096140e-02\n",
            "  8.10634941e-02 -2.07455769e-01  5.13843238e-01  3.28129441e-01\n",
            "  4.14040219e-03  1.63109019e-01  7.45944500e-01  2.98171639e-01\n",
            " -5.73330760e-01 -2.16714889e-01  1.92841724e-01  2.39047214e-01\n",
            "  1.21507362e-01  2.64262613e-02  6.49576560e-02 -8.20821226e-02\n",
            " -5.31989485e-02 -5.34964740e-01 -1.64820477e-01 -3.76047343e-01\n",
            "  7.60302767e-02 -5.98156989e-01 -3.01087834e-02  2.49196932e-01\n",
            " -1.24163166e-01  2.74222702e-01  2.70679861e-01 -3.13710392e-01\n",
            " -4.55278695e-01 -1.07014604e-01 -2.95581780e-02  2.58109361e-01\n",
            " -2.07131822e-02 -2.89262712e-01 -4.65214223e-01 -4.77380663e-01\n",
            " -1.52161121e-01  2.90621161e-01  2.96210498e-01  3.75714898e-02\n",
            "  2.63147175e-01  1.07078344e-01  2.62216836e-01 -3.67314786e-01\n",
            " -4.17623848e-01 -1.60149828e-01  7.53022879e-02 -2.19626963e-01\n",
            "  4.13515344e-02 -1.05880983e-01 -4.31175649e-01  1.04226127e-01\n",
            "  5.76669797e-02  6.73692301e-02 -4.99077529e-01  4.31580752e-01\n",
            " -3.89224477e-02 -2.14028850e-01  3.71961892e-01  9.99868810e-02\n",
            "  8.43098294e-03 -5.59910178e-01 -2.46972710e-01 -1.38651043e-01\n",
            "  9.93891433e-03  7.39224106e-02  1.08365044e-02 -2.03907922e-01\n",
            " -2.23029867e-01  3.89217556e-01  3.47592950e-01  2.51612753e-01\n",
            " -2.09880411e-04 -4.71245378e-01  4.14483016e-03 -8.54586139e-02\n",
            "  1.28240576e-02  2.93045074e-01 -4.36141342e-02 -1.48645220e-02\n",
            " -1.10209398e-01  3.09731245e-01  1.28461808e-01 -3.10633481e-01\n",
            "  5.73860407e-01 -1.27904058e-01 -3.52926344e-01 -1.45368934e-01\n",
            " -2.40266457e-01  3.64975303e-01  6.08965941e-02  3.33338082e-01\n",
            " -8.70565102e-02 -1.18338585e-01 -8.98358151e-02 -5.51510453e-01\n",
            "  2.17126533e-01  1.21927738e-01 -2.71792978e-01 -8.89319330e-02\n",
            " -2.54478753e-01  2.52330434e-02 -6.13478303e-01  1.79900438e-01\n",
            "  7.61747956e-02 -1.35052383e-01 -6.37989044e-02  8.38162377e-02\n",
            "  4.40234207e-02  4.39189374e-01  1.82988673e-01  3.73611242e-01\n",
            "  2.40785569e-01  2.47584492e-01  3.91581893e-01 -1.52605260e-02]\n"
          ]
        }
      ],
      "source": [
        "# el método `get_vector` permite obtener los vectores:\n",
        "vector_whale = w2v_model.wv.get_vector(\"whale\")\n",
        "print(vector_whale)"
      ]
    },
    {
      "cell_type": "code",
      "execution_count": 44,
      "metadata": {
        "colab": {
          "base_uri": "https://localhost:8080/"
        },
        "id": "umgpx7krE5Ep",
        "outputId": "a8f9b4e5-d4f2-4b52-cf4d-a6f48147b589"
      },
      "outputs": [
        {
          "output_type": "execute_result",
          "data": {
            "text/plain": [
              "[('whale', 1.0),\n",
              " ('“hast', 0.3810027539730072),\n",
              " ('killer', 0.33427926898002625),\n",
              " ('designated', 0.32033321261405945),\n",
              " ('beale’s', 0.31745684146881104),\n",
              " ('feat', 0.3078577220439911),\n",
              " ('v', 0.3053145706653595),\n",
              " ('scoresby', 0.3053103983402252),\n",
              " ('frederick', 0.3043726682662964),\n",
              " ('authorities', 0.29904329776763916)]"
            ]
          },
          "metadata": {},
          "execution_count": 44
        }
      ],
      "source": [
        "# el método `most_similar` también permite comparar a partir de vectores\n",
        "w2v_model.wv.most_similar(vector_whale)"
      ]
    },
    {
      "cell_type": "code",
      "execution_count": 35,
      "metadata": {
        "colab": {
          "base_uri": "https://localhost:8080/"
        },
        "id": "A-m3D_paE5Eq",
        "outputId": "c3d673ed-e2da-4263-f23b-5af448703f1e"
      },
      "outputs": [
        {
          "output_type": "execute_result",
          "data": {
            "text/plain": [
              "[('fossil', 0.46316736936569214),\n",
              " ('cattle', 0.4487903118133545),\n",
              " ('damned', 0.4482507109642029),\n",
              " ('standers', 0.4386444389820099),\n",
              " ('talking', 0.4383048713207245),\n",
              " ('respect', 0.4269738495349884),\n",
              " ('seams', 0.41736650466918945),\n",
              " ('hercules', 0.4127228856086731),\n",
              " ('compare', 0.40987613797187805),\n",
              " ('orphans', 0.4098072648048401)]"
            ]
          },
          "metadata": {},
          "execution_count": 35
        }
      ],
      "source": [
        "# Palabras que MÁS se relacionan con...:\n",
        "w2v_model.wv.most_similar(positive=[\"animals\"], topn=10)"
      ]
    },
    {
      "cell_type": "markdown",
      "metadata": {
        "id": "_g8UVWe6lFmh"
      },
      "source": [
        "### 5 - Visualizar agrupación de vectores"
      ]
    },
    {
      "cell_type": "code",
      "execution_count": 28,
      "metadata": {
        "id": "pDxEVXAivjr9"
      },
      "outputs": [],
      "source": [
        "from sklearn.decomposition import IncrementalPCA\n",
        "from sklearn.manifold import TSNE\n",
        "import numpy as np\n",
        "\n",
        "def reduce_dimensions(model, num_dimensions = 2 ):\n",
        "\n",
        "    vectors = np.asarray(model.wv.vectors)\n",
        "    labels = np.asarray(model.wv.index_to_key)\n",
        "\n",
        "\n",
        "    tsne = TSNE(n_components=num_dimensions, random_state=0)\n",
        "    vectors = tsne.fit_transform(vectors)\n",
        "\n",
        "    return vectors, labels"
      ]
    },
    {
      "cell_type": "code",
      "execution_count": 29,
      "metadata": {
        "id": "NCCXtDpcugmd",
        "colab": {
          "base_uri": "https://localhost:8080/",
          "height": 542
        },
        "outputId": "86a5ef19-1454-49e9-c7b8-1131a20bb0e5"
      },
      "outputs": [
        {
          "output_type": "display_data",
          "data": {
            "text/html": [
              "<html>\n",
              "<head><meta charset=\"utf-8\" /></head>\n",
              "<body>\n",
              "    <div>            <script src=\"https://cdnjs.cloudflare.com/ajax/libs/mathjax/2.7.5/MathJax.js?config=TeX-AMS-MML_SVG\"></script><script type=\"text/javascript\">if (window.MathJax && window.MathJax.Hub && window.MathJax.Hub.Config) {window.MathJax.Hub.Config({SVG: {font: \"STIX-Web\"}});}</script>                <script type=\"text/javascript\">window.PlotlyConfig = {MathJaxConfig: 'local'};</script>\n",
              "        <script charset=\"utf-8\" src=\"https://cdn.plot.ly/plotly-2.24.1.min.js\"></script>                <div id=\"71ea8635-47b5-44f3-bb1e-79377ee0305f\" class=\"plotly-graph-div\" style=\"height:525px; width:100%;\"></div>            <script type=\"text/javascript\">                                    window.PLOTLYENV=window.PLOTLYENV || {};                                    if (document.getElementById(\"71ea8635-47b5-44f3-bb1e-79377ee0305f\")) {                    Plotly.newPlot(                        \"71ea8635-47b5-44f3-bb1e-79377ee0305f\",                        [{\"hovertemplate\":\"x=%{x}\\u003cbr\\u003ey=%{y}\\u003cbr\\u003etext=%{text}\\u003cextra\\u003e\\u003c\\u002fextra\\u003e\",\"legendgroup\":\"\",\"marker\":{\"color\":\"#636efa\",\"symbol\":\"circle\"},\"mode\":\"markers+text\",\"name\":\"\",\"orientation\":\"v\",\"showlegend\":false,\"text\":[\"the\",\"of\",\"and\",\"a\",\"to\",\"in\",\"that\",\"his\",\"it\",\"i\",\"with\",\"but\",\"he\",\"as\",\"is\",\"was\",\"for\",\"all\",\"this\",\"\\u201d\",\"at\",\"by\",\"not\",\"from\",\"whale\",\"be\",\"on\",\"him\",\"so\",\"you\",\"one\",\"or\",\"had\",\"have\",\"now\",\"there\",\"were\",\"they\",\"which\",\"like\",\"their\",\"me\",\"are\",\"then\",\"some\",\"when\",\"an\",\"my\",\"upon\",\"no\",\"out\",\"into\",\"up\",\"more\",\"what\",\"if\",\"them\",\"man\",\"sea\",\"old\",\"we\",\"would\",\"ship\",\"ahab\",\"ye\",\"other\",\"been\",\"over\",\"these\",\"will\",\"its\",\"such\",\"only\",\"down\",\"any\",\"though\",\"yet\",\"head\",\"long\",\"time\",\"who\",\"her\",\"very\",\"about\",\"than\",\"chapter\",\"still\",\"do\",\"great\",\"those\",\"before\",\"said\",\"two\",\"boat\",\"must\",\"has\",\"captain\",\"most\",\"here\",\"white\",\"seemed\",\"last\",\"whales\",\"after\",\"see\",\"way\",\"your\",\"again\",\"did\",\"may\",\"little\",\"thou\",\"sperm\",\"round\",\"while\",\"three\",\"first\",\"through\",\"men\",\"how\",\"stubb\",\"us\",\"every\",\"say\",\"much\",\"being\",\"could\",\"same\",\"off\",\"hand\",\"our\",\"good\",\"can\",\"side\",\"own\",\"well\",\"ever\",\"where\",\"himself\",\"never\",\"queequeg\",\"deck\",\"almost\",\"even\",\"go\",\"thing\",\"should\",\"water\",\"might\",\"look\",\"away\",\"too\",\"made\",\"day\",\"starbuck\",\"many\",\"life\",\"among\",\"fish\",\"far\",\"back\",\"world\",\"seen\",\"without\",\"come\",\"sir\",\"line\",\"eyes\",\"sort\",\"part\",\"right\",\"nor\",\"thought\",\"once\",\"cried\",\"know\",\"night\",\"boats\",\"air\",\"whole\",\"half\",\"full\",\"crew\",\"\\u2019\",\"against\",\"thus\",\"whaling\",\"tell\",\"things\",\"thee\",\"came\",\"small\",\"each\",\"let\",\"take\",\"pequod\",\"soon\",\"whale\\u2019s\",\"feet\",\"mast\"],\"x\":[-0.1112232506275177,0.19838017225265503,-0.3330037593841553,-0.2388996183872223,-0.02464042790234089,0.005096809472888708,0.0014726035296916962,-0.4922928810119629,-0.23761224746704102,-0.3784209191799164,-0.2609139680862427,-0.20214851200580597,-0.3941534161567688,-0.13929547369480133,-0.07527093589305878,-0.283790647983551,-0.15799537301063538,-0.057536497712135315,-0.036492448300123215,-2.2905752658843994,-0.2175016701221466,-0.043515369296073914,-0.08245197683572769,-0.18311254680156708,0.04322296753525734,-0.057031188160181046,-0.43779444694519043,-0.4034762680530548,-1.2685831785202026,-0.21168126165866852,-0.13769438862800598,3.87728214263916,-4.1347479820251465,-0.1463838368654251,-3.794494390487671,-3.5572822093963623,1.0149365663528442,-3.895794153213501,3.2392678260803223,-0.28971588611602783,-0.07910887151956558,-0.44337520003318787,3.801661252975464,-3.5765695571899414,0.027060862630605698,0.54090416431427,-0.07076004147529602,-0.6460217833518982,-1.2261275053024292,-0.44399961829185486,-3.834129571914673,-2.361241340637207,-1.407871961593628,0.030670102685689926,0.19659580290317535,-0.2532491981983185,-0.1912708878517151,-0.4897795617580414,-1.2250078916549683,-2.1198205947875977,0.03054974600672722,1.159016728401184,-3.636397123336792,-1.0558140277862549,-1.9435385465621948,0.16983115673065186,-0.1921851485967636,-2.2286999225616455,0.07105286419391632,0.8004392385482788,-0.08553966134786606,0.24430635571479797,1.807062029838562,-3.021294116973877,3.910472869873047,0.2486371099948883,-0.16561852395534515,-3.2243385314941406,-0.2533411681652069,-0.017259744927287102,-0.15986603498458862,0.6210451722145081,-0.27013063430786133,-1.2652244567871094,2.4644088745117188,1.8155921697616577,-1.605492353439331,-0.5058143138885498,3.893724203109741,1.08815598487854,-3.8743884563446045,-2.4535508155822754,0.06719540804624557,-3.453190326690674,-0.16155335307121277,0.9351216554641724,-0.496112197637558,0.8551304936408997,-0.6649758219718933,-0.44251447916030884,-1.291575312614441,-0.4016216993331909,1.3009707927703857,-3.57942271232605,-1.0134222507476807,-3.0225541591644287,-3.597102165222168,-2.1246466636657715,-0.25595465302467346,1.8674044609069824,-3.9014382362365723,-1.4519686698913574,1.7003204822540283,-1.369272232055664,-4.240711212158203,1.2425851821899414,-0.6392856240272522,-0.2619032859802246,-0.9269638061523438,0.8111039996147156,-2.203749656677246,0.0071358103305101395,1.1913301944732666,-1.3754078149795532,-0.321735680103302,-0.0981958732008934,-0.0446617417037487,-0.38382869958877563,-3.7953286170959473,-3.5351998805999756,-0.22443470358848572,-1.7364760637283325,0.593879222869873,-2.066157579421997,-0.2465321272611618,0.4471781551837921,-0.5439159870147705,-2.123906135559082,-1.0782915353775024,-0.6605792045593262,-3.1639926433563232,-3.3015451431274414,-0.6018344163894653,0.14996150135993958,-3.630007266998291,0.8675771951675415,0.14847859740257263,-2.398244857788086,-0.07432681322097778,-1.424063801765442,-2.1756937503814697,-0.7972373366355896,-0.0954238772392273,-0.32267865538597107,-2.304220676422119,0.30374592542648315,0.4653564691543579,3.6332504749298096,0.9553569555282593,2.459153890609741,-4.319633483886719,0.09522510319948196,-1.031204104423523,0.6753968000411987,-1.3282661437988281,-3.568242311477661,-0.556247353553772,-0.38743218779563904,-0.155976340174675,2.7883214950561523,0.933620274066925,-0.21979467570781708,-0.005413617007434368,-1.0220245122909546,-2.7367820739746094,-1.318404197692871,-2.680126905441284,0.45886334776878357,-1.0448215007781982,0.05481301620602608,-3.9513776302337646,-0.0016886646626517177,-1.0699141025543213,-2.5276761054992676,-3.7056570053100586,-4.442476272583008,0.5354058742523193,-1.1502577066421509,3.064539670944214,-1.1470829248428345,-4.0211663246154785,0.7235054969787598,-0.28314027190208435,-0.2502732574939728,-3.399480104446411,-1.1473363637924194,-3.250852108001709,-0.4962161183357239,1.7977969646453857,-1.812489628791809],\"xaxis\":\"x\",\"y\":[0.2639468014240265,0.16045182943344116,0.1079552173614502,-0.026687748730182648,-0.27311789989471436,0.023837536573410034,-0.30684247612953186,-0.06383802741765976,-0.4038308560848236,-1.029627799987793,-0.04423832893371582,-0.37773656845092773,-0.3347434103488922,-0.15917545557022095,-0.1515730768442154,-0.2396203726530075,-0.21357320249080658,-0.13906703889369965,-0.10255259275436401,-1.8763377666473389,-0.21550020575523376,-0.009484970942139626,-0.34084030985832214,0.02973148226737976,0.14535793662071228,-0.4756630063056946,-0.02227303385734558,-0.5918754935264587,3.4864633083343506,-0.22440290451049805,-0.23001238703727722,1.0048259496688843,-1.32976233959198,-0.6532636284828186,-1.9916716814041138,-2.6131362915039062,-3.1799113750457764,2.0749926567077637,-1.6671149730682373,0.05074677616357803,0.30957314372062683,-1.0120846033096313,-1.5342791080474854,-1.4471737146377563,-0.05747370421886444,-2.8160817623138428,0.04371403902769089,-0.45495516061782837,3.2012200355529785,-0.6273467540740967,-1.8500698804855347,2.258423089981079,-0.3043011426925659,-0.5659805536270142,3.9591245651245117,-0.6496608257293701,-0.2125374674797058,-0.8647997975349426,3.390669822692871,3.296804666519165,-3.5547878742218018,-2.44677734375,2.254611015319824,-0.8140183687210083,-2.5535390377044678,3.4034969806671143,-0.5894736647605896,1.915982723236084,0.2743508517742157,-3.393285036087036,0.21314266324043274,0.021855628117918968,-1.924102783203125,2.2851200103759766,0.7402647733688354,-0.4023128151893616,-0.448398232460022,2.052250623703003,-0.08545324206352234,-0.5837854146957397,-0.7143024802207947,-3.7945199012756348,-0.6879959106445312,3.7423133850097656,-2.8580546379089355,2.5347630977630615,3.7129111289978027,-3.213602066040039,-1.3546234369277954,0.4576040208339691,1.602128505706787,-2.0514004230499268,0.32852259278297424,-0.599830687046051,-0.9271429181098938,-2.8328840732574463,-0.745395302772522,-0.44014495611190796,-0.6405782103538513,0.07717526704072952,3.2110185623168945,2.716625690460205,0.961296021938324,-2.6434311866760254,-2.85497784614563,3.110280990600586,-2.284449815750122,-0.8905652761459351,-0.72161865234375,-2.4196858406066895,-2.2001354694366455,-3.657313823699951,1.275470495223999,0.6923896074295044,-0.9870476126670837,-3.7574093341827393,3.7133266925811768,1.6732605695724487,-3.038019895553589,-2.8801496028900146,-1.924060583114624,-3.394146680831909,-3.025421142578125,-2.917027711868286,-3.0392796993255615,-0.27173832058906555,-0.6288732886314392,0.39982953667640686,-0.3517104983329773,1.2103254795074463,0.009552685543894768,-3.3136978149414062,-3.513373374938965,1.0723211765289307,0.07488483935594559,-2.736694574356079,-0.6193472146987915,3.4480435848236084,-0.8995434641838074,-1.4002881050109863,-2.2252845764160156,0.7645174860954285,3.735603094100952,0.060292743146419525,-2.0602898597717285,-0.8550495505332947,-0.4102165997028351,2.8914926052093506,-0.5516952276229858,-2.6109812259674072,-0.8177681565284729,-1.5300977230072021,-0.41755542159080505,-0.6964362859725952,-1.312890648841858,-0.07190106809139252,3.8279945850372314,-0.8341122269630432,2.602205753326416,-2.8214993476867676,1.0138413906097412,-0.05765276774764061,-1.1959545612335205,-2.9967806339263916,-1.8011831045150757,-2.12457275390625,0.8141272664070129,-0.025878088548779488,-0.42859750986099243,-2.3431599140167236,1.6868613958358765,-3.1619503498077393,-1.4176284074783325,-0.565715491771698,-1.6220604181289673,-2.797396183013916,-3.400972843170166,-3.9714338779449463,1.0782819986343384,-0.0989016517996788,1.781527042388916,0.3697776794433594,-1.1718701124191284,-1.598608136177063,0.847484827041626,-0.6190845370292664,0.01420334167778492,-2.6590023040771484,-0.696379542350769,-2.2400832176208496,1.0739413499832153,2.2976274490356445,3.024998188018799,-2.1228203773498535,-1.8044286966323853,-0.20162369310855865,-1.0792906284332275,3.3863463401794434,3.5084121227264404,0.04494515433907509],\"yaxis\":\"y\",\"type\":\"scatter\"}],                        {\"template\":{\"data\":{\"histogram2dcontour\":[{\"type\":\"histogram2dcontour\",\"colorbar\":{\"outlinewidth\":0,\"ticks\":\"\"},\"colorscale\":[[0.0,\"#0d0887\"],[0.1111111111111111,\"#46039f\"],[0.2222222222222222,\"#7201a8\"],[0.3333333333333333,\"#9c179e\"],[0.4444444444444444,\"#bd3786\"],[0.5555555555555556,\"#d8576b\"],[0.6666666666666666,\"#ed7953\"],[0.7777777777777778,\"#fb9f3a\"],[0.8888888888888888,\"#fdca26\"],[1.0,\"#f0f921\"]]}],\"choropleth\":[{\"type\":\"choropleth\",\"colorbar\":{\"outlinewidth\":0,\"ticks\":\"\"}}],\"histogram2d\":[{\"type\":\"histogram2d\",\"colorbar\":{\"outlinewidth\":0,\"ticks\":\"\"},\"colorscale\":[[0.0,\"#0d0887\"],[0.1111111111111111,\"#46039f\"],[0.2222222222222222,\"#7201a8\"],[0.3333333333333333,\"#9c179e\"],[0.4444444444444444,\"#bd3786\"],[0.5555555555555556,\"#d8576b\"],[0.6666666666666666,\"#ed7953\"],[0.7777777777777778,\"#fb9f3a\"],[0.8888888888888888,\"#fdca26\"],[1.0,\"#f0f921\"]]}],\"heatmap\":[{\"type\":\"heatmap\",\"colorbar\":{\"outlinewidth\":0,\"ticks\":\"\"},\"colorscale\":[[0.0,\"#0d0887\"],[0.1111111111111111,\"#46039f\"],[0.2222222222222222,\"#7201a8\"],[0.3333333333333333,\"#9c179e\"],[0.4444444444444444,\"#bd3786\"],[0.5555555555555556,\"#d8576b\"],[0.6666666666666666,\"#ed7953\"],[0.7777777777777778,\"#fb9f3a\"],[0.8888888888888888,\"#fdca26\"],[1.0,\"#f0f921\"]]}],\"heatmapgl\":[{\"type\":\"heatmapgl\",\"colorbar\":{\"outlinewidth\":0,\"ticks\":\"\"},\"colorscale\":[[0.0,\"#0d0887\"],[0.1111111111111111,\"#46039f\"],[0.2222222222222222,\"#7201a8\"],[0.3333333333333333,\"#9c179e\"],[0.4444444444444444,\"#bd3786\"],[0.5555555555555556,\"#d8576b\"],[0.6666666666666666,\"#ed7953\"],[0.7777777777777778,\"#fb9f3a\"],[0.8888888888888888,\"#fdca26\"],[1.0,\"#f0f921\"]]}],\"contourcarpet\":[{\"type\":\"contourcarpet\",\"colorbar\":{\"outlinewidth\":0,\"ticks\":\"\"}}],\"contour\":[{\"type\":\"contour\",\"colorbar\":{\"outlinewidth\":0,\"ticks\":\"\"},\"colorscale\":[[0.0,\"#0d0887\"],[0.1111111111111111,\"#46039f\"],[0.2222222222222222,\"#7201a8\"],[0.3333333333333333,\"#9c179e\"],[0.4444444444444444,\"#bd3786\"],[0.5555555555555556,\"#d8576b\"],[0.6666666666666666,\"#ed7953\"],[0.7777777777777778,\"#fb9f3a\"],[0.8888888888888888,\"#fdca26\"],[1.0,\"#f0f921\"]]}],\"surface\":[{\"type\":\"surface\",\"colorbar\":{\"outlinewidth\":0,\"ticks\":\"\"},\"colorscale\":[[0.0,\"#0d0887\"],[0.1111111111111111,\"#46039f\"],[0.2222222222222222,\"#7201a8\"],[0.3333333333333333,\"#9c179e\"],[0.4444444444444444,\"#bd3786\"],[0.5555555555555556,\"#d8576b\"],[0.6666666666666666,\"#ed7953\"],[0.7777777777777778,\"#fb9f3a\"],[0.8888888888888888,\"#fdca26\"],[1.0,\"#f0f921\"]]}],\"mesh3d\":[{\"type\":\"mesh3d\",\"colorbar\":{\"outlinewidth\":0,\"ticks\":\"\"}}],\"scatter\":[{\"fillpattern\":{\"fillmode\":\"overlay\",\"size\":10,\"solidity\":0.2},\"type\":\"scatter\"}],\"parcoords\":[{\"type\":\"parcoords\",\"line\":{\"colorbar\":{\"outlinewidth\":0,\"ticks\":\"\"}}}],\"scatterpolargl\":[{\"type\":\"scatterpolargl\",\"marker\":{\"colorbar\":{\"outlinewidth\":0,\"ticks\":\"\"}}}],\"bar\":[{\"error_x\":{\"color\":\"#2a3f5f\"},\"error_y\":{\"color\":\"#2a3f5f\"},\"marker\":{\"line\":{\"color\":\"#E5ECF6\",\"width\":0.5},\"pattern\":{\"fillmode\":\"overlay\",\"size\":10,\"solidity\":0.2}},\"type\":\"bar\"}],\"scattergeo\":[{\"type\":\"scattergeo\",\"marker\":{\"colorbar\":{\"outlinewidth\":0,\"ticks\":\"\"}}}],\"scatterpolar\":[{\"type\":\"scatterpolar\",\"marker\":{\"colorbar\":{\"outlinewidth\":0,\"ticks\":\"\"}}}],\"histogram\":[{\"marker\":{\"pattern\":{\"fillmode\":\"overlay\",\"size\":10,\"solidity\":0.2}},\"type\":\"histogram\"}],\"scattergl\":[{\"type\":\"scattergl\",\"marker\":{\"colorbar\":{\"outlinewidth\":0,\"ticks\":\"\"}}}],\"scatter3d\":[{\"type\":\"scatter3d\",\"line\":{\"colorbar\":{\"outlinewidth\":0,\"ticks\":\"\"}},\"marker\":{\"colorbar\":{\"outlinewidth\":0,\"ticks\":\"\"}}}],\"scattermapbox\":[{\"type\":\"scattermapbox\",\"marker\":{\"colorbar\":{\"outlinewidth\":0,\"ticks\":\"\"}}}],\"scatterternary\":[{\"type\":\"scatterternary\",\"marker\":{\"colorbar\":{\"outlinewidth\":0,\"ticks\":\"\"}}}],\"scattercarpet\":[{\"type\":\"scattercarpet\",\"marker\":{\"colorbar\":{\"outlinewidth\":0,\"ticks\":\"\"}}}],\"carpet\":[{\"aaxis\":{\"endlinecolor\":\"#2a3f5f\",\"gridcolor\":\"white\",\"linecolor\":\"white\",\"minorgridcolor\":\"white\",\"startlinecolor\":\"#2a3f5f\"},\"baxis\":{\"endlinecolor\":\"#2a3f5f\",\"gridcolor\":\"white\",\"linecolor\":\"white\",\"minorgridcolor\":\"white\",\"startlinecolor\":\"#2a3f5f\"},\"type\":\"carpet\"}],\"table\":[{\"cells\":{\"fill\":{\"color\":\"#EBF0F8\"},\"line\":{\"color\":\"white\"}},\"header\":{\"fill\":{\"color\":\"#C8D4E3\"},\"line\":{\"color\":\"white\"}},\"type\":\"table\"}],\"barpolar\":[{\"marker\":{\"line\":{\"color\":\"#E5ECF6\",\"width\":0.5},\"pattern\":{\"fillmode\":\"overlay\",\"size\":10,\"solidity\":0.2}},\"type\":\"barpolar\"}],\"pie\":[{\"automargin\":true,\"type\":\"pie\"}]},\"layout\":{\"autotypenumbers\":\"strict\",\"colorway\":[\"#636efa\",\"#EF553B\",\"#00cc96\",\"#ab63fa\",\"#FFA15A\",\"#19d3f3\",\"#FF6692\",\"#B6E880\",\"#FF97FF\",\"#FECB52\"],\"font\":{\"color\":\"#2a3f5f\"},\"hovermode\":\"closest\",\"hoverlabel\":{\"align\":\"left\"},\"paper_bgcolor\":\"white\",\"plot_bgcolor\":\"#E5ECF6\",\"polar\":{\"bgcolor\":\"#E5ECF6\",\"angularaxis\":{\"gridcolor\":\"white\",\"linecolor\":\"white\",\"ticks\":\"\"},\"radialaxis\":{\"gridcolor\":\"white\",\"linecolor\":\"white\",\"ticks\":\"\"}},\"ternary\":{\"bgcolor\":\"#E5ECF6\",\"aaxis\":{\"gridcolor\":\"white\",\"linecolor\":\"white\",\"ticks\":\"\"},\"baxis\":{\"gridcolor\":\"white\",\"linecolor\":\"white\",\"ticks\":\"\"},\"caxis\":{\"gridcolor\":\"white\",\"linecolor\":\"white\",\"ticks\":\"\"}},\"coloraxis\":{\"colorbar\":{\"outlinewidth\":0,\"ticks\":\"\"}},\"colorscale\":{\"sequential\":[[0.0,\"#0d0887\"],[0.1111111111111111,\"#46039f\"],[0.2222222222222222,\"#7201a8\"],[0.3333333333333333,\"#9c179e\"],[0.4444444444444444,\"#bd3786\"],[0.5555555555555556,\"#d8576b\"],[0.6666666666666666,\"#ed7953\"],[0.7777777777777778,\"#fb9f3a\"],[0.8888888888888888,\"#fdca26\"],[1.0,\"#f0f921\"]],\"sequentialminus\":[[0.0,\"#0d0887\"],[0.1111111111111111,\"#46039f\"],[0.2222222222222222,\"#7201a8\"],[0.3333333333333333,\"#9c179e\"],[0.4444444444444444,\"#bd3786\"],[0.5555555555555556,\"#d8576b\"],[0.6666666666666666,\"#ed7953\"],[0.7777777777777778,\"#fb9f3a\"],[0.8888888888888888,\"#fdca26\"],[1.0,\"#f0f921\"]],\"diverging\":[[0,\"#8e0152\"],[0.1,\"#c51b7d\"],[0.2,\"#de77ae\"],[0.3,\"#f1b6da\"],[0.4,\"#fde0ef\"],[0.5,\"#f7f7f7\"],[0.6,\"#e6f5d0\"],[0.7,\"#b8e186\"],[0.8,\"#7fbc41\"],[0.9,\"#4d9221\"],[1,\"#276419\"]]},\"xaxis\":{\"gridcolor\":\"white\",\"linecolor\":\"white\",\"ticks\":\"\",\"title\":{\"standoff\":15},\"zerolinecolor\":\"white\",\"automargin\":true,\"zerolinewidth\":2},\"yaxis\":{\"gridcolor\":\"white\",\"linecolor\":\"white\",\"ticks\":\"\",\"title\":{\"standoff\":15},\"zerolinecolor\":\"white\",\"automargin\":true,\"zerolinewidth\":2},\"scene\":{\"xaxis\":{\"backgroundcolor\":\"#E5ECF6\",\"gridcolor\":\"white\",\"linecolor\":\"white\",\"showbackground\":true,\"ticks\":\"\",\"zerolinecolor\":\"white\",\"gridwidth\":2},\"yaxis\":{\"backgroundcolor\":\"#E5ECF6\",\"gridcolor\":\"white\",\"linecolor\":\"white\",\"showbackground\":true,\"ticks\":\"\",\"zerolinecolor\":\"white\",\"gridwidth\":2},\"zaxis\":{\"backgroundcolor\":\"#E5ECF6\",\"gridcolor\":\"white\",\"linecolor\":\"white\",\"showbackground\":true,\"ticks\":\"\",\"zerolinecolor\":\"white\",\"gridwidth\":2}},\"shapedefaults\":{\"line\":{\"color\":\"#2a3f5f\"}},\"annotationdefaults\":{\"arrowcolor\":\"#2a3f5f\",\"arrowhead\":0,\"arrowwidth\":1},\"geo\":{\"bgcolor\":\"white\",\"landcolor\":\"#E5ECF6\",\"subunitcolor\":\"white\",\"showland\":true,\"showlakes\":true,\"lakecolor\":\"white\"},\"title\":{\"x\":0.05},\"mapbox\":{\"style\":\"light\"}}},\"xaxis\":{\"anchor\":\"y\",\"domain\":[0.0,1.0],\"title\":{\"text\":\"x\"}},\"yaxis\":{\"anchor\":\"x\",\"domain\":[0.0,1.0],\"title\":{\"text\":\"y\"}},\"legend\":{\"tracegroupgap\":0},\"margin\":{\"t\":60}},                        {\"responsive\": true}                    ).then(function(){\n",
              "                            \n",
              "var gd = document.getElementById('71ea8635-47b5-44f3-bb1e-79377ee0305f');\n",
              "var x = new MutationObserver(function (mutations, observer) {{\n",
              "        var display = window.getComputedStyle(gd).display;\n",
              "        if (!display || display === 'none') {{\n",
              "            console.log([gd, 'removed!']);\n",
              "            Plotly.purge(gd);\n",
              "            observer.disconnect();\n",
              "        }}\n",
              "}});\n",
              "\n",
              "// Listen for the removal of the full notebook cells\n",
              "var notebookContainer = gd.closest('#notebook-container');\n",
              "if (notebookContainer) {{\n",
              "    x.observe(notebookContainer, {childList: true});\n",
              "}}\n",
              "\n",
              "// Listen for the clearing of the current output cell\n",
              "var outputEl = gd.closest('.output');\n",
              "if (outputEl) {{\n",
              "    x.observe(outputEl, {childList: true});\n",
              "}}\n",
              "\n",
              "                        })                };                            </script>        </div>\n",
              "</body>\n",
              "</html>"
            ]
          },
          "metadata": {}
        }
      ],
      "source": [
        "# Graficar los embedddings en 2D\n",
        "import plotly.graph_objects as go\n",
        "import plotly.express as px\n",
        "#\n",
        "vecs, labels = reduce_dimensions(w2v_model)\n",
        "\n",
        "MAX_WORDS=200\n",
        "fig = px.scatter(x=vecs[:MAX_WORDS,0], y=vecs[:MAX_WORDS,1], text=labels[:MAX_WORDS])\n",
        "fig.show(renderer=\"colab\") # esto para plotly en colab"
      ]
    },
    {
      "cell_type": "code",
      "execution_count": null,
      "metadata": {
        "id": "irzuNkgxE5Eq"
      },
      "outputs": [],
      "source": [
        "# Graficar los embedddings en 3D\n",
        "\n",
        "vecs, labels = reduce_dimensions(w2v_model,3)\n",
        "\n",
        "fig = px.scatter_3d(x=vecs[:MAX_WORDS,0], y=vecs[:MAX_WORDS,1], z=vecs[:MAX_WORDS,2],text=labels[:MAX_WORDS])\n",
        "fig.update_traces(marker_size = 2)\n",
        "fig.show(renderer=\"colab\") # esto para plotly en colab"
      ]
    },
    {
      "cell_type": "code",
      "execution_count": null,
      "metadata": {
        "id": "7aNtgDxuE5Eq"
      },
      "outputs": [],
      "source": [
        "# También se pueden guardar los vectores y labels como tsv para graficar en\n",
        "# http://projector.tensorflow.org/\n",
        "\n",
        "\n",
        "vectors = np.asarray(w2v_model.wv.vectors)\n",
        "labels = list(w2v_model.wv.index_to_key)\n",
        "\n",
        "np.savetxt(\"vectors.tsv\", vectors, delimiter=\"\\t\")\n",
        "\n",
        "with open(\"labels.tsv\", \"w\") as fp:\n",
        "    for item in labels:\n",
        "        fp.write(\"%s\\n\" % item)"
      ]
    },
    {
      "cell_type": "markdown",
      "source": [
        "el objetivo en este caso fue el de evaluar la similitud de palabras dentro del libro Moby - dick obtenido desde https://www.gutenberg.org/ , lo que vemos es que si bien hay palabras que encuentra una similitud razonables hay otras que no , y esto tambien esta explicado porque al momento de entrenar , a pesar de utilizar 100 epocas de entrenamiento , seguimos encontrando una metrica de perdida alta.\n"
      ],
      "metadata": {
        "id": "xMyjmygCXK6L"
      }
    },
    {
      "cell_type": "markdown",
      "metadata": {
        "id": "yMM_SHSaZ9N-"
      },
      "source": [
        "### Alumno"
      ]
    },
    {
      "cell_type": "markdown",
      "metadata": {
        "id": "WivQZ3ZCZ9N_"
      },
      "source": [
        "- Crear sus propios vectores con Gensim basado en lo visto en clase con otro dataset.\n",
        "- Probar términos de interés y explicar similitudes en el espacio de embeddings (sacar conclusiones entre palabras similitudes y diferencias).\n",
        "- Graficarlos.\n",
        "- Obtener conclusiones."
      ]
    }
  ],
  "metadata": {
    "colab": {
      "provenance": [],
      "include_colab_link": true
    },
    "kernelspec": {
      "display_name": "Python 3 (ipykernel)",
      "language": "python",
      "name": "python3"
    },
    "language_info": {
      "codemirror_mode": {
        "name": "ipython",
        "version": 3
      },
      "file_extension": ".py",
      "mimetype": "text/x-python",
      "name": "python",
      "nbconvert_exporter": "python",
      "pygments_lexer": "ipython3",
      "version": "3.10.6"
    }
  },
  "nbformat": 4,
  "nbformat_minor": 0
}