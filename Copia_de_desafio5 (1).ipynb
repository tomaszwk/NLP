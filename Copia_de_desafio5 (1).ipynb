{
  "cells": [
    {
      "cell_type": "markdown",
      "metadata": {
        "id": "G63Jpt-wYcJ3"
      },
      "source": [
        "<img src=\"https://github.com/hernancontigiani/ceia_memorias_especializacion/raw/master/Figures/logoFIUBA.jpg\" width=\"500\" align=\"center\">\n",
        "\n",
        "\n",
        "# Procesamiento de lenguaje natural\n",
        "## Bert Sentiment Analysis\n",
        "[Ejemplo similar en Pytorch](https://colab.research.google.com/drive/1PHv-IRLPCtv7oTcIGbsgZHqrB5LPvB7S#scrollTo=m_mRflxPl32F)"
      ]
    },
    {
      "cell_type": "code",
      "execution_count": 1,
      "metadata": {
        "id": "rcPiEBdt8NqM"
      },
      "outputs": [],
      "source": [
        "!pip install transformers --quiet\n",
        "import matplotlib.pyplot as plt"
      ]
    },
    {
      "cell_type": "code",
      "execution_count": 2,
      "metadata": {
        "id": "Vj5MI6WUDqzV"
      },
      "outputs": [],
      "source": [
        "import tensorflow\n",
        "from transformers import TFBertModel"
      ]
    },
    {
      "cell_type": "markdown",
      "metadata": {
        "id": "TtR408XaDqzW"
      },
      "source": [
        "### Definiendo modelo"
      ]
    },
    {
      "cell_type": "code",
      "execution_count": null,
      "metadata": {
        "colab": {
          "base_uri": "https://localhost:8080/"
        },
        "id": "jCYTaGolDqzW",
        "outputId": "489e8a2c-28bd-48ef-e62c-c5853af5a6a0"
      },
      "outputs": [
        {
          "output_type": "stream",
          "name": "stderr",
          "text": [
            "Some weights of the PyTorch model were not used when initializing the TF 2.0 model TFBertModel: ['cls.seq_relationship.weight', 'cls.predictions.transform.LayerNorm.weight', 'cls.predictions.transform.dense.bias', 'cls.predictions.transform.dense.weight', 'cls.predictions.bias', 'cls.predictions.transform.LayerNorm.bias', 'cls.seq_relationship.bias']\n",
            "- This IS expected if you are initializing TFBertModel from a PyTorch model trained on another task or with another architecture (e.g. initializing a TFBertForSequenceClassification model from a BertForPreTraining model).\n",
            "- This IS NOT expected if you are initializing TFBertModel from a PyTorch model that you expect to be exactly identical (e.g. initializing a TFBertForSequenceClassification model from a BertForSequenceClassification model).\n",
            "All the weights of TFBertModel were initialized from the PyTorch model.\n",
            "If your task is similar to the task the model of the checkpoint was trained on, you can already use TFBertModel for predictions without further training.\n"
          ]
        }
      ],
      "source": [
        "bert_model = TFBertModel.from_pretrained(\"bert-base-uncased\")"
      ]
    },
    {
      "cell_type": "code",
      "execution_count": null,
      "metadata": {
        "id": "2lwRXHaTDqzX"
      },
      "outputs": [],
      "source": [
        "max_length = 140\n",
        "output_shape = 3"
      ]
    },
    {
      "cell_type": "code",
      "execution_count": null,
      "metadata": {
        "id": "cCJUurOCDqzX",
        "colab": {
          "base_uri": "https://localhost:8080/",
          "height": 718
        },
        "outputId": "0ce0396e-c3c8-4bf4-da95-3e2eb806a39b"
      },
      "outputs": [
        {
          "output_type": "error",
          "ename": "ValueError",
          "evalue": "Exception encountered when calling layer 'tf_bert_model_2' (type TFBertModel).\n\nData of type <class 'keras.src.backend.common.keras_tensor.KerasTensor'> is not allowed only (<class 'tensorflow.python.framework.tensor.Tensor'>, <class 'bool'>, <class 'int'>, <class 'transformers.utils.generic.ModelOutput'>, <class 'tuple'>, <class 'list'>, <class 'dict'>, <class 'numpy.ndarray'>) is accepted for attention_mask.\n\nCall arguments received by layer 'tf_bert_model_2' (type TFBertModel):\n  • input_ids=<KerasTensor shape=(None, 140), dtype=int32, sparse=None, name=input_ids>\n  • attention_mask=<KerasTensor shape=(None, 140), dtype=int32, sparse=None, name=attention_mask>\n  • token_type_ids=None\n  • position_ids=None\n  • head_mask=None\n  • inputs_embeds=None\n  • encoder_hidden_states=None\n  • encoder_attention_mask=None\n  • past_key_values=None\n  • use_cache=None\n  • output_attentions=None\n  • output_hidden_states=None\n  • return_dict=None\n  • training=False",
          "traceback": [
            "\u001b[0;31m---------------------------------------------------------------------------\u001b[0m",
            "\u001b[0;31mValueError\u001b[0m                                Traceback (most recent call last)",
            "\u001b[0;32m<ipython-input-33-f33b5e7a13c6>\u001b[0m in \u001b[0;36m<cell line: 6>\u001b[0;34m()\u001b[0m\n\u001b[1;32m      4\u001b[0m \u001b[0mattention_mask\u001b[0m \u001b[0;34m=\u001b[0m \u001b[0mtensorflow\u001b[0m\u001b[0;34m.\u001b[0m\u001b[0mkeras\u001b[0m\u001b[0;34m.\u001b[0m\u001b[0mlayers\u001b[0m\u001b[0;34m.\u001b[0m\u001b[0mInput\u001b[0m\u001b[0;34m(\u001b[0m\u001b[0mshape\u001b[0m\u001b[0;34m=\u001b[0m\u001b[0;34m(\u001b[0m\u001b[0mmax_length\u001b[0m\u001b[0;34m,\u001b[0m\u001b[0;34m)\u001b[0m\u001b[0;34m,\u001b[0m \u001b[0mdtype\u001b[0m\u001b[0;34m=\u001b[0m\u001b[0mtensorflow\u001b[0m\u001b[0;34m.\u001b[0m\u001b[0mint32\u001b[0m\u001b[0;34m,\u001b[0m \u001b[0mname\u001b[0m\u001b[0;34m=\u001b[0m\u001b[0;34m'attention_mask'\u001b[0m\u001b[0;34m)\u001b[0m\u001b[0;34m\u001b[0m\u001b[0;34m\u001b[0m\u001b[0m\n\u001b[1;32m      5\u001b[0m \u001b[0;34m\u001b[0m\u001b[0m\n\u001b[0;32m----> 6\u001b[0;31m \u001b[0moutputs\u001b[0m \u001b[0;34m=\u001b[0m \u001b[0mbert_model\u001b[0m\u001b[0;34m(\u001b[0m\u001b[0minput_ids\u001b[0m\u001b[0;34m,\u001b[0m \u001b[0mattention_mask\u001b[0m\u001b[0;34m=\u001b[0m\u001b[0mattention_mask\u001b[0m\u001b[0;34m)\u001b[0m\u001b[0;34m\u001b[0m\u001b[0;34m\u001b[0m\u001b[0m\n\u001b[0m\u001b[1;32m      7\u001b[0m \u001b[0;34m\u001b[0m\u001b[0m\n\u001b[1;32m      8\u001b[0m \u001b[0mpooled_output\u001b[0m \u001b[0;34m=\u001b[0m \u001b[0moutputs\u001b[0m\u001b[0;34m.\u001b[0m\u001b[0mpooler_output\u001b[0m\u001b[0;34m\u001b[0m\u001b[0;34m\u001b[0m\u001b[0m\n",
            "\u001b[0;32m/usr/local/lib/python3.10/dist-packages/tf_keras/src/utils/traceback_utils.py\u001b[0m in \u001b[0;36merror_handler\u001b[0;34m(*args, **kwargs)\u001b[0m\n\u001b[1;32m     68\u001b[0m             \u001b[0;31m# To get the full stack trace, call:\u001b[0m\u001b[0;34m\u001b[0m\u001b[0;34m\u001b[0m\u001b[0m\n\u001b[1;32m     69\u001b[0m             \u001b[0;31m# `tf.debugging.disable_traceback_filtering()`\u001b[0m\u001b[0;34m\u001b[0m\u001b[0;34m\u001b[0m\u001b[0m\n\u001b[0;32m---> 70\u001b[0;31m             \u001b[0;32mraise\u001b[0m \u001b[0me\u001b[0m\u001b[0;34m.\u001b[0m\u001b[0mwith_traceback\u001b[0m\u001b[0;34m(\u001b[0m\u001b[0mfiltered_tb\u001b[0m\u001b[0;34m)\u001b[0m \u001b[0;32mfrom\u001b[0m \u001b[0;32mNone\u001b[0m\u001b[0;34m\u001b[0m\u001b[0;34m\u001b[0m\u001b[0m\n\u001b[0m\u001b[1;32m     71\u001b[0m         \u001b[0;32mfinally\u001b[0m\u001b[0;34m:\u001b[0m\u001b[0;34m\u001b[0m\u001b[0;34m\u001b[0m\u001b[0m\n\u001b[1;32m     72\u001b[0m             \u001b[0;32mdel\u001b[0m \u001b[0mfiltered_tb\u001b[0m\u001b[0;34m\u001b[0m\u001b[0;34m\u001b[0m\u001b[0m\n",
            "\u001b[0;32m/usr/local/lib/python3.10/dist-packages/transformers/modeling_tf_utils.py\u001b[0m in \u001b[0;36mrun_call_with_unpacked_inputs\u001b[0;34m(self, *args, **kwargs)\u001b[0m\n\u001b[1;32m    434\u001b[0m             \u001b[0mconfig\u001b[0m \u001b[0;34m=\u001b[0m \u001b[0mself\u001b[0m\u001b[0;34m.\u001b[0m\u001b[0mconfig\u001b[0m\u001b[0;34m\u001b[0m\u001b[0;34m\u001b[0m\u001b[0m\n\u001b[1;32m    435\u001b[0m \u001b[0;34m\u001b[0m\u001b[0m\n\u001b[0;32m--> 436\u001b[0;31m         \u001b[0munpacked_inputs\u001b[0m \u001b[0;34m=\u001b[0m \u001b[0minput_processing\u001b[0m\u001b[0;34m(\u001b[0m\u001b[0mfunc\u001b[0m\u001b[0;34m,\u001b[0m \u001b[0mconfig\u001b[0m\u001b[0;34m,\u001b[0m \u001b[0;34m**\u001b[0m\u001b[0mfn_args_and_kwargs\u001b[0m\u001b[0;34m)\u001b[0m\u001b[0;34m\u001b[0m\u001b[0;34m\u001b[0m\u001b[0m\n\u001b[0m\u001b[1;32m    437\u001b[0m         \u001b[0;32mreturn\u001b[0m \u001b[0mfunc\u001b[0m\u001b[0;34m(\u001b[0m\u001b[0mself\u001b[0m\u001b[0;34m,\u001b[0m \u001b[0;34m**\u001b[0m\u001b[0munpacked_inputs\u001b[0m\u001b[0;34m)\u001b[0m\u001b[0;34m\u001b[0m\u001b[0;34m\u001b[0m\u001b[0m\n\u001b[1;32m    438\u001b[0m \u001b[0;34m\u001b[0m\u001b[0m\n",
            "\u001b[0;32m/usr/local/lib/python3.10/dist-packages/transformers/modeling_tf_utils.py\u001b[0m in \u001b[0;36minput_processing\u001b[0;34m(func, config, **kwargs)\u001b[0m\n\u001b[1;32m    511\u001b[0m             \u001b[0moutput\u001b[0m\u001b[0;34m[\u001b[0m\u001b[0mk\u001b[0m\u001b[0;34m]\u001b[0m \u001b[0;34m=\u001b[0m \u001b[0mv\u001b[0m\u001b[0;34m\u001b[0m\u001b[0;34m\u001b[0m\u001b[0m\n\u001b[1;32m    512\u001b[0m         \u001b[0;32melse\u001b[0m\u001b[0;34m:\u001b[0m\u001b[0;34m\u001b[0m\u001b[0;34m\u001b[0m\u001b[0m\n\u001b[0;32m--> 513\u001b[0;31m             \u001b[0;32mraise\u001b[0m \u001b[0mValueError\u001b[0m\u001b[0;34m(\u001b[0m\u001b[0;34mf\"Data of type {type(v)} is not allowed only {allowed_types} is accepted for {k}.\"\u001b[0m\u001b[0;34m)\u001b[0m\u001b[0;34m\u001b[0m\u001b[0;34m\u001b[0m\u001b[0m\n\u001b[0m\u001b[1;32m    514\u001b[0m \u001b[0;34m\u001b[0m\u001b[0m\n\u001b[1;32m    515\u001b[0m     \u001b[0;32mif\u001b[0m \u001b[0misinstance\u001b[0m\u001b[0;34m(\u001b[0m\u001b[0mmain_input\u001b[0m\u001b[0;34m,\u001b[0m \u001b[0;34m(\u001b[0m\u001b[0mtuple\u001b[0m\u001b[0;34m,\u001b[0m \u001b[0mlist\u001b[0m\u001b[0;34m)\u001b[0m\u001b[0;34m)\u001b[0m\u001b[0;34m:\u001b[0m\u001b[0;34m\u001b[0m\u001b[0;34m\u001b[0m\u001b[0m\n",
            "\u001b[0;31mValueError\u001b[0m: Exception encountered when calling layer 'tf_bert_model_2' (type TFBertModel).\n\nData of type <class 'keras.src.backend.common.keras_tensor.KerasTensor'> is not allowed only (<class 'tensorflow.python.framework.tensor.Tensor'>, <class 'bool'>, <class 'int'>, <class 'transformers.utils.generic.ModelOutput'>, <class 'tuple'>, <class 'list'>, <class 'dict'>, <class 'numpy.ndarray'>) is accepted for attention_mask.\n\nCall arguments received by layer 'tf_bert_model_2' (type TFBertModel):\n  • input_ids=<KerasTensor shape=(None, 140), dtype=int32, sparse=None, name=input_ids>\n  • attention_mask=<KerasTensor shape=(None, 140), dtype=int32, sparse=None, name=attention_mask>\n  • token_type_ids=None\n  • position_ids=None\n  • head_mask=None\n  • inputs_embeds=None\n  • encoder_hidden_states=None\n  • encoder_attention_mask=None\n  • past_key_values=None\n  • use_cache=None\n  • output_attentions=None\n  • output_hidden_states=None\n  • return_dict=None\n  • training=False"
          ]
        }
      ],
      "source": [
        "bert_model.bert.trainable = False\n",
        "\n",
        "input_ids = tensorflow.keras.layers.Input(shape=(max_length,), dtype=tensorflow.int32, name='input_ids')\n",
        "attention_mask = tensorflow.keras.layers.Input(shape=(max_length,), dtype=tensorflow.int32, name='attention_mask')\n",
        "\n",
        "outputs = bert_model(input_ids, attention_mask=attention_mask)\n",
        "\n",
        "pooled_output = outputs.pooler_output\n",
        "\n",
        "x = tensorflow.keras.layers.Dropout(0.2)(pooled_output)\n",
        "output = tensorflow.keras.layers.Dense(output_shape, activation='softmax')(x)\n",
        "\n",
        "model = tensorflow.keras.Model(inputs=[input_ids, attention_mask], outputs=output)\n",
        "\n",
        "model.compile(optimizer='adam',\n",
        "              loss='categorical_crossentropy',\n",
        "              metrics=['accuracy',tensorflow.keras.metrics.F1Score(average='macro')])"
      ]
    },
    {
      "cell_type": "code",
      "execution_count": null,
      "metadata": {
        "colab": {
          "base_uri": "https://localhost:8080/"
        },
        "id": "8gnREr-zDqzY",
        "outputId": "aed70a09-521d-49a4-b2ac-72c852a307cf"
      },
      "outputs": [
        {
          "output_type": "stream",
          "name": "stdout",
          "text": [
            "Model: \"model\"\n",
            "__________________________________________________________________________________________________\n",
            " Layer (type)                Output Shape                 Param #   Connected to                  \n",
            "==================================================================================================\n",
            " input_ids (InputLayer)      [(None, 140)]                0         []                            \n",
            "                                                                                                  \n",
            " attention_mask (InputLayer  [(None, 140)]                0         []                            \n",
            " )                                                                                                \n",
            "                                                                                                  \n",
            " tf_bert_model (TFBertModel  TFBaseModelOutputWithPooli   1094822   ['input_ids[0][0]',           \n",
            " )                           ngAndCrossAttentions(last_   40         'attention_mask[0][0]']      \n",
            "                             hidden_state=(None, 140, 7                                           \n",
            "                             68),                                                                 \n",
            "                              pooler_output=(None, 768)                                           \n",
            "                             , past_key_values=None, hi                                           \n",
            "                             dden_states=None, attentio                                           \n",
            "                             ns=None, cross_attentions=                                           \n",
            "                             None)                                                                \n",
            "                                                                                                  \n",
            " dropout_37 (Dropout)        (None, 768)                  0         ['tf_bert_model[0][1]']       \n",
            "                                                                                                  \n",
            " dense (Dense)               (None, 3)                    2307      ['dropout_37[0][0]']          \n",
            "                                                                                                  \n",
            "==================================================================================================\n",
            "Total params: 109484547 (417.65 MB)\n",
            "Trainable params: 2307 (9.01 KB)\n",
            "Non-trainable params: 109482240 (417.64 MB)\n",
            "__________________________________________________________________________________________________\n"
          ]
        }
      ],
      "source": [
        "model.summary()"
      ]
    },
    {
      "cell_type": "code",
      "execution_count": 6,
      "metadata": {
        "id": "cjQ7q6N7CL_J"
      },
      "outputs": [],
      "source": [
        "def plot_train_metrics(history):\n",
        "    epoch_count = range(1, len(history.history['accuracy']) + 1)\n",
        "    sns.lineplot(x=epoch_count,  y=history.history['accuracy'], label='train')\n",
        "    sns.lineplot(x=epoch_count,  y=history.history['val_accuracy'], label='valid')\n",
        "    plt.show()"
      ]
    },
    {
      "cell_type": "markdown",
      "source": [],
      "metadata": {
        "id": "3iv0BeY9vXcT"
      }
    },
    {
      "cell_type": "markdown",
      "metadata": {
        "id": "hU2-H3K1YzJ8"
      },
      "source": [
        "### Datos\n",
        "Utilizaremos como dataset críticas de Google Apps en formato csv."
      ]
    },
    {
      "cell_type": "code",
      "execution_count": 7,
      "metadata": {
        "colab": {
          "base_uri": "https://localhost:8080/"
        },
        "id": "QBjUqdvpvLUG",
        "outputId": "8ec6ccbf-d94e-49be-8e97-8244d609f053"
      },
      "outputs": [
        {
          "output_type": "stream",
          "name": "stdout",
          "text": [
            "  % Total    % Received % Xferd  Average Speed   Time    Time     Time  Current\n",
            "                                 Dload  Upload   Total   Spent    Left  Speed\n",
            "  0     0    0     0    0     0      0      0 --:--:--  0:00:01 --:--:--     0\n",
            "  0     0    0     0    0     0      0      0 --:--:--  0:00:01 --:--:--     0\n",
            "100  131k  100  131k    0     0  34957      0  0:00:03  0:00:03 --:--:--  117k\n",
            "  % Total    % Received % Xferd  Average Speed   Time    Time     Time  Current\n",
            "                                 Dload  Upload   Total   Spent    Left  Speed\n",
            "  0     0    0     0    0     0      0      0 --:--:--  0:00:01 --:--:--     0\n",
            "  0     0    0     0    0     0      0      0 --:--:--  0:00:01 --:--:--     0\n",
            "100 7002k  100 7002k    0     0  1501k      0  0:00:04  0:00:04 --:--:-- 3620k\n"
          ]
        }
      ],
      "source": [
        "# Descargar la carpeta de dataset\n",
        "!curl -L -o 'apps.csv' 'https://drive.google.com/u/0/uc?id=1S6qMioqPJjyBLpLVz4gmRTnJHnjitnuV&export=download&confirm=t'\n",
        "!curl -L -o 'reviews.csv' 'https://drive.google.com/u/0/uc?id=1zdmewp7ayS4js4VtrJEHzAheSW-5NBZv&export=download&confirm=t'"
      ]
    },
    {
      "cell_type": "code",
      "execution_count": 8,
      "metadata": {
        "id": "KPlBX0wV8gv9",
        "colab": {
          "base_uri": "https://localhost:8080/",
          "height": 0
        },
        "outputId": "59ef1c72-7c9a-428f-f09c-3ba976e1e95c"
      },
      "outputs": [
        {
          "output_type": "execute_result",
          "data": {
            "text/plain": [
              "           userName                                          userImage  \\\n",
              "0     Andrew Thomas  https://lh3.googleusercontent.com/a-/AOh14GiHd...   \n",
              "1      Craig Haines  https://lh3.googleusercontent.com/-hoe0kwSJgPQ...   \n",
              "2     steven adkins  https://lh3.googleusercontent.com/a-/AOh14GiXw...   \n",
              "3  Lars Panzerbjørn  https://lh3.googleusercontent.com/a-/AOh14Gg-h...   \n",
              "4     Scott Prewitt  https://lh3.googleusercontent.com/-K-X1-YsVd6U...   \n",
              "\n",
              "                                             content  score  thumbsUpCount  \\\n",
              "0  Update: After getting a response from the deve...      1             21   \n",
              "1  Used it for a fair amount of time without any ...      1             11   \n",
              "2  Your app sucks now!!!!! Used to be good but no...      1             17   \n",
              "3  It seems OK, but very basic. Recurring tasks n...      1            192   \n",
              "4  Absolutely worthless. This app runs a prohibit...      1             42   \n",
              "\n",
              "  reviewCreatedVersion                   at  \\\n",
              "0             4.17.0.3  2020-04-05 22:25:57   \n",
              "1             4.17.0.3  2020-04-04 13:40:01   \n",
              "2             4.17.0.3  2020-04-01 16:18:13   \n",
              "3             4.17.0.2  2020-03-12 08:17:34   \n",
              "4             4.17.0.2  2020-03-14 17:41:01   \n",
              "\n",
              "                                        replyContent            repliedAt  \\\n",
              "0  According to our TOS, and the term you have ag...  2020-04-05 15:10:24   \n",
              "1  It sounds like you logged in with a different ...  2020-04-05 15:11:35   \n",
              "2  This sounds odd! We are not aware of any issue...  2020-04-02 16:05:56   \n",
              "3  We do offer this option as part of the Advance...  2020-03-15 06:20:13   \n",
              "4  We're sorry you feel this way! 90% of the app ...  2020-03-15 23:45:51   \n",
              "\n",
              "       sortOrder      appId  \n",
              "0  most_relevant  com.anydo  \n",
              "1  most_relevant  com.anydo  \n",
              "2  most_relevant  com.anydo  \n",
              "3  most_relevant  com.anydo  \n",
              "4  most_relevant  com.anydo  "
            ],
            "text/html": [
              "\n",
              "  <div id=\"df-01ac6f6c-9395-4885-bfcf-9a6ec609942f\" class=\"colab-df-container\">\n",
              "    <div>\n",
              "<style scoped>\n",
              "    .dataframe tbody tr th:only-of-type {\n",
              "        vertical-align: middle;\n",
              "    }\n",
              "\n",
              "    .dataframe tbody tr th {\n",
              "        vertical-align: top;\n",
              "    }\n",
              "\n",
              "    .dataframe thead th {\n",
              "        text-align: right;\n",
              "    }\n",
              "</style>\n",
              "<table border=\"1\" class=\"dataframe\">\n",
              "  <thead>\n",
              "    <tr style=\"text-align: right;\">\n",
              "      <th></th>\n",
              "      <th>userName</th>\n",
              "      <th>userImage</th>\n",
              "      <th>content</th>\n",
              "      <th>score</th>\n",
              "      <th>thumbsUpCount</th>\n",
              "      <th>reviewCreatedVersion</th>\n",
              "      <th>at</th>\n",
              "      <th>replyContent</th>\n",
              "      <th>repliedAt</th>\n",
              "      <th>sortOrder</th>\n",
              "      <th>appId</th>\n",
              "    </tr>\n",
              "  </thead>\n",
              "  <tbody>\n",
              "    <tr>\n",
              "      <th>0</th>\n",
              "      <td>Andrew Thomas</td>\n",
              "      <td>https://lh3.googleusercontent.com/a-/AOh14GiHd...</td>\n",
              "      <td>Update: After getting a response from the deve...</td>\n",
              "      <td>1</td>\n",
              "      <td>21</td>\n",
              "      <td>4.17.0.3</td>\n",
              "      <td>2020-04-05 22:25:57</td>\n",
              "      <td>According to our TOS, and the term you have ag...</td>\n",
              "      <td>2020-04-05 15:10:24</td>\n",
              "      <td>most_relevant</td>\n",
              "      <td>com.anydo</td>\n",
              "    </tr>\n",
              "    <tr>\n",
              "      <th>1</th>\n",
              "      <td>Craig Haines</td>\n",
              "      <td>https://lh3.googleusercontent.com/-hoe0kwSJgPQ...</td>\n",
              "      <td>Used it for a fair amount of time without any ...</td>\n",
              "      <td>1</td>\n",
              "      <td>11</td>\n",
              "      <td>4.17.0.3</td>\n",
              "      <td>2020-04-04 13:40:01</td>\n",
              "      <td>It sounds like you logged in with a different ...</td>\n",
              "      <td>2020-04-05 15:11:35</td>\n",
              "      <td>most_relevant</td>\n",
              "      <td>com.anydo</td>\n",
              "    </tr>\n",
              "    <tr>\n",
              "      <th>2</th>\n",
              "      <td>steven adkins</td>\n",
              "      <td>https://lh3.googleusercontent.com/a-/AOh14GiXw...</td>\n",
              "      <td>Your app sucks now!!!!! Used to be good but no...</td>\n",
              "      <td>1</td>\n",
              "      <td>17</td>\n",
              "      <td>4.17.0.3</td>\n",
              "      <td>2020-04-01 16:18:13</td>\n",
              "      <td>This sounds odd! We are not aware of any issue...</td>\n",
              "      <td>2020-04-02 16:05:56</td>\n",
              "      <td>most_relevant</td>\n",
              "      <td>com.anydo</td>\n",
              "    </tr>\n",
              "    <tr>\n",
              "      <th>3</th>\n",
              "      <td>Lars Panzerbjørn</td>\n",
              "      <td>https://lh3.googleusercontent.com/a-/AOh14Gg-h...</td>\n",
              "      <td>It seems OK, but very basic. Recurring tasks n...</td>\n",
              "      <td>1</td>\n",
              "      <td>192</td>\n",
              "      <td>4.17.0.2</td>\n",
              "      <td>2020-03-12 08:17:34</td>\n",
              "      <td>We do offer this option as part of the Advance...</td>\n",
              "      <td>2020-03-15 06:20:13</td>\n",
              "      <td>most_relevant</td>\n",
              "      <td>com.anydo</td>\n",
              "    </tr>\n",
              "    <tr>\n",
              "      <th>4</th>\n",
              "      <td>Scott Prewitt</td>\n",
              "      <td>https://lh3.googleusercontent.com/-K-X1-YsVd6U...</td>\n",
              "      <td>Absolutely worthless. This app runs a prohibit...</td>\n",
              "      <td>1</td>\n",
              "      <td>42</td>\n",
              "      <td>4.17.0.2</td>\n",
              "      <td>2020-03-14 17:41:01</td>\n",
              "      <td>We're sorry you feel this way! 90% of the app ...</td>\n",
              "      <td>2020-03-15 23:45:51</td>\n",
              "      <td>most_relevant</td>\n",
              "      <td>com.anydo</td>\n",
              "    </tr>\n",
              "  </tbody>\n",
              "</table>\n",
              "</div>\n",
              "    <div class=\"colab-df-buttons\">\n",
              "\n",
              "  <div class=\"colab-df-container\">\n",
              "    <button class=\"colab-df-convert\" onclick=\"convertToInteractive('df-01ac6f6c-9395-4885-bfcf-9a6ec609942f')\"\n",
              "            title=\"Convert this dataframe to an interactive table.\"\n",
              "            style=\"display:none;\">\n",
              "\n",
              "  <svg xmlns=\"http://www.w3.org/2000/svg\" height=\"24px\" viewBox=\"0 -960 960 960\">\n",
              "    <path d=\"M120-120v-720h720v720H120Zm60-500h600v-160H180v160Zm220 220h160v-160H400v160Zm0 220h160v-160H400v160ZM180-400h160v-160H180v160Zm440 0h160v-160H620v160ZM180-180h160v-160H180v160Zm440 0h160v-160H620v160Z\"/>\n",
              "  </svg>\n",
              "    </button>\n",
              "\n",
              "  <style>\n",
              "    .colab-df-container {\n",
              "      display:flex;\n",
              "      gap: 12px;\n",
              "    }\n",
              "\n",
              "    .colab-df-convert {\n",
              "      background-color: #E8F0FE;\n",
              "      border: none;\n",
              "      border-radius: 50%;\n",
              "      cursor: pointer;\n",
              "      display: none;\n",
              "      fill: #1967D2;\n",
              "      height: 32px;\n",
              "      padding: 0 0 0 0;\n",
              "      width: 32px;\n",
              "    }\n",
              "\n",
              "    .colab-df-convert:hover {\n",
              "      background-color: #E2EBFA;\n",
              "      box-shadow: 0px 1px 2px rgba(60, 64, 67, 0.3), 0px 1px 3px 1px rgba(60, 64, 67, 0.15);\n",
              "      fill: #174EA6;\n",
              "    }\n",
              "\n",
              "    .colab-df-buttons div {\n",
              "      margin-bottom: 4px;\n",
              "    }\n",
              "\n",
              "    [theme=dark] .colab-df-convert {\n",
              "      background-color: #3B4455;\n",
              "      fill: #D2E3FC;\n",
              "    }\n",
              "\n",
              "    [theme=dark] .colab-df-convert:hover {\n",
              "      background-color: #434B5C;\n",
              "      box-shadow: 0px 1px 3px 1px rgba(0, 0, 0, 0.15);\n",
              "      filter: drop-shadow(0px 1px 2px rgba(0, 0, 0, 0.3));\n",
              "      fill: #FFFFFF;\n",
              "    }\n",
              "  </style>\n",
              "\n",
              "    <script>\n",
              "      const buttonEl =\n",
              "        document.querySelector('#df-01ac6f6c-9395-4885-bfcf-9a6ec609942f button.colab-df-convert');\n",
              "      buttonEl.style.display =\n",
              "        google.colab.kernel.accessAllowed ? 'block' : 'none';\n",
              "\n",
              "      async function convertToInteractive(key) {\n",
              "        const element = document.querySelector('#df-01ac6f6c-9395-4885-bfcf-9a6ec609942f');\n",
              "        const dataTable =\n",
              "          await google.colab.kernel.invokeFunction('convertToInteractive',\n",
              "                                                    [key], {});\n",
              "        if (!dataTable) return;\n",
              "\n",
              "        const docLinkHtml = 'Like what you see? Visit the ' +\n",
              "          '<a target=\"_blank\" href=https://colab.research.google.com/notebooks/data_table.ipynb>data table notebook</a>'\n",
              "          + ' to learn more about interactive tables.';\n",
              "        element.innerHTML = '';\n",
              "        dataTable['output_type'] = 'display_data';\n",
              "        await google.colab.output.renderOutput(dataTable, element);\n",
              "        const docLink = document.createElement('div');\n",
              "        docLink.innerHTML = docLinkHtml;\n",
              "        element.appendChild(docLink);\n",
              "      }\n",
              "    </script>\n",
              "  </div>\n",
              "\n",
              "\n",
              "<div id=\"df-4a0c5d11-96a6-40af-9b22-af2b253dfc8d\">\n",
              "  <button class=\"colab-df-quickchart\" onclick=\"quickchart('df-4a0c5d11-96a6-40af-9b22-af2b253dfc8d')\"\n",
              "            title=\"Suggest charts\"\n",
              "            style=\"display:none;\">\n",
              "\n",
              "<svg xmlns=\"http://www.w3.org/2000/svg\" height=\"24px\"viewBox=\"0 0 24 24\"\n",
              "     width=\"24px\">\n",
              "    <g>\n",
              "        <path d=\"M19 3H5c-1.1 0-2 .9-2 2v14c0 1.1.9 2 2 2h14c1.1 0 2-.9 2-2V5c0-1.1-.9-2-2-2zM9 17H7v-7h2v7zm4 0h-2V7h2v10zm4 0h-2v-4h2v4z\"/>\n",
              "    </g>\n",
              "</svg>\n",
              "  </button>\n",
              "\n",
              "<style>\n",
              "  .colab-df-quickchart {\n",
              "      --bg-color: #E8F0FE;\n",
              "      --fill-color: #1967D2;\n",
              "      --hover-bg-color: #E2EBFA;\n",
              "      --hover-fill-color: #174EA6;\n",
              "      --disabled-fill-color: #AAA;\n",
              "      --disabled-bg-color: #DDD;\n",
              "  }\n",
              "\n",
              "  [theme=dark] .colab-df-quickchart {\n",
              "      --bg-color: #3B4455;\n",
              "      --fill-color: #D2E3FC;\n",
              "      --hover-bg-color: #434B5C;\n",
              "      --hover-fill-color: #FFFFFF;\n",
              "      --disabled-bg-color: #3B4455;\n",
              "      --disabled-fill-color: #666;\n",
              "  }\n",
              "\n",
              "  .colab-df-quickchart {\n",
              "    background-color: var(--bg-color);\n",
              "    border: none;\n",
              "    border-radius: 50%;\n",
              "    cursor: pointer;\n",
              "    display: none;\n",
              "    fill: var(--fill-color);\n",
              "    height: 32px;\n",
              "    padding: 0;\n",
              "    width: 32px;\n",
              "  }\n",
              "\n",
              "  .colab-df-quickchart:hover {\n",
              "    background-color: var(--hover-bg-color);\n",
              "    box-shadow: 0 1px 2px rgba(60, 64, 67, 0.3), 0 1px 3px 1px rgba(60, 64, 67, 0.15);\n",
              "    fill: var(--button-hover-fill-color);\n",
              "  }\n",
              "\n",
              "  .colab-df-quickchart-complete:disabled,\n",
              "  .colab-df-quickchart-complete:disabled:hover {\n",
              "    background-color: var(--disabled-bg-color);\n",
              "    fill: var(--disabled-fill-color);\n",
              "    box-shadow: none;\n",
              "  }\n",
              "\n",
              "  .colab-df-spinner {\n",
              "    border: 2px solid var(--fill-color);\n",
              "    border-color: transparent;\n",
              "    border-bottom-color: var(--fill-color);\n",
              "    animation:\n",
              "      spin 1s steps(1) infinite;\n",
              "  }\n",
              "\n",
              "  @keyframes spin {\n",
              "    0% {\n",
              "      border-color: transparent;\n",
              "      border-bottom-color: var(--fill-color);\n",
              "      border-left-color: var(--fill-color);\n",
              "    }\n",
              "    20% {\n",
              "      border-color: transparent;\n",
              "      border-left-color: var(--fill-color);\n",
              "      border-top-color: var(--fill-color);\n",
              "    }\n",
              "    30% {\n",
              "      border-color: transparent;\n",
              "      border-left-color: var(--fill-color);\n",
              "      border-top-color: var(--fill-color);\n",
              "      border-right-color: var(--fill-color);\n",
              "    }\n",
              "    40% {\n",
              "      border-color: transparent;\n",
              "      border-right-color: var(--fill-color);\n",
              "      border-top-color: var(--fill-color);\n",
              "    }\n",
              "    60% {\n",
              "      border-color: transparent;\n",
              "      border-right-color: var(--fill-color);\n",
              "    }\n",
              "    80% {\n",
              "      border-color: transparent;\n",
              "      border-right-color: var(--fill-color);\n",
              "      border-bottom-color: var(--fill-color);\n",
              "    }\n",
              "    90% {\n",
              "      border-color: transparent;\n",
              "      border-bottom-color: var(--fill-color);\n",
              "    }\n",
              "  }\n",
              "</style>\n",
              "\n",
              "  <script>\n",
              "    async function quickchart(key) {\n",
              "      const quickchartButtonEl =\n",
              "        document.querySelector('#' + key + ' button');\n",
              "      quickchartButtonEl.disabled = true;  // To prevent multiple clicks.\n",
              "      quickchartButtonEl.classList.add('colab-df-spinner');\n",
              "      try {\n",
              "        const charts = await google.colab.kernel.invokeFunction(\n",
              "            'suggestCharts', [key], {});\n",
              "      } catch (error) {\n",
              "        console.error('Error during call to suggestCharts:', error);\n",
              "      }\n",
              "      quickchartButtonEl.classList.remove('colab-df-spinner');\n",
              "      quickchartButtonEl.classList.add('colab-df-quickchart-complete');\n",
              "    }\n",
              "    (() => {\n",
              "      let quickchartButtonEl =\n",
              "        document.querySelector('#df-4a0c5d11-96a6-40af-9b22-af2b253dfc8d button');\n",
              "      quickchartButtonEl.style.display =\n",
              "        google.colab.kernel.accessAllowed ? 'block' : 'none';\n",
              "    })();\n",
              "  </script>\n",
              "</div>\n",
              "\n",
              "    </div>\n",
              "  </div>\n"
            ],
            "application/vnd.google.colaboratory.intrinsic+json": {
              "type": "dataframe",
              "variable_name": "df",
              "summary": "{\n  \"name\": \"df\",\n  \"rows\": 15746,\n  \"fields\": [\n    {\n      \"column\": \"userName\",\n      \"properties\": {\n        \"dtype\": \"string\",\n        \"num_unique_values\": 9948,\n        \"samples\": [\n          \"Sally Simpson\",\n          \"TG4 Life\",\n          \"Jaiprakash Sewram\"\n        ],\n        \"semantic_type\": \"\",\n        \"description\": \"\"\n      }\n    },\n    {\n      \"column\": \"userImage\",\n      \"properties\": {\n        \"dtype\": \"string\",\n        \"num_unique_values\": 9988,\n        \"samples\": [\n          \"https://lh3.googleusercontent.com/-uufSaOkqD9k/AAAAAAAAAAI/AAAAAAAAAAA/AAKWJJNC55krY6x0eaEWBt5r2Ofr-foXRw/photo.jpg\",\n          \"https://lh3.googleusercontent.com/-hq1-CDV27p8/AAAAAAAAAAI/AAAAAAAAAAA/AAKWJJPXmkq0B9qRjjroWDy341BKcHN1Hw/photo.jpg\",\n          \"https://lh3.googleusercontent.com/-E-FbMKufng4/AAAAAAAAAAI/AAAAAAAAyOg/AAKWJJMqsESU6kEKukV4vXYXbisyRI-dIQ/photo.jpg\"\n        ],\n        \"semantic_type\": \"\",\n        \"description\": \"\"\n      }\n    },\n    {\n      \"column\": \"content\",\n      \"properties\": {\n        \"dtype\": \"string\",\n        \"num_unique_values\": 10130,\n        \"samples\": [\n          \"Its a good app but it stopped working on my phone and i have already paid the amount what to do ?\",\n          \"Too many crashes over the past few months, especially in the widget\",\n          \"Update on Oct 29: The new update with sections and the new UX design is a real drop of usability in my case. My day to day work force me to constantly change priority, project and other properties and with the new version, the natural language as been removed when editing a task. I will strongly consider not renewing my subscription because todoist was my workhorse because of that natural language. Original review : It's my day to day to do application to drive all my tasks.\"\n        ],\n        \"semantic_type\": \"\",\n        \"description\": \"\"\n      }\n    },\n    {\n      \"column\": \"score\",\n      \"properties\": {\n        \"dtype\": \"number\",\n        \"std\": 1,\n        \"min\": 1,\n        \"max\": 5,\n        \"num_unique_values\": 5,\n        \"samples\": [\n          2,\n          5,\n          3\n        ],\n        \"semantic_type\": \"\",\n        \"description\": \"\"\n      }\n    },\n    {\n      \"column\": \"thumbsUpCount\",\n      \"properties\": {\n        \"dtype\": \"number\",\n        \"std\": 17,\n        \"min\": 0,\n        \"max\": 448,\n        \"num_unique_values\": 147,\n        \"samples\": [\n          48,\n          41,\n          242\n        ],\n        \"semantic_type\": \"\",\n        \"description\": \"\"\n      }\n    },\n    {\n      \"column\": \"reviewCreatedVersion\",\n      \"properties\": {\n        \"dtype\": \"category\",\n        \"num_unique_values\": 431,\n        \"samples\": [\n          \"3.2.2\",\n          \"14.2.3\",\n          \"4.5\"\n        ],\n        \"semantic_type\": \"\",\n        \"description\": \"\"\n      }\n    },\n    {\n      \"column\": \"at\",\n      \"properties\": {\n        \"dtype\": \"object\",\n        \"num_unique_values\": 10497,\n        \"samples\": [\n          \"2019-01-20 13:57:44\",\n          \"2020-03-29 13:21:53\",\n          \"2019-11-27 14:24:28\"\n        ],\n        \"semantic_type\": \"\",\n        \"description\": \"\"\n      }\n    },\n    {\n      \"column\": \"replyContent\",\n      \"properties\": {\n        \"dtype\": \"category\",\n        \"num_unique_values\": 3926,\n        \"samples\": [\n          \"Hi Jose, really glad you're finding my app useful. Tasks is a hobby project of mine with all features and support offered for free without advertising. It has taken hundred of hours to write, improve and support and simply relies on donations and my spare time to move forward. What would help make my app a 5 star app for you? Thanks, Steve\",\n          \"Hello, this is the new sub-tasks behavior with the Foundations release, sub-tasks will now be removed from the view instead of staying there like before. Apologies for any inconvenience. We would recommend using recurring sub-tasks for your use case. Please feel free to contact us with your feedback/comments at support@todoist.com Thank you!\",\n          \"Hi, the function is not supported yet, but we are working on it.\"\n        ],\n        \"semantic_type\": \"\",\n        \"description\": \"\"\n      }\n    },\n    {\n      \"column\": \"repliedAt\",\n      \"properties\": {\n        \"dtype\": \"object\",\n        \"num_unique_values\": 4581,\n        \"samples\": [\n          \"2018-12-30 16:27:54\",\n          \"2019-10-31 14:40:11\",\n          \"2020-03-19 11:16:01\"\n        ],\n        \"semantic_type\": \"\",\n        \"description\": \"\"\n      }\n    },\n    {\n      \"column\": \"sortOrder\",\n      \"properties\": {\n        \"dtype\": \"category\",\n        \"num_unique_values\": 2,\n        \"samples\": [\n          \"newest\",\n          \"most_relevant\"\n        ],\n        \"semantic_type\": \"\",\n        \"description\": \"\"\n      }\n    },\n    {\n      \"column\": \"appId\",\n      \"properties\": {\n        \"dtype\": \"category\",\n        \"num_unique_values\": 15,\n        \"samples\": [\n          \"prox.lab.calclock\",\n          \"com.artfulagenda.app\"\n        ],\n        \"semantic_type\": \"\",\n        \"description\": \"\"\n      }\n    }\n  ]\n}"
            }
          },
          "metadata": {},
          "execution_count": 8
        }
      ],
      "source": [
        "import pandas as pd\n",
        "# Armar el dataset\n",
        "df = pd.read_csv('reviews.csv')\n",
        "df.head()"
      ]
    },
    {
      "cell_type": "code",
      "execution_count": 9,
      "metadata": {
        "id": "loFa9OgIROfi",
        "colab": {
          "base_uri": "https://localhost:8080/"
        },
        "outputId": "664e1c27-77a2-4700-f115-bd4eb4ed6d32"
      },
      "outputs": [
        {
          "output_type": "stream",
          "name": "stdout",
          "text": [
            "Cantidad de críticas: 15746\n"
          ]
        }
      ],
      "source": [
        "print(\"Cantidad de críticas:\", len(df))"
      ]
    },
    {
      "cell_type": "code",
      "execution_count": 10,
      "metadata": {
        "id": "fpwgmwN4W549",
        "colab": {
          "base_uri": "https://localhost:8080/",
          "height": 0
        },
        "outputId": "fc42204b-b332-472c-d576-fb199f046113"
      },
      "outputs": [
        {
          "output_type": "execute_result",
          "data": {
            "text/plain": [
              "<Axes: xlabel='score', ylabel='count'>"
            ]
          },
          "metadata": {},
          "execution_count": 10
        },
        {
          "output_type": "display_data",
          "data": {
            "text/plain": [
              "<Figure size 640x480 with 1 Axes>"
            ],
            "image/png": "[encoded data removed]"
          },
          "metadata": {}
        }
      ],
      "source": [
        "import seaborn as sns\n",
        "# ¿Cómo están balanceados los datos?\n",
        "sns.countplot(x=df.score)"
      ]
    },
    {
      "cell_type": "markdown",
      "metadata": {
        "id": "BCO209z59D7C"
      },
      "source": [
        "## Limpieza de datos"
      ]
    },
    {
      "cell_type": "code",
      "execution_count": 11,
      "metadata": {
        "id": "dE572tLfXKCX"
      },
      "outputs": [],
      "source": [
        "# Balancear los datos\n",
        "#df['sentiment'] = df.score.apply(lambda x: 0 if x <=2 else 1 if x == 3 else 2)\n",
        "#class_names = ['negative', 'neutral', 'positive']"
      ]
    },
    {
      "cell_type": "code",
      "source": [
        "# Armo las clases para el caso de predecir las 5 posibilidades\n",
        "df['sentiment'] = df.score.apply(lambda x: 0 if x ==0 else 1 if x == 1 else 2 if x==2 else 3 if x==3 else 4 )\n",
        "class_names = ['negative','neutral negative','neutral','neutral positive', 'positive']"
      ],
      "metadata": {
        "id": "5ZeRbOKkTl-u"
      },
      "execution_count": 12,
      "outputs": []
    },
    {
      "cell_type": "code",
      "execution_count": 13,
      "metadata": {
        "colab": {
          "base_uri": "https://localhost:8080/",
          "height": 0
        },
        "id": "gpz0sNGnXahV",
        "outputId": "16fb8665-c5cf-4078-a185-05a7656887a9"
      },
      "outputs": [
        {
          "output_type": "stream",
          "name": "stderr",
          "text": [
            "<ipython-input-13-15c40b0fa175>:3: UserWarning: FixedFormatter should only be used together with FixedLocator\n",
            "  ax.set_xticklabels(class_names);\n"
          ]
        },
        {
          "output_type": "display_data",
          "data": {
            "text/plain": [
              "<Figure size 640x480 with 1 Axes>"
            ],
            "image/png": "[encoded data removed]"
          },
          "metadata": {}
        }
      ],
      "source": [
        "ax = sns.countplot(df.sentiment)\n",
        "plt.xlabel('review sentiment')\n",
        "ax.set_xticklabels(class_names);"
      ]
    },
    {
      "cell_type": "code",
      "execution_count": 14,
      "metadata": {
        "colab": {
          "base_uri": "https://localhost:8080/"
        },
        "id": "KaRGx3pW9fyx",
        "outputId": "3e955f48-61cb-4d25-eea0-22db955e49b7"
      },
      "outputs": [
        {
          "output_type": "stream",
          "name": "stdout",
          "text": [
            "sentences shape: (15746,)\n"
          ]
        },
        {
          "output_type": "execute_result",
          "data": {
            "text/plain": [
              "array([\"Update: After getting a response from the developer I would change my rating to 0 stars if possible. These guys hide behind confusing and opaque terms and refuse to budge at all. I'm so annoyed that my money has been lost to them! Really terrible customer experience. Original: Be very careful when signing up for a free trial of this app. If you happen to go over they automatically charge you for a full years subscription and refuse to refund. Terrible customer experience and the app is just OK.\",\n",
              "       'Used it for a fair amount of time without any problems. Suddenly then asked me to create an account or log using Google or FB. I used my Google one only to discover everything was gone!',\n",
              "       \"Your app sucks now!!!!! Used to be good but now doesn't update until I physically open it up and then close it then scroll and then it finally shows what I want to put on the list!!!!!! And I FRIGGEN paid for this garbage!!!!!!!\"],\n",
              "      dtype=object)"
            ]
          },
          "metadata": {},
          "execution_count": 14
        }
      ],
      "source": [
        "sentences = df['content'].values\n",
        "print(\"sentences shape:\", sentences.shape)\n",
        "sentences[:3]"
      ]
    },
    {
      "cell_type": "code",
      "execution_count": 15,
      "metadata": {
        "colab": {
          "base_uri": "https://localhost:8080/",
          "height": 0
        },
        "id": "PXdyAh6NYpSx",
        "outputId": "ca786d64-b4a0-4f74-9845-55e665628b46"
      },
      "outputs": [
        {
          "output_type": "stream",
          "name": "stdout",
          "text": [
            "Median: 139.0\n"
          ]
        },
        {
          "output_type": "execute_result",
          "data": {
            "text/plain": [
              "<seaborn.axisgrid.FacetGrid at 0x794a56dbdb70>"
            ]
          },
          "metadata": {},
          "execution_count": 15
        },
        {
          "output_type": "display_data",
          "data": {
            "text/plain": [
              "<Figure size 500x500 with 1 Axes>"
            ],
            "image/png": "[encoded data removed]"
          },
          "metadata": {}
        }
      ],
      "source": [
        "import numpy as np\n",
        "sentence_lens = []\n",
        "\n",
        "for sentence in sentences:\n",
        "  sentence_lens.append(len(sentence))\n",
        "\n",
        "print(\"Median:\", np.median(sentence_lens))\n",
        "sns.displot(sentence_lens)"
      ]
    },
    {
      "cell_type": "code",
      "execution_count": 16,
      "metadata": {
        "id": "cL65p1lpDqze"
      },
      "outputs": [],
      "source": [
        "from tensorflow.keras.utils import to_categorical"
      ]
    },
    {
      "cell_type": "code",
      "execution_count": 17,
      "metadata": {
        "colab": {
          "base_uri": "https://localhost:8080/"
        },
        "id": "c26zJ7qUAV4F",
        "outputId": "4dae36eb-3fa1-4b64-cd11-80f10fd6c3d9"
      },
      "outputs": [
        {
          "output_type": "stream",
          "name": "stdout",
          "text": [
            "y shape: (15746,)\n",
            "[[0. 1. 0. 0. 0.]\n",
            " [0. 1. 0. 0. 0.]\n",
            " [0. 1. 0. 0. 0.]]\n",
            "output shape: 5\n"
          ]
        }
      ],
      "source": [
        "y = df['sentiment'].values\n",
        "print(\"y shape:\", y.shape)\n",
        "y = to_categorical(y)\n",
        "print(y[:3])\n",
        "output_shape = y.shape[1]\n",
        "print(\"output shape:\", output_shape)"
      ]
    },
    {
      "cell_type": "markdown",
      "metadata": {
        "id": "qvoZ8YlK0vOQ"
      },
      "source": [
        "## 1 - Data generator\n"
      ]
    },
    {
      "cell_type": "code",
      "execution_count": 18,
      "metadata": {
        "id": "_nCBBzpUDqzf"
      },
      "outputs": [],
      "source": [
        "from transformers import InputExample, InputFeatures  # Métodos para transformar el dataset\n",
        "from transformers import BertTokenizer\n",
        "import numpy as np"
      ]
    },
    {
      "cell_type": "code",
      "execution_count": 19,
      "metadata": {
        "id": "n1mrtLZgDqzf"
      },
      "outputs": [],
      "source": [
        "# Muy importante que para tensorflow los modelos Bert deben empezar con \"TF\"\n",
        "# de lo contrario estaremos utilizando un modelo para pytorch\n",
        "\n",
        "# Descargamos el modelo base de BERT más liviano y su correspondiente tokenizer\n",
        "bert_tokenizer = BertTokenizer.from_pretrained(\"bert-base-uncased\")"
      ]
    },
    {
      "cell_type": "code",
      "execution_count": 20,
      "metadata": {
        "id": "rYnD8msegnSI"
      },
      "outputs": [],
      "source": [
        "# Del dataset original accederemos a los datos por índices (idx)\n",
        "# mezclados aleatoriamente\n",
        "from sklearn.model_selection import train_test_split\n",
        "max_length = 140 # BERT soporta máximo 512\n",
        "indices = np.arange(len(sentences))\n",
        "idx_train_val, idx_test = train_test_split(indices, test_size=0.2, random_state=42)\n",
        "idx_train, idx_val = train_test_split(idx_train_val, test_size=0.2, random_state=42)"
      ]
    },
    {
      "cell_type": "code",
      "execution_count": 21,
      "metadata": {
        "colab": {
          "base_uri": "https://localhost:8080/"
        },
        "id": "5Hm0jGD-j32e",
        "outputId": "d064618a-c913-4bf6-abe6-0cb990755863"
      },
      "outputs": [
        {
          "output_type": "stream",
          "name": "stdout",
          "text": [
            "10076 2520 3150\n"
          ]
        }
      ],
      "source": [
        "print(idx_train.shape[0], idx_val.shape[0], idx_test.shape[0])"
      ]
    },
    {
      "cell_type": "code",
      "execution_count": 22,
      "metadata": {
        "id": "MMfyhfKqfs6G"
      },
      "outputs": [],
      "source": [
        "\n",
        "def convert_data_to_examples(text, labels, idx_train, idx_val):\n",
        "    # Armamos un \"InputExample\" para los datos de entrenamiento y validación\n",
        "    train_InputExamples = [InputExample(guid=None, # Globally unique ID for bookkeeping, unused in this case\n",
        "                                                          text_a = text[i],\n",
        "                                                          text_b = None,\n",
        "                                                          label = labels[i]) for i in idx_train]\n",
        "\n",
        "    validation_InputExamples = [InputExample(guid=None, # Globally unique ID for bookkeeping, unused in this case\n",
        "                                                          text_a = text[i],\n",
        "                                                          text_b = None,\n",
        "                                                          label = labels[i]) for i in idx_val]\n",
        "\n",
        "    return train_InputExamples, validation_InputExamples\n",
        "\n",
        "\n",
        "def convert_examples_to_tf_dataset(examples, bert_tokenizer, max_length=512):\n",
        "    # Transformamos los datos de entrada en tensorres de:\n",
        "    # input_ids --> token id\n",
        "    # attention_mask\n",
        "    # token type\n",
        "    features = []\n",
        "\n",
        "    for e in examples:\n",
        "        # Documentation is really strong for this method, so please take a look at it\n",
        "        input_dict = bert_tokenizer.encode_plus(\n",
        "            e.text_a,\n",
        "            add_special_tokens=True,\n",
        "            max_length=max_length, # truncates if len(s) > max_length\n",
        "            return_token_type_ids=False,\n",
        "            return_attention_mask=True,\n",
        "            padding='max_length', # pads to the right by default # CHECK THIS for pad_to_max_length\n",
        "            truncation=True\n",
        "        )\n",
        "\n",
        "        input_ids, attention_mask = (input_dict[\"input_ids\"], input_dict['attention_mask'])\n",
        "\n",
        "        features.append(\n",
        "            InputFeatures(\n",
        "                input_ids=input_ids, attention_mask=attention_mask, label=e.label\n",
        "            )\n",
        "        )\n",
        "\n",
        "    def gen():\n",
        "    # Función generadora para no levantar todos los datos en un instante\n",
        "        for f in features:\n",
        "            yield (\n",
        "                {\n",
        "                    \"input_ids\": f.input_ids,\n",
        "                    \"attention_mask\": f.attention_mask,\n",
        "                },\n",
        "                f.label,\n",
        "            )\n",
        "\n",
        "    return tensorflow.data.Dataset.from_generator(\n",
        "        # Tensorflow dataset generator (basado en el generador y en el esquema de datos definido)\n",
        "        gen,\n",
        "        ({\"input_ids\": tensorflow.int32, \"attention_mask\": tensorflow.int32}, tensorflow.float32),\n",
        "        (\n",
        "            {\n",
        "                \"input_ids\": tensorflow.TensorShape([None]),\n",
        "                \"attention_mask\": tensorflow.TensorShape([None]),\n",
        "            },\n",
        "            tensorflow.TensorShape([output_shape]),\n",
        "        ),\n",
        "    )"
      ]
    },
    {
      "cell_type": "code",
      "execution_count": 23,
      "metadata": {
        "id": "VXrlV-xPiebq"
      },
      "outputs": [],
      "source": [
        "train_InputExamples, validation_InputExamples = convert_data_to_examples(sentences, y, idx_train, idx_val)\n",
        "\n",
        "train_data = convert_examples_to_tf_dataset(list(train_InputExamples), bert_tokenizer, max_length=max_length)\n",
        "# shuffle 100 --> mezcla los datos y los lee a de 100 unidades\n",
        "# batch 32 --> ejecuta una epoca de entrenamiento de a 32 unidades\n",
        "train_data = train_data.shuffle(100).batch(32)\n",
        "\n",
        "validation_data = convert_examples_to_tf_dataset(list(validation_InputExamples), bert_tokenizer, max_length=max_length)\n",
        "validation_data = validation_data.batch(32)"
      ]
    },
    {
      "cell_type": "code",
      "execution_count": 24,
      "metadata": {
        "id": "aQV1WrdKFJnF"
      },
      "outputs": [],
      "source": [
        "pred_sentences = [sentences[i] for i in idx_test]\n",
        "tf_batch = bert_tokenizer(pred_sentences, max_length=max_length, padding=True, truncation=True, return_tensors='tf')"
      ]
    },
    {
      "cell_type": "code",
      "execution_count": 25,
      "metadata": {
        "id": "ZUBLlpH0GAVE"
      },
      "outputs": [],
      "source": [
        "X_test = [tf_batch['input_ids'],\n",
        "          tf_batch['attention_mask']]"
      ]
    },
    {
      "cell_type": "code",
      "execution_count": 26,
      "metadata": {
        "id": "3E-z51xls0lH"
      },
      "outputs": [],
      "source": [
        "y_test = y[idx_test]"
      ]
    },
    {
      "cell_type": "markdown",
      "metadata": {
        "id": "kNinUuS6nqRJ"
      },
      "source": [
        "## 2 - BERT multiclass classification"
      ]
    },
    {
      "cell_type": "code",
      "execution_count": 26,
      "metadata": {
        "colab": {
          "base_uri": "https://localhost:8080/"
        },
        "id": "aQKTqv20j5kA",
        "outputId": "7bc9c6cb-9041-47e2-f634-a21c721d0d59"
      },
      "outputs": [
        {
          "output_type": "stream",
          "name": "stdout",
          "text": [
            "Epoch 1/5\n",
            "315/315 [==============================] - 151s 421ms/step - loss: 1.2928 - accuracy: 0.3996 - f1_score: 0.2018 - val_loss: 1.2247 - val_accuracy: 0.4706 - val_f1_score: 0.2725\n",
            "Epoch 2/5\n",
            "315/315 [==============================] - 127s 404ms/step - loss: 1.1991 - accuracy: 0.4556 - f1_score: 0.2416 - val_loss: 1.1472 - val_accuracy: 0.4734 - val_f1_score: 0.2813\n",
            "Epoch 3/5\n",
            "315/315 [==============================] - 127s 404ms/step - loss: 1.1502 - accuracy: 0.4804 - f1_score: 0.2707 - val_loss: 1.1112 - val_accuracy: 0.4952 - val_f1_score: 0.3034\n",
            "Epoch 4/5\n",
            "315/315 [==============================] - 127s 404ms/step - loss: 1.1261 - accuracy: 0.4892 - f1_score: 0.2844 - val_loss: 1.1026 - val_accuracy: 0.4897 - val_f1_score: 0.3032\n",
            "Epoch 5/5\n",
            "315/315 [==============================] - 127s 404ms/step - loss: 1.1112 - accuracy: 0.4977 - f1_score: 0.3015 - val_loss: 1.1182 - val_accuracy: 0.4817 - val_f1_score: 0.2750\n"
          ]
        }
      ],
      "source": [
        "history1 = model.fit(train_data, epochs=5, validation_data=validation_data)"
      ]
    },
    {
      "cell_type": "code",
      "execution_count": 27,
      "metadata": {
        "colab": {
          "base_uri": "https://localhost:8080/",
          "height": 430
        },
        "id": "qj2dAl-tnxY-",
        "outputId": "e57fa33a-529e-40f7-8ba9-6c650a402ec0"
      },
      "outputs": [
        {
          "output_type": "display_data",
          "data": {
            "text/plain": [
              "<Figure size 640x480 with 1 Axes>"
            ],
            "image/png": "[encoded data removed]"
          },
          "metadata": {}
        }
      ],
      "source": [
        "plot_train_metrics(history1)"
      ]
    },
    {
      "cell_type": "code",
      "execution_count": 28,
      "metadata": {
        "colab": {
          "base_uri": "https://localhost:8080/"
        },
        "id": "HILK90qzn-kL",
        "outputId": "c01f4328-a72f-4f77-e297-f9275a709717"
      },
      "outputs": [
        {
          "output_type": "stream",
          "name": "stdout",
          "text": [
            "99/99 [==============================] - 33s 302ms/step\n"
          ]
        },
        {
          "output_type": "execute_result",
          "data": {
            "text/plain": [
              "array([[2.6061077e-04, 2.2220971e-01, 2.0841010e-01, 3.6149183e-01,\n",
              "        2.0762780e-01],\n",
              "       [9.0331028e-05, 1.3398780e-01, 1.8794921e-01, 3.4528089e-01,\n",
              "        3.3269182e-01],\n",
              "       [6.3903215e-05, 3.8439877e-02, 8.6298399e-02, 3.1980857e-01,\n",
              "        5.5538934e-01]], dtype=float32)"
            ]
          },
          "metadata": {},
          "execution_count": 28
        }
      ],
      "source": [
        "y_hat_prob = model.predict(X_test)\n",
        "y_hat_prob[:3]"
      ]
    },
    {
      "cell_type": "code",
      "execution_count": 29,
      "metadata": {
        "id": "kwSvM4-koOdz"
      },
      "outputs": [],
      "source": [
        "y_hat = np.argmax(y_hat_prob, axis=1)"
      ]
    },
    {
      "cell_type": "code",
      "execution_count": 30,
      "metadata": {
        "colab": {
          "base_uri": "https://localhost:8080/"
        },
        "id": "tSNbyLNYwdqQ",
        "outputId": "4408f712-489b-4f97-b267-01cacd62226f"
      },
      "outputs": [
        {
          "output_type": "stream",
          "name": "stdout",
          "text": [
            "99/99 [==============================] - 34s 306ms/step - loss: 1.1060 - accuracy: 0.4908 - f1_score: 0.2709\n"
          ]
        },
        {
          "output_type": "execute_result",
          "data": {
            "text/plain": [
              "0.4907936453819275"
            ]
          },
          "metadata": {},
          "execution_count": 30
        }
      ],
      "source": [
        "# Calcular la exactitud (accuracy)\n",
        "scores = model.evaluate(X_test, y_test)\n",
        "scores[1]"
      ]
    },
    {
      "cell_type": "code",
      "execution_count": 31,
      "metadata": {
        "colab": {
          "base_uri": "https://localhost:8080/",
          "height": 752
        },
        "id": "mGzdpPfcwlRL",
        "outputId": "e6d84ebd-e5e2-4db2-f358-8bfb5a41fd4b"
      },
      "outputs": [
        {
          "output_type": "error",
          "ename": "ValueError",
          "evalue": "The number of FixedLocator locations (4), usually from a call to set_ticks, does not match the number of labels (10).",
          "traceback": [
            "\u001b[0;31m---------------------------------------------------------------------------\u001b[0m",
            "\u001b[0;31mValueError\u001b[0m                                Traceback (most recent call last)",
            "\u001b[0;32m<ipython-input-31-d9c079521569>\u001b[0m in \u001b[0;36m<cell line: 4>\u001b[0;34m()\u001b[0m\n\u001b[1;32m      2\u001b[0m \u001b[0mcm\u001b[0m \u001b[0;34m=\u001b[0m \u001b[0mconfusion_matrix\u001b[0m\u001b[0;34m(\u001b[0m\u001b[0my_test\u001b[0m\u001b[0;34m.\u001b[0m\u001b[0margmax\u001b[0m\u001b[0;34m(\u001b[0m\u001b[0maxis\u001b[0m\u001b[0;34m=\u001b[0m\u001b[0;36m1\u001b[0m\u001b[0;34m)\u001b[0m\u001b[0;34m,\u001b[0m \u001b[0my_hat\u001b[0m\u001b[0;34m)\u001b[0m\u001b[0;34m\u001b[0m\u001b[0;34m\u001b[0m\u001b[0m\n\u001b[1;32m      3\u001b[0m \u001b[0mcmd\u001b[0m \u001b[0;34m=\u001b[0m \u001b[0mConfusionMatrixDisplay\u001b[0m\u001b[0;34m(\u001b[0m\u001b[0mcm\u001b[0m\u001b[0;34m,\u001b[0m \u001b[0mdisplay_labels\u001b[0m\u001b[0;34m=\u001b[0m\u001b[0mlist\u001b[0m\u001b[0;34m(\u001b[0m\u001b[0mrange\u001b[0m\u001b[0;34m(\u001b[0m\u001b[0;36m10\u001b[0m\u001b[0;34m)\u001b[0m\u001b[0;34m)\u001b[0m\u001b[0;34m)\u001b[0m\u001b[0;34m\u001b[0m\u001b[0;34m\u001b[0m\u001b[0m\n\u001b[0;32m----> 4\u001b[0;31m \u001b[0mcmd\u001b[0m\u001b[0;34m.\u001b[0m\u001b[0mplot\u001b[0m\u001b[0;34m(\u001b[0m\u001b[0mcmap\u001b[0m\u001b[0;34m=\u001b[0m\u001b[0mplt\u001b[0m\u001b[0;34m.\u001b[0m\u001b[0mcm\u001b[0m\u001b[0;34m.\u001b[0m\u001b[0mBlues\u001b[0m\u001b[0;34m)\u001b[0m\u001b[0;34m\u001b[0m\u001b[0;34m\u001b[0m\u001b[0m\n\u001b[0m\u001b[1;32m      5\u001b[0m \u001b[0mplt\u001b[0m\u001b[0;34m.\u001b[0m\u001b[0mshow\u001b[0m\u001b[0;34m(\u001b[0m\u001b[0;34m)\u001b[0m\u001b[0;34m\u001b[0m\u001b[0;34m\u001b[0m\u001b[0m\n",
            "\u001b[0;32m/usr/local/lib/python3.10/dist-packages/sklearn/metrics/_plot/confusion_matrix.py\u001b[0m in \u001b[0;36mplot\u001b[0;34m(self, include_values, cmap, xticks_rotation, values_format, ax, colorbar, im_kw, text_kw)\u001b[0m\n\u001b[1;32m    179\u001b[0m         \u001b[0;32mif\u001b[0m \u001b[0mcolorbar\u001b[0m\u001b[0;34m:\u001b[0m\u001b[0;34m\u001b[0m\u001b[0;34m\u001b[0m\u001b[0m\n\u001b[1;32m    180\u001b[0m             \u001b[0mfig\u001b[0m\u001b[0;34m.\u001b[0m\u001b[0mcolorbar\u001b[0m\u001b[0;34m(\u001b[0m\u001b[0mself\u001b[0m\u001b[0;34m.\u001b[0m\u001b[0mim_\u001b[0m\u001b[0;34m,\u001b[0m \u001b[0max\u001b[0m\u001b[0;34m=\u001b[0m\u001b[0max\u001b[0m\u001b[0;34m)\u001b[0m\u001b[0;34m\u001b[0m\u001b[0;34m\u001b[0m\u001b[0m\n\u001b[0;32m--> 181\u001b[0;31m         ax.set(\n\u001b[0m\u001b[1;32m    182\u001b[0m             \u001b[0mxticks\u001b[0m\u001b[0;34m=\u001b[0m\u001b[0mnp\u001b[0m\u001b[0;34m.\u001b[0m\u001b[0marange\u001b[0m\u001b[0;34m(\u001b[0m\u001b[0mn_classes\u001b[0m\u001b[0;34m)\u001b[0m\u001b[0;34m,\u001b[0m\u001b[0;34m\u001b[0m\u001b[0;34m\u001b[0m\u001b[0m\n\u001b[1;32m    183\u001b[0m             \u001b[0myticks\u001b[0m\u001b[0;34m=\u001b[0m\u001b[0mnp\u001b[0m\u001b[0;34m.\u001b[0m\u001b[0marange\u001b[0m\u001b[0;34m(\u001b[0m\u001b[0mn_classes\u001b[0m\u001b[0;34m)\u001b[0m\u001b[0;34m,\u001b[0m\u001b[0;34m\u001b[0m\u001b[0;34m\u001b[0m\u001b[0m\n",
            "\u001b[0;32m/usr/local/lib/python3.10/dist-packages/matplotlib/artist.py\u001b[0m in \u001b[0;36m<lambda>\u001b[0;34m(self, **kwargs)\u001b[0m\n\u001b[1;32m    145\u001b[0m             \u001b[0;32mreturn\u001b[0m\u001b[0;34m\u001b[0m\u001b[0;34m\u001b[0m\u001b[0m\n\u001b[1;32m    146\u001b[0m \u001b[0;34m\u001b[0m\u001b[0m\n\u001b[0;32m--> 147\u001b[0;31m         \u001b[0mcls\u001b[0m\u001b[0;34m.\u001b[0m\u001b[0mset\u001b[0m \u001b[0;34m=\u001b[0m \u001b[0;32mlambda\u001b[0m \u001b[0mself\u001b[0m\u001b[0;34m,\u001b[0m \u001b[0;34m**\u001b[0m\u001b[0mkwargs\u001b[0m\u001b[0;34m:\u001b[0m \u001b[0mArtist\u001b[0m\u001b[0;34m.\u001b[0m\u001b[0mset\u001b[0m\u001b[0;34m(\u001b[0m\u001b[0mself\u001b[0m\u001b[0;34m,\u001b[0m \u001b[0;34m**\u001b[0m\u001b[0mkwargs\u001b[0m\u001b[0;34m)\u001b[0m\u001b[0;34m\u001b[0m\u001b[0;34m\u001b[0m\u001b[0m\n\u001b[0m\u001b[1;32m    148\u001b[0m         \u001b[0mcls\u001b[0m\u001b[0;34m.\u001b[0m\u001b[0mset\u001b[0m\u001b[0;34m.\u001b[0m\u001b[0m__name__\u001b[0m \u001b[0;34m=\u001b[0m \u001b[0;34m\"set\"\u001b[0m\u001b[0;34m\u001b[0m\u001b[0;34m\u001b[0m\u001b[0m\n\u001b[1;32m    149\u001b[0m         \u001b[0mcls\u001b[0m\u001b[0;34m.\u001b[0m\u001b[0mset\u001b[0m\u001b[0;34m.\u001b[0m\u001b[0m__qualname__\u001b[0m \u001b[0;34m=\u001b[0m \u001b[0;34mf\"{cls.__qualname__}.set\"\u001b[0m\u001b[0;34m\u001b[0m\u001b[0;34m\u001b[0m\u001b[0m\n",
            "\u001b[0;32m/usr/local/lib/python3.10/dist-packages/matplotlib/artist.py\u001b[0m in \u001b[0;36mset\u001b[0;34m(self, **kwargs)\u001b[0m\n\u001b[1;32m   1229\u001b[0m         \u001b[0;31m# Artist._update_set_signature_and_docstring() at the end of the\u001b[0m\u001b[0;34m\u001b[0m\u001b[0;34m\u001b[0m\u001b[0m\n\u001b[1;32m   1230\u001b[0m         \u001b[0;31m# module.\u001b[0m\u001b[0;34m\u001b[0m\u001b[0;34m\u001b[0m\u001b[0m\n\u001b[0;32m-> 1231\u001b[0;31m         \u001b[0;32mreturn\u001b[0m \u001b[0mself\u001b[0m\u001b[0;34m.\u001b[0m\u001b[0m_internal_update\u001b[0m\u001b[0;34m(\u001b[0m\u001b[0mcbook\u001b[0m\u001b[0;34m.\u001b[0m\u001b[0mnormalize_kwargs\u001b[0m\u001b[0;34m(\u001b[0m\u001b[0mkwargs\u001b[0m\u001b[0;34m,\u001b[0m \u001b[0mself\u001b[0m\u001b[0;34m)\u001b[0m\u001b[0;34m)\u001b[0m\u001b[0;34m\u001b[0m\u001b[0;34m\u001b[0m\u001b[0m\n\u001b[0m\u001b[1;32m   1232\u001b[0m \u001b[0;34m\u001b[0m\u001b[0m\n\u001b[1;32m   1233\u001b[0m     \u001b[0;34m@\u001b[0m\u001b[0mcontextlib\u001b[0m\u001b[0;34m.\u001b[0m\u001b[0mcontextmanager\u001b[0m\u001b[0;34m\u001b[0m\u001b[0;34m\u001b[0m\u001b[0m\n",
            "\u001b[0;32m/usr/local/lib/python3.10/dist-packages/matplotlib/artist.py\u001b[0m in \u001b[0;36m_internal_update\u001b[0;34m(self, kwargs)\u001b[0m\n\u001b[1;32m   1221\u001b[0m         \u001b[0mThe\u001b[0m \u001b[0mlack\u001b[0m \u001b[0mof\u001b[0m \u001b[0mprenormalization\u001b[0m \u001b[0;32mis\u001b[0m \u001b[0mto\u001b[0m \u001b[0mmaintain\u001b[0m \u001b[0mbackcompatibility\u001b[0m\u001b[0;34m.\u001b[0m\u001b[0;34m\u001b[0m\u001b[0;34m\u001b[0m\u001b[0m\n\u001b[1;32m   1222\u001b[0m         \"\"\"\n\u001b[0;32m-> 1223\u001b[0;31m         return self._update_props(\n\u001b[0m\u001b[1;32m   1224\u001b[0m             \u001b[0mkwargs\u001b[0m\u001b[0;34m,\u001b[0m \u001b[0;34m\"{cls.__name__}.set() got an unexpected keyword argument \"\u001b[0m\u001b[0;34m\u001b[0m\u001b[0;34m\u001b[0m\u001b[0m\n\u001b[1;32m   1225\u001b[0m             \"{prop_name!r}\")\n",
            "\u001b[0;32m/usr/local/lib/python3.10/dist-packages/matplotlib/artist.py\u001b[0m in \u001b[0;36m_update_props\u001b[0;34m(self, props, errfmt)\u001b[0m\n\u001b[1;32m   1197\u001b[0m                         raise AttributeError(\n\u001b[1;32m   1198\u001b[0m                             errfmt.format(cls=type(self), prop_name=k))\n\u001b[0;32m-> 1199\u001b[0;31m                     \u001b[0mret\u001b[0m\u001b[0;34m.\u001b[0m\u001b[0mappend\u001b[0m\u001b[0;34m(\u001b[0m\u001b[0mfunc\u001b[0m\u001b[0;34m(\u001b[0m\u001b[0mv\u001b[0m\u001b[0;34m)\u001b[0m\u001b[0;34m)\u001b[0m\u001b[0;34m\u001b[0m\u001b[0;34m\u001b[0m\u001b[0m\n\u001b[0m\u001b[1;32m   1200\u001b[0m         \u001b[0;32mif\u001b[0m \u001b[0mret\u001b[0m\u001b[0;34m:\u001b[0m\u001b[0;34m\u001b[0m\u001b[0;34m\u001b[0m\u001b[0m\n\u001b[1;32m   1201\u001b[0m             \u001b[0mself\u001b[0m\u001b[0;34m.\u001b[0m\u001b[0mpchanged\u001b[0m\u001b[0;34m(\u001b[0m\u001b[0;34m)\u001b[0m\u001b[0;34m\u001b[0m\u001b[0;34m\u001b[0m\u001b[0m\n",
            "\u001b[0;32m/usr/local/lib/python3.10/dist-packages/matplotlib/axes/_base.py\u001b[0m in \u001b[0;36mwrapper\u001b[0;34m(self, *args, **kwargs)\u001b[0m\n\u001b[1;32m     72\u001b[0m \u001b[0;34m\u001b[0m\u001b[0m\n\u001b[1;32m     73\u001b[0m         \u001b[0;32mdef\u001b[0m \u001b[0mwrapper\u001b[0m\u001b[0;34m(\u001b[0m\u001b[0mself\u001b[0m\u001b[0;34m,\u001b[0m \u001b[0;34m*\u001b[0m\u001b[0margs\u001b[0m\u001b[0;34m,\u001b[0m \u001b[0;34m**\u001b[0m\u001b[0mkwargs\u001b[0m\u001b[0;34m)\u001b[0m\u001b[0;34m:\u001b[0m\u001b[0;34m\u001b[0m\u001b[0;34m\u001b[0m\u001b[0m\n\u001b[0;32m---> 74\u001b[0;31m             \u001b[0;32mreturn\u001b[0m \u001b[0mget_method\u001b[0m\u001b[0;34m(\u001b[0m\u001b[0mself\u001b[0m\u001b[0;34m)\u001b[0m\u001b[0;34m(\u001b[0m\u001b[0;34m*\u001b[0m\u001b[0margs\u001b[0m\u001b[0;34m,\u001b[0m \u001b[0;34m**\u001b[0m\u001b[0mkwargs\u001b[0m\u001b[0;34m)\u001b[0m\u001b[0;34m\u001b[0m\u001b[0;34m\u001b[0m\u001b[0m\n\u001b[0m\u001b[1;32m     75\u001b[0m \u001b[0;34m\u001b[0m\u001b[0m\n\u001b[1;32m     76\u001b[0m         \u001b[0mwrapper\u001b[0m\u001b[0;34m.\u001b[0m\u001b[0m__module__\u001b[0m \u001b[0;34m=\u001b[0m \u001b[0mowner\u001b[0m\u001b[0;34m.\u001b[0m\u001b[0m__module__\u001b[0m\u001b[0;34m\u001b[0m\u001b[0;34m\u001b[0m\u001b[0m\n",
            "\u001b[0;32m/usr/local/lib/python3.10/dist-packages/matplotlib/_api/deprecation.py\u001b[0m in \u001b[0;36mwrapper\u001b[0;34m(*args, **kwargs)\u001b[0m\n\u001b[1;32m    295\u001b[0m                 f\"for the old name will be dropped %(removal)s.\")\n\u001b[1;32m    296\u001b[0m             \u001b[0mkwargs\u001b[0m\u001b[0;34m[\u001b[0m\u001b[0mnew\u001b[0m\u001b[0;34m]\u001b[0m \u001b[0;34m=\u001b[0m \u001b[0mkwargs\u001b[0m\u001b[0;34m.\u001b[0m\u001b[0mpop\u001b[0m\u001b[0;34m(\u001b[0m\u001b[0mold\u001b[0m\u001b[0;34m)\u001b[0m\u001b[0;34m\u001b[0m\u001b[0;34m\u001b[0m\u001b[0m\n\u001b[0;32m--> 297\u001b[0;31m         \u001b[0;32mreturn\u001b[0m \u001b[0mfunc\u001b[0m\u001b[0;34m(\u001b[0m\u001b[0;34m*\u001b[0m\u001b[0margs\u001b[0m\u001b[0;34m,\u001b[0m \u001b[0;34m**\u001b[0m\u001b[0mkwargs\u001b[0m\u001b[0;34m)\u001b[0m\u001b[0;34m\u001b[0m\u001b[0;34m\u001b[0m\u001b[0m\n\u001b[0m\u001b[1;32m    298\u001b[0m \u001b[0;34m\u001b[0m\u001b[0m\n\u001b[1;32m    299\u001b[0m     \u001b[0;31m# wrapper() must keep the same documented signature as func(): if we\u001b[0m\u001b[0;34m\u001b[0m\u001b[0;34m\u001b[0m\u001b[0m\n",
            "\u001b[0;32m/usr/local/lib/python3.10/dist-packages/matplotlib/axis.py\u001b[0m in \u001b[0;36mset_ticklabels\u001b[0;34m(self, labels, minor, fontdict, **kwargs)\u001b[0m\n\u001b[1;32m   1967\u001b[0m             \u001b[0;31m# remove all tick labels, so only error for > 0 labels\u001b[0m\u001b[0;34m\u001b[0m\u001b[0;34m\u001b[0m\u001b[0m\n\u001b[1;32m   1968\u001b[0m             \u001b[0;32mif\u001b[0m \u001b[0mlen\u001b[0m\u001b[0;34m(\u001b[0m\u001b[0mlocator\u001b[0m\u001b[0;34m.\u001b[0m\u001b[0mlocs\u001b[0m\u001b[0;34m)\u001b[0m \u001b[0;34m!=\u001b[0m \u001b[0mlen\u001b[0m\u001b[0;34m(\u001b[0m\u001b[0mlabels\u001b[0m\u001b[0;34m)\u001b[0m \u001b[0;32mand\u001b[0m \u001b[0mlen\u001b[0m\u001b[0;34m(\u001b[0m\u001b[0mlabels\u001b[0m\u001b[0;34m)\u001b[0m \u001b[0;34m!=\u001b[0m \u001b[0;36m0\u001b[0m\u001b[0;34m:\u001b[0m\u001b[0;34m\u001b[0m\u001b[0;34m\u001b[0m\u001b[0m\n\u001b[0;32m-> 1969\u001b[0;31m                 raise ValueError(\n\u001b[0m\u001b[1;32m   1970\u001b[0m                     \u001b[0;34m\"The number of FixedLocator locations\"\u001b[0m\u001b[0;34m\u001b[0m\u001b[0;34m\u001b[0m\u001b[0m\n\u001b[1;32m   1971\u001b[0m                     \u001b[0;34mf\" ({len(locator.locs)}), usually from a call to\"\u001b[0m\u001b[0;34m\u001b[0m\u001b[0;34m\u001b[0m\u001b[0m\n",
            "\u001b[0;31mValueError\u001b[0m: The number of FixedLocator locations (4), usually from a call to set_ticks, does not match the number of labels (10)."
          ]
        },
        {
          "output_type": "display_data",
          "data": {
            "text/plain": [
              "<Figure size 640x480 with 2 Axes>"
            ],
            "image/png": "[encoded data removed]"
          },
          "metadata": {}
        }
      ],
      "source": [
        "from sklearn.metrics import confusion_matrix, ConfusionMatrixDisplay\n",
        "cm = confusion_matrix(y_test.argmax(axis=1), y_hat)\n",
        "cmd = ConfusionMatrixDisplay(cm, display_labels=list(range(10)))\n",
        "cmd.plot(cmap=plt.cm.Blues)\n",
        "plt.show()"
      ]
    },
    {
      "cell_type": "markdown",
      "metadata": {
        "id": "0ugxcD9s9o8l"
      },
      "source": [
        "## 3 - BERT Fine tuning"
      ]
    },
    {
      "cell_type": "code",
      "execution_count": null,
      "metadata": {
        "id": "5SyRhGOAsTM5"
      },
      "outputs": [],
      "source": [
        "model2 = model\n",
        "\n",
        "# Colocar todas las layers como entrenables\n",
        "for layer in model2.layers:\n",
        "  layer.trainable = True\n",
        "\n",
        "# Como es fine tunning se recomiendo utiliza al menos un learning rate 100 veces\n",
        "# menor\n",
        "\n",
        "import tensorflow as tf\n",
        "\n",
        "model2.compile(optimizer=tf.optimizers.Adam(learning_rate=0.00001),\n",
        "               loss='categorical_crossentropy',\n",
        "               metrics=['accuracy'])\n",
        "model2.summary()"
      ]
    },
    {
      "cell_type": "code",
      "execution_count": null,
      "metadata": {
        "id": "-TDb4gKKtW1r"
      },
      "outputs": [],
      "source": [
        "history2 = model2.fit(train_data, epochs=5, validation_data=validation_data)"
      ]
    },
    {
      "cell_type": "code",
      "execution_count": null,
      "metadata": {
        "id": "vpwwEaxgyI34"
      },
      "outputs": [],
      "source": [
        "plot_train_metrics(history2)"
      ]
    },
    {
      "cell_type": "code",
      "execution_count": null,
      "metadata": {
        "id": "tNooXBNxyN04"
      },
      "outputs": [],
      "source": [
        "y_hat_prob2 = model2.predict(X_test)\n",
        "y_hat_prob2[:3]"
      ]
    },
    {
      "cell_type": "code",
      "execution_count": null,
      "metadata": {
        "id": "f43_zEHZyRV2"
      },
      "outputs": [],
      "source": [
        "y_hat2 = np.argmax(y_hat_prob2, axis=1)"
      ]
    },
    {
      "cell_type": "code",
      "execution_count": null,
      "metadata": {
        "id": "pN-fE34KyYlp"
      },
      "outputs": [],
      "source": [
        "# Calcular la exactitud (accuracy)\n",
        "scores = model2.evaluate(X_test, y_test)\n",
        "scores[1]"
      ]
    },
    {
      "cell_type": "code",
      "execution_count": null,
      "metadata": {
        "id": "drV-U5LOyZuB"
      },
      "outputs": [],
      "source": [
        "from sklearn.metrics import confusion_matrix, ConfusionMatrixDisplay\n",
        "cm = confusion_matrix(y_test.argmax(axis=1), y_hat2)\n",
        "cmd = ConfusionMatrixDisplay(cm, display_labels=list(range(10)))\n",
        "cmd.plot(cmap=plt.cm.Blues)\n",
        "plt.show()"
      ]
    },
    {
      "cell_type": "markdown",
      "metadata": {
        "id": "P9oKmUU7z1HN"
      },
      "source": [
        "## Salvar el modelo"
      ]
    },
    {
      "cell_type": "code",
      "execution_count": null,
      "metadata": {
        "id": "GdL89sAc0FaN"
      },
      "outputs": [],
      "source": [
        "model2.save_weights('bert_weights.h5')"
      ]
    },
    {
      "cell_type": "code",
      "execution_count": null,
      "metadata": {
        "colab": {
          "base_uri": "https://localhost:8080/",
          "height": 34
        },
        "id": "Lk4S4D-H188y",
        "outputId": "650a9890-9e00-43e2-d7e9-8dd734d60a9e"
      },
      "outputs": [
        {
          "output_type": "display_data",
          "data": {
            "text/plain": [
              "<IPython.core.display.Javascript object>"
            ],
            "application/javascript": [
              "\n",
              "    async function download(id, filename, size) {\n",
              "      if (!google.colab.kernel.accessAllowed) {\n",
              "        return;\n",
              "      }\n",
              "      const div = document.createElement('div');\n",
              "      const label = document.createElement('label');\n",
              "      label.textContent = `Downloading \"${filename}\": `;\n",
              "      div.appendChild(label);\n",
              "      const progress = document.createElement('progress');\n",
              "      progress.max = size;\n",
              "      div.appendChild(progress);\n",
              "      document.body.appendChild(div);\n",
              "\n",
              "      const buffers = [];\n",
              "      let downloaded = 0;\n",
              "\n",
              "      const channel = await google.colab.kernel.comms.open(id);\n",
              "      // Send a message to notify the kernel that we're ready.\n",
              "      channel.send({})\n",
              "\n",
              "      for await (const message of channel.messages) {\n",
              "        // Send a message to notify the kernel that we're ready.\n",
              "        channel.send({})\n",
              "        if (message.buffers) {\n",
              "          for (const buffer of message.buffers) {\n",
              "            buffers.push(buffer);\n",
              "            downloaded += buffer.byteLength;\n",
              "            progress.value = downloaded;\n",
              "          }\n",
              "        }\n",
              "      }\n",
              "      const blob = new Blob(buffers, {type: 'application/binary'});\n",
              "      const a = document.createElement('a');\n",
              "      a.href = window.URL.createObjectURL(blob);\n",
              "      a.download = filename;\n",
              "      div.appendChild(a);\n",
              "      a.click();\n",
              "      div.remove();\n",
              "    }\n",
              "  "
            ]
          },
          "metadata": {}
        },
        {
          "output_type": "display_data",
          "data": {
            "text/plain": [
              "<IPython.core.display.Javascript object>"
            ],
            "application/javascript": [
              "download(\"download_fdb1d15f-27a7-4740-b225-5cecaf79af2a\", \"bert_weights.h5\", 438212784)"
            ]
          },
          "metadata": {}
        }
      ],
      "source": [
        "# Descargar los pesos a nuestra PC\n",
        "# Solo es necesario si se desea repetir el uso de este modelo en el futuro\n",
        "from google.colab import files\n",
        "files.download('bert_weights.h5')"
      ]
    },
    {
      "cell_type": "markdown",
      "metadata": {
        "id": "JEweoQu6AXT1"
      },
      "source": [
        "## Levantar el modelo"
      ]
    },
    {
      "cell_type": "code",
      "execution_count": null,
      "metadata": {
        "colab": {
          "base_uri": "https://localhost:8080/"
        },
        "id": "qEyo5kAx-1yx",
        "outputId": "b20334ee-4d05-4c64-8d4a-1c60012a15e3"
      },
      "outputs": [
        {
          "output_type": "stream",
          "name": "stderr",
          "text": [
            "Some weights of the PyTorch model were not used when initializing the TF 2.0 model TFBertModel: ['cls.predictions.bias', 'cls.seq_relationship.weight', 'cls.predictions.transform.dense.weight', 'cls.predictions.transform.LayerNorm.weight', 'cls.predictions.transform.dense.bias', 'cls.seq_relationship.bias', 'cls.predictions.transform.LayerNorm.bias']\n",
            "- This IS expected if you are initializing TFBertModel from a PyTorch model trained on another task or with another architecture (e.g. initializing a TFBertForSequenceClassification model from a BertForPreTraining model).\n",
            "- This IS NOT expected if you are initializing TFBertModel from a PyTorch model that you expect to be exactly identical (e.g. initializing a TFBertForSequenceClassification model from a BertForSequenceClassification model).\n",
            "All the weights of TFBertModel were initialized from the PyTorch model.\n",
            "If your task is similar to the task the model of the checkpoint was trained on, you can already use TFBertModel for predictions without further training.\n"
          ]
        }
      ],
      "source": [
        "bert_model3 = TFBertModel.from_pretrained(\"bert-base-uncased\")\n",
        "\n",
        "input_ids = tensorflow.keras.layers.Input(shape=(max_length,), dtype=tensorflow.int32, name='input_ids')\n",
        "\n",
        "# attention_mask - is a binary mask which tells BERT which tokens to attend and which not to attend.\n",
        "# Encoder will add the 0 tokens to the some sequence which smaller than MAX_SEQUENCE_LENGTH,\n",
        "# and attention_mask, in this case, tells BERT where is the token from the original data and where is 0 pad token:\n",
        "attention_mask = tensorflow.keras.layers.Input((max_length,), dtype=tensorflow.int32, name='attention_mask')\n",
        "\n",
        "# Get the pooled_output (embedding que representa toda la entrada)\n",
        "output = bert_model3([input_ids, attention_mask])[1]\n",
        "\n",
        "# We can also add dropout as regularization technique:\n",
        "output = tensorflow.keras.layers.Dropout(rate=0.2)(output)\n",
        "\n",
        "# Se puede agregar más capas Densas en el medio si se desea\n",
        "\n",
        "# Provide number of classes to the final layer:\n",
        "output = tensorflow.keras.layers.Dense(output_shape, activation='softmax')(output)\n",
        "\n",
        "# Final model:\n",
        "model3 = tensorflow.keras.models.Model(inputs=[input_ids, attention_mask], outputs=output)"
      ]
    },
    {
      "cell_type": "code",
      "execution_count": null,
      "metadata": {
        "id": "RIoUIPR8-rwB"
      },
      "outputs": [],
      "source": [
        "model2.load_weights('bert_weights.h5')"
      ]
    },
    {
      "cell_type": "markdown",
      "metadata": {
        "id": "OYN9aJGYA-d2"
      },
      "source": [
        "## Ensayo"
      ]
    },
    {
      "cell_type": "code",
      "execution_count": null,
      "metadata": {
        "colab": {
          "base_uri": "https://localhost:8080/"
        },
        "id": "9ML7P5X8BAJe",
        "outputId": "4d22eabe-433c-427b-c2a6-ab641ffe27d9"
      },
      "outputs": [
        {
          "output_type": "stream",
          "name": "stdout",
          "text": [
            "Inputs ids: tf.Tensor(\n",
            "[[  101  1045  2293  2023 10439   999   102     0     0     0     0     0\n",
            "      0     0     0     0     0     0     0     0     0     0     0     0\n",
            "      0     0     0     0     0     0     0     0     0     0     0     0\n",
            "      0     0     0     0     0     0     0     0     0     0     0     0\n",
            "      0     0     0     0     0     0     0     0     0     0     0     0\n",
            "      0     0     0     0     0     0     0     0     0     0     0     0\n",
            "      0     0     0     0     0     0     0     0     0     0     0     0\n",
            "      0     0     0     0     0     0     0     0     0     0     0     0\n",
            "      0     0     0     0     0     0     0     0     0     0     0     0\n",
            "      0     0     0     0     0     0     0     0     0     0     0     0\n",
            "      0     0     0     0     0     0     0     0     0     0     0     0\n",
            "      0     0     0     0     0     0     0     0]], shape=(1, 140), dtype=int32)\n",
            "Attention mask: tf.Tensor(\n",
            "[[1 1 1 1 1 1 1 0 0 0 0 0 0 0 0 0 0 0 0 0 0 0 0 0 0 0 0 0 0 0 0 0 0 0 0 0\n",
            "  0 0 0 0 0 0 0 0 0 0 0 0 0 0 0 0 0 0 0 0 0 0 0 0 0 0 0 0 0 0 0 0 0 0 0 0\n",
            "  0 0 0 0 0 0 0 0 0 0 0 0 0 0 0 0 0 0 0 0 0 0 0 0 0 0 0 0 0 0 0 0 0 0 0 0\n",
            "  0 0 0 0 0 0 0 0 0 0 0 0 0 0 0 0 0 0 0 0 0 0 0 0 0 0 0 0 0 0 0 0]], shape=(1, 140), dtype=int32)\n"
          ]
        }
      ],
      "source": [
        "text = \"I love this app!\"\n",
        "\n",
        "#tf_batch = bert_tokenizer(text, max_length=max_length, padding=True, truncation=True, return_tensors='tf')\n",
        "\n",
        "tf_batch = bert_tokenizer.encode_plus(\n",
        "    text,\n",
        "    add_special_tokens=True,\n",
        "    max_length=max_length, # truncates if len(s) > max_length\n",
        "    return_token_type_ids=False,\n",
        "    return_attention_mask=True,\n",
        "    pad_to_max_length=True, # pads to the right by default # CHECK THIS for pad_to_max_length\n",
        "    truncation=True,\n",
        "    return_tensors='tf'\n",
        ")\n",
        "\n",
        "print(\"Inputs ids:\", tf_batch['input_ids'])\n",
        "print(\"Attention mask:\", tf_batch['attention_mask'])"
      ]
    },
    {
      "cell_type": "code",
      "execution_count": null,
      "metadata": {
        "id": "VVOTfMhHBURv"
      },
      "outputs": [],
      "source": [
        "X_ensayo = [tf_batch['input_ids'],\n",
        "          tf_batch['attention_mask']]"
      ]
    },
    {
      "cell_type": "code",
      "execution_count": null,
      "metadata": {
        "colab": {
          "base_uri": "https://localhost:8080/"
        },
        "id": "HWFX-xFcBDRV",
        "outputId": "1ebab065-cc71-4c7d-a6d0-d83825a0911a"
      },
      "outputs": [
        {
          "output_type": "stream",
          "name": "stdout",
          "text": [
            "1/1 [==============================] - 0s 161ms/step\n",
            "Clasificación: positive\n"
          ]
        },
        {
          "output_type": "stream",
          "name": "stderr",
          "text": [
            "<ipython-input-76-059de9f228ce>:3: DeprecationWarning: Conversion of an array with ndim > 0 to a scalar is deprecated, and will error in future. Ensure you extract a single element from your array before performing this operation. (Deprecated NumPy 1.25.)\n",
            "  print(\"Clasificación:\", class_names[int(y_prob)])\n"
          ]
        }
      ],
      "source": [
        "y_prob_ensayo = model2.predict(X_ensayo)\n",
        "y_prob = np.argmax(y_prob_ensayo, axis=1)\n",
        "print(\"Clasificación:\", class_names[int(y_prob)])"
      ]
    },
    {
      "cell_type": "markdown",
      "metadata": {
        "id": "IXu1W7-5LkPL"
      },
      "source": [
        "## Conclusiones"
      ]
    },
    {
      "cell_type": "markdown",
      "metadata": {
        "id": "3NuAxjtcPhoa"
      },
      "source": [
        "Se puede apreciar que luego de realizar el fine tuning el modelo se ajusta mucho mejor al problema. Existen diferentes formas de llevar a cabo este proceso, es importante que el learning rate sea mucho menor.\\\n",
        "Existen optimizadores pensados para fine tuning que realizan el ajuste de learning rate adaptativo a medida que se va entrenando capas más profundas del modelo."
      ]
    },
    {
      "cell_type": "markdown",
      "source": [
        "Entrenar un modelo de clasificación para el dataset propuesto (reviews de apps) utilizando BERT como encoder fijo (pesos freezados) y entrenando solamente la última parte de la red para clasificación. La elección de la arquitectura de la última parte queda a su criterio (pueden usar densas, recurrentes, convolucionales o lo que sea).\n",
        "Encaren el problema con la reducción de 3 clases y el problema original con 5 clases. Muestren los resultados de desempeño en cada caso.\n"
      ],
      "metadata": {
        "id": "3uf5jIHDZYZz"
      }
    },
    {
      "cell_type": "code",
      "source": [
        "#Agregar una capa LSTM o GRU antes de la capa densa final\n",
        "\n",
        "\n",
        "import tensorflow as tf\n",
        "import keras\n",
        "from transformers import TFBertModel\n",
        "\n",
        "max_length = 140  # Ajusta según sea necesario\n",
        "output_shape = 3  # Ajusta según la cantidad de clases\n",
        "\n",
        "# Cargar el modelo BERT preentrenado\n",
        "bert_model = TFBertModel.from_pretrained(\"bert-base-uncased\")\n",
        "bert_model.bert.trainable = False  # Congelar las capas de BERT\n",
        "\n",
        "# Definir las entradas\n",
        "input_ids = tf.keras.layers.Input(shape=(max_length,), dtype=tf.int32, name='input_ids')\n",
        "attention_mask = tf.keras.layers.Input(shape=(max_length,), dtype=tf.int32, name='attention_mask')\n",
        "\n",
        "# Pasar las entradas al modelo BERT por separado\n",
        "outputs = bert_model(input_ids=input_ids, attention_mask=attention_mask)\n",
        "\n",
        "# Obtener la salida 'pooler_output'\n",
        "pooled_output = outputs.pooler_output\n",
        "\n",
        "# Agregar una capa LSTM y una capa densa al final\n",
        "x = tf.keras.layers.LSTM(140, return_sequences=False)(tf.expand_dims(pooled_output, axis=1))\n",
        "x = tf.keras.layers.Dropout(0.2)(x)\n",
        "output = tf.keras.layers.Dense(output_shape, activation='softmax')(x)\n",
        "\n",
        "# Crear el modelo\n",
        "model = tf.keras.Model(inputs=[input_ids, attention_mask], outputs=output)\n",
        "\n",
        "# Compilar el modelo\n",
        "model.compile(optimizer='adam',\n",
        "              loss='categorical_crossentropy',\n",
        "              metrics=['accuracy', tf.keras.metrics.F1Score(average='macro')])\n",
        "\n",
        "\n"
      ],
      "metadata": {
        "id": "m-oQ6O12ZdMG",
        "outputId": "7c13a636-81e0-4e84-e3f0-9d8405a729a3",
        "colab": {
          "base_uri": "https://localhost:8080/"
        }
      },
      "execution_count": null,
      "outputs": [
        {
          "output_type": "stream",
          "name": "stderr",
          "text": [
            "Some weights of the PyTorch model were not used when initializing the TF 2.0 model TFBertModel: ['cls.seq_relationship.bias', 'cls.seq_relationship.weight', 'cls.predictions.bias', 'cls.predictions.transform.dense.bias', 'cls.predictions.transform.LayerNorm.bias', 'cls.predictions.transform.dense.weight', 'cls.predictions.transform.LayerNorm.weight']\n",
            "- This IS expected if you are initializing TFBertModel from a PyTorch model trained on another task or with another architecture (e.g. initializing a TFBertForSequenceClassification model from a BertForPreTraining model).\n",
            "- This IS NOT expected if you are initializing TFBertModel from a PyTorch model that you expect to be exactly identical (e.g. initializing a TFBertForSequenceClassification model from a BertForSequenceClassification model).\n",
            "All the weights of TFBertModel were initialized from the PyTorch model.\n",
            "If your task is similar to the task the model of the checkpoint was trained on, you can already use TFBertModel for predictions without further training.\n"
          ]
        }
      ]
    },
    {
      "cell_type": "code",
      "source": [
        "model.summary()"
      ],
      "metadata": {
        "colab": {
          "base_uri": "https://localhost:8080/"
        },
        "id": "JxQdQMLwnL8M",
        "outputId": "d0e8a8a5-8acc-4a82-bba5-7ec1c73fa44f"
      },
      "execution_count": null,
      "outputs": [
        {
          "output_type": "stream",
          "name": "stdout",
          "text": [
            "Model: \"model_1\"\n",
            "__________________________________________________________________________________________________\n",
            " Layer (type)                Output Shape                 Param #   Connected to                  \n",
            "==================================================================================================\n",
            " input_ids (InputLayer)      [(None, 140)]                0         []                            \n",
            "                                                                                                  \n",
            " attention_mask (InputLayer  [(None, 140)]                0         []                            \n",
            " )                                                                                                \n",
            "                                                                                                  \n",
            " tf_bert_model_1 (TFBertMod  TFBaseModelOutputWithPooli   1094822   ['input_ids[0][0]',           \n",
            " el)                         ngAndCrossAttentions(last_   40         'attention_mask[0][0]']      \n",
            "                             hidden_state=(None, 140, 7                                           \n",
            "                             68),                                                                 \n",
            "                              pooler_output=(None, 768)                                           \n",
            "                             , past_key_values=None, hi                                           \n",
            "                             dden_states=None, attentio                                           \n",
            "                             ns=None, cross_attentions=                                           \n",
            "                             None)                                                                \n",
            "                                                                                                  \n",
            " tf.expand_dims (TFOpLambda  (None, 1, 768)               0         ['tf_bert_model_1[0][1]']     \n",
            " )                                                                                                \n",
            "                                                                                                  \n",
            " lstm (LSTM)                 (None, 140)                  509040    ['tf.expand_dims[0][0]']      \n",
            "                                                                                                  \n",
            " dropout_75 (Dropout)        (None, 140)                  0         ['lstm[0][0]']                \n",
            "                                                                                                  \n",
            " dense_1 (Dense)             (None, 3)                    423       ['dropout_75[0][0]']          \n",
            "                                                                                                  \n",
            "==================================================================================================\n",
            "Total params: 109991703 (419.59 MB)\n",
            "Trainable params: 509463 (1.94 MB)\n",
            "Non-trainable params: 109482240 (417.64 MB)\n",
            "__________________________________________________________________________________________________\n"
          ]
        }
      ]
    },
    {
      "cell_type": "code",
      "source": [
        "history5 = model.fit(train_data, epochs=10, validation_data=validation_data)"
      ],
      "metadata": {
        "colab": {
          "base_uri": "https://localhost:8080/"
        },
        "id": "x_3Le-ByoCcq",
        "outputId": "160f1854-e848-4f8e-a1d2-da7b1d59e2aa"
      },
      "execution_count": null,
      "outputs": [
        {
          "output_type": "stream",
          "name": "stdout",
          "text": [
            "Epoch 1/10\n",
            "315/315 [==============================] - 161s 457ms/step - loss: 1.0627 - accuracy: 0.4250 - f1_score: 0.4084 - val_loss: 0.9945 - val_accuracy: 0.4996 - val_f1_score: 0.4239\n",
            "Epoch 2/10\n",
            "315/315 [==============================] - 122s 388ms/step - loss: 0.9674 - accuracy: 0.5097 - f1_score: 0.4876 - val_loss: 0.9134 - val_accuracy: 0.5484 - val_f1_score: 0.4730\n",
            "Epoch 3/10\n",
            "315/315 [==============================] - 124s 394ms/step - loss: 0.9260 - accuracy: 0.5500 - f1_score: 0.5288 - val_loss: 0.8912 - val_accuracy: 0.5563 - val_f1_score: 0.5006\n",
            "Epoch 4/10\n",
            "315/315 [==============================] - 125s 397ms/step - loss: 0.9044 - accuracy: 0.5609 - f1_score: 0.5413 - val_loss: 0.8640 - val_accuracy: 0.5817 - val_f1_score: 0.5538\n",
            "Epoch 5/10\n",
            "315/315 [==============================] - 125s 397ms/step - loss: 0.8974 - accuracy: 0.5636 - f1_score: 0.5469 - val_loss: 0.8604 - val_accuracy: 0.5659 - val_f1_score: 0.4966\n",
            "Epoch 6/10\n",
            "315/315 [==============================] - 130s 413ms/step - loss: 0.8892 - accuracy: 0.5668 - f1_score: 0.5511 - val_loss: 0.8910 - val_accuracy: 0.5675 - val_f1_score: 0.5138\n",
            "Epoch 7/10\n",
            "315/315 [==============================] - 142s 452ms/step - loss: 0.8745 - accuracy: 0.5758 - f1_score: 0.5603 - val_loss: 0.8500 - val_accuracy: 0.5921 - val_f1_score: 0.5560\n",
            "Epoch 8/10\n",
            "315/315 [==============================] - 123s 390ms/step - loss: 0.8818 - accuracy: 0.5770 - f1_score: 0.5629 - val_loss: 0.8495 - val_accuracy: 0.5825 - val_f1_score: 0.5371\n",
            "Epoch 9/10\n",
            "315/315 [==============================] - 124s 395ms/step - loss: 0.8662 - accuracy: 0.5846 - f1_score: 0.5715 - val_loss: 0.8360 - val_accuracy: 0.5905 - val_f1_score: 0.5460\n",
            "Epoch 10/10\n",
            "315/315 [==============================] - 125s 396ms/step - loss: 0.8669 - accuracy: 0.5814 - f1_score: 0.5674 - val_loss: 0.8350 - val_accuracy: 0.5917 - val_f1_score: 0.5455\n"
          ]
        }
      ]
    },
    {
      "cell_type": "code",
      "source": [
        "plot_train_metrics(history5)"
      ],
      "metadata": {
        "colab": {
          "base_uri": "https://localhost:8080/",
          "height": 434
        },
        "id": "zBq4iJWYu8NZ",
        "outputId": "defac387-da2a-4ba5-8001-2196ccbe5d1d"
      },
      "execution_count": null,
      "outputs": [
        {
          "output_type": "display_data",
          "data": {
            "text/plain": [
              "<Figure size 640x480 with 1 Axes>"
            ],
            "image/png": "[encoded data removed]"
          },
          "metadata": {}
        }
      ]
    },
    {
      "cell_type": "code",
      "source": [
        "y_hat_prob = model.predict(X_test)\n",
        "y_hat_prob[:3]"
      ],
      "metadata": {
        "colab": {
          "base_uri": "https://localhost:8080/"
        },
        "id": "cmakWLv_OSzO",
        "outputId": "8d9c6ec0-fba9-466d-aa50-d05de62550d9"
      },
      "execution_count": null,
      "outputs": [
        {
          "output_type": "stream",
          "name": "stdout",
          "text": [
            "99/99 [==============================] - 31s 283ms/step\n"
          ]
        },
        {
          "output_type": "execute_result",
          "data": {
            "text/plain": [
              "array([[0.5780048 , 0.32662946, 0.09536574],\n",
              "       [0.53061545, 0.29519594, 0.17418866],\n",
              "       [0.16201347, 0.36570024, 0.47228622]], dtype=float32)"
            ]
          },
          "metadata": {},
          "execution_count": 31
        }
      ]
    },
    {
      "cell_type": "code",
      "source": [
        "# Calcular la exactitud (accuracy)\n",
        "scores = model.evaluate(X_test, y_test)\n",
        "scores[1]"
      ],
      "metadata": {
        "colab": {
          "base_uri": "https://localhost:8080/"
        },
        "id": "VDn6MDKBObLc",
        "outputId": "8fd27c00-eada-4cfe-e6e4-e5dcd4d417bf"
      },
      "execution_count": null,
      "outputs": [
        {
          "output_type": "stream",
          "name": "stdout",
          "text": [
            "99/99 [==============================] - 32s 287ms/step - loss: 0.8432 - accuracy: 0.5975 - f1_score: 0.5540\n"
          ]
        },
        {
          "output_type": "execute_result",
          "data": {
            "text/plain": [
              "0.5974603295326233"
            ]
          },
          "metadata": {},
          "execution_count": 32
        }
      ]
    },
    {
      "cell_type": "markdown",
      "source": [
        "Se observa una ganancia en Accuracy con respecto al Modelo con solo una capa densa al final\n"
      ],
      "metadata": {
        "id": "7ILL2GnfMX3u"
      }
    },
    {
      "cell_type": "code",
      "source": [
        "import tensorflow as tf\n",
        "import keras\n",
        "from transformers import TFBertModel\n",
        "\n",
        "max_length = 140  # Ajusta según sea necesario\n",
        "output_shape = 5  # Ajusta según la cantidad de clases\n",
        "\n",
        "# Cargar el modelo BERT preentrenado\n",
        "bert_model = TFBertModel.from_pretrained(\"bert-base-uncased\")\n",
        "bert_model.bert.trainable = False  # Congelar las capas de BERT\n",
        "\n",
        "# Definir las entradas\n",
        "input_ids = tf.keras.layers.Input(shape=(max_length,), dtype=tf.int32, name='input_ids')\n",
        "attention_mask = tf.keras.layers.Input(shape=(max_length,), dtype=tf.int32, name='attention_mask')\n",
        "\n",
        "# Pasar las entradas al modelo BERT por separado\n",
        "outputs = bert_model(input_ids=input_ids, attention_mask=attention_mask)\n",
        "\n",
        "# Obtener la salida 'pooler_output'\n",
        "pooled_output = outputs.pooler_output\n",
        "\n",
        "# Agregar una capa LSTM y una capa densa al final\n",
        "x = tf.keras.layers.LSTM(140, return_sequences=False)(tf.expand_dims(pooled_output, axis=1))\n",
        "x = tf.keras.layers.Dropout(0.2)(x)\n",
        "output = tf.keras.layers.Dense(output_shape, activation='softmax')(x)\n",
        "\n",
        "# Crear el modelo\n",
        "model = tf.keras.Model(inputs=[input_ids, attention_mask], outputs=output)\n",
        "\n",
        "# Compilar el modelo\n",
        "model.compile(optimizer='adam',\n",
        "              loss='categorical_crossentropy',\n",
        "              metrics=['accuracy', tf.keras.metrics.F1Score(average='macro')])"
      ],
      "metadata": {
        "colab": {
          "base_uri": "https://localhost:8080/"
        },
        "id": "VT6L-tjUZfok",
        "outputId": "c5572624-a354-48de-b0f9-e2c4f9d2f8a9"
      },
      "execution_count": 3,
      "outputs": [
        {
          "output_type": "stream",
          "name": "stderr",
          "text": [
            "/usr/local/lib/python3.10/dist-packages/huggingface_hub/utils/_token.py:89: UserWarning: \n",
            "The secret `HF_TOKEN` does not exist in your Colab secrets.\n",
            "To authenticate with the Hugging Face Hub, create a token in your settings tab (https://huggingface.co/settings/tokens), set it as secret in your Google Colab and restart your session.\n",
            "You will be able to reuse this secret in all of your notebooks.\n",
            "Please note that authentication is recommended but still optional to access public models or datasets.\n",
            "  warnings.warn(\n",
            "Some weights of the PyTorch model were not used when initializing the TF 2.0 model TFBertModel: ['cls.predictions.bias', 'cls.predictions.transform.LayerNorm.weight', 'cls.predictions.transform.dense.bias', 'cls.seq_relationship.bias', 'cls.seq_relationship.weight', 'cls.predictions.transform.LayerNorm.bias', 'cls.predictions.transform.dense.weight']\n",
            "- This IS expected if you are initializing TFBertModel from a PyTorch model trained on another task or with another architecture (e.g. initializing a TFBertForSequenceClassification model from a BertForPreTraining model).\n",
            "- This IS NOT expected if you are initializing TFBertModel from a PyTorch model that you expect to be exactly identical (e.g. initializing a TFBertForSequenceClassification model from a BertForSequenceClassification model).\n",
            "All the weights of TFBertModel were initialized from the PyTorch model.\n",
            "If your task is similar to the task the model of the checkpoint was trained on, you can already use TFBertModel for predictions without further training.\n"
          ]
        }
      ]
    },
    {
      "cell_type": "code",
      "source": [
        "model.summary()"
      ],
      "metadata": {
        "colab": {
          "base_uri": "https://localhost:8080/"
        },
        "id": "1r3HTMdxb-XE",
        "outputId": "4d946cbc-57f0-433a-f5ce-1578ada6fc79"
      },
      "execution_count": 5,
      "outputs": [
        {
          "output_type": "stream",
          "name": "stdout",
          "text": [
            "Model: \"model\"\n",
            "__________________________________________________________________________________________________\n",
            " Layer (type)                Output Shape                 Param #   Connected to                  \n",
            "==================================================================================================\n",
            " input_ids (InputLayer)      [(None, 140)]                0         []                            \n",
            "                                                                                                  \n",
            " attention_mask (InputLayer  [(None, 140)]                0         []                            \n",
            " )                                                                                                \n",
            "                                                                                                  \n",
            " tf_bert_model (TFBertModel  TFBaseModelOutputWithPooli   1094822   ['input_ids[0][0]',           \n",
            " )                           ngAndCrossAttentions(last_   40         'attention_mask[0][0]']      \n",
            "                             hidden_state=(None, 140, 7                                           \n",
            "                             68),                                                                 \n",
            "                              pooler_output=(None, 768)                                           \n",
            "                             , past_key_values=None, hi                                           \n",
            "                             dden_states=None, attentio                                           \n",
            "                             ns=None, cross_attentions=                                           \n",
            "                             None)                                                                \n",
            "                                                                                                  \n",
            " tf.expand_dims (TFOpLambda  (None, 1, 768)               0         ['tf_bert_model[0][1]']       \n",
            " )                                                                                                \n",
            "                                                                                                  \n",
            " lstm (LSTM)                 (None, 140)                  509040    ['tf.expand_dims[0][0]']      \n",
            "                                                                                                  \n",
            " dropout_37 (Dropout)        (None, 140)                  0         ['lstm[0][0]']                \n",
            "                                                                                                  \n",
            " dense (Dense)               (None, 5)                    705       ['dropout_37[0][0]']          \n",
            "                                                                                                  \n",
            "==================================================================================================\n",
            "Total params: 109991985 (419.59 MB)\n",
            "Trainable params: 509745 (1.94 MB)\n",
            "Non-trainable params: 109482240 (417.64 MB)\n",
            "__________________________________________________________________________________________________\n"
          ]
        }
      ]
    },
    {
      "cell_type": "code",
      "source": [
        "history6 = model.fit(train_data, epochs=10, validation_data=validation_data)"
      ],
      "metadata": {
        "colab": {
          "base_uri": "https://localhost:8080/"
        },
        "id": "ZZzWXtjbcMOk",
        "outputId": "1a8389d8-4ac8-44d2-a07c-e18cf27be2a6"
      },
      "execution_count": 27,
      "outputs": [
        {
          "output_type": "stream",
          "name": "stdout",
          "text": [
            "Epoch 1/10\n",
            "315/315 [==============================] - 149s 420ms/step - loss: 1.2969 - accuracy: 0.3950 - f1_score: 0.2050 - val_loss: 1.2106 - val_accuracy: 0.4444 - val_f1_score: 0.2485\n",
            "Epoch 2/10\n",
            "315/315 [==============================] - 127s 404ms/step - loss: 1.1929 - accuracy: 0.4632 - f1_score: 0.2590 - val_loss: 1.1493 - val_accuracy: 0.4762 - val_f1_score: 0.2918\n",
            "Epoch 3/10\n",
            "315/315 [==============================] - 127s 403ms/step - loss: 1.1407 - accuracy: 0.4841 - f1_score: 0.2880 - val_loss: 1.1345 - val_accuracy: 0.4722 - val_f1_score: 0.3059\n",
            "Epoch 4/10\n",
            "315/315 [==============================] - 127s 404ms/step - loss: 1.1249 - accuracy: 0.4930 - f1_score: 0.2997 - val_loss: 1.0950 - val_accuracy: 0.4976 - val_f1_score: 0.3157\n",
            "Epoch 5/10\n",
            "315/315 [==============================] - 144s 459ms/step - loss: 1.1086 - accuracy: 0.5029 - f1_score: 0.3097 - val_loss: 1.0813 - val_accuracy: 0.5063 - val_f1_score: 0.3177\n",
            "Epoch 6/10\n",
            "315/315 [==============================] - 144s 458ms/step - loss: 1.0988 - accuracy: 0.5054 - f1_score: 0.3136 - val_loss: 1.0793 - val_accuracy: 0.5163 - val_f1_score: 0.3170\n",
            "Epoch 7/10\n",
            "315/315 [==============================] - 127s 404ms/step - loss: 1.0862 - accuracy: 0.5115 - f1_score: 0.3191 - val_loss: 1.0644 - val_accuracy: 0.5091 - val_f1_score: 0.3195\n",
            "Epoch 8/10\n",
            "315/315 [==============================] - 127s 404ms/step - loss: 1.0858 - accuracy: 0.5190 - f1_score: 0.3281 - val_loss: 1.0636 - val_accuracy: 0.5155 - val_f1_score: 0.3241\n",
            "Epoch 9/10\n",
            "315/315 [==============================] - 144s 458ms/step - loss: 1.0776 - accuracy: 0.5178 - f1_score: 0.3234 - val_loss: 1.0541 - val_accuracy: 0.5218 - val_f1_score: 0.3291\n",
            "Epoch 10/10\n",
            "315/315 [==============================] - 128s 406ms/step - loss: 1.0818 - accuracy: 0.5201 - f1_score: 0.3264 - val_loss: 1.1083 - val_accuracy: 0.5004 - val_f1_score: 0.3009\n"
          ]
        }
      ]
    },
    {
      "cell_type": "code",
      "source": [
        "plot_train_metrics(history6)"
      ],
      "metadata": {
        "colab": {
          "base_uri": "https://localhost:8080/",
          "height": 430
        },
        "id": "X3BKxpJwAzn7",
        "outputId": "7a6ed97e-cb5d-4208-edc0-5e7508f3d573"
      },
      "execution_count": 28,
      "outputs": [
        {
          "output_type": "display_data",
          "data": {
            "text/plain": [
              "<Figure size 640x480 with 1 Axes>"
            ],
            "image/png": "[encoded data removed]"
          },
          "metadata": {}
        }
      ]
    },
    {
      "cell_type": "markdown",
      "source": [
        "Se observa una perdida de accuracy usando 5 clases vs el forecast de 3 clases, e incluso en este caso ya se empieza a ver overfitting en el epoch 10\n"
      ],
      "metadata": {
        "id": "VuSZjklaA6UV"
      }
    },
    {
      "cell_type": "code",
      "source": [
        "text = \"I hate this app!\"\n",
        "text1= \"I love it\"\n",
        "#tf_batch = bert_tokenizer(text, max_length=max_length, padding=True, truncation=True, return_tensors='tf')\n",
        "\n",
        "tf_batch = bert_tokenizer.encode_plus(\n",
        "    text,\n",
        "    add_special_tokens=True,\n",
        "    max_length=max_length, # truncates if len(s) > max_length\n",
        "    return_token_type_ids=False,\n",
        "    return_attention_mask=True,\n",
        "    pad_to_max_length=True, # pads to the right by default # CHECK THIS for pad_to_max_length\n",
        "    truncation=True,\n",
        "    return_tensors='tf'\n",
        ")\n",
        "tf_batch1 = bert_tokenizer.encode_plus(\n",
        "    text1,\n",
        "    add_special_tokens=True,\n",
        "    max_length=max_length, # truncates if len(s) > max_length\n",
        "    return_token_type_ids=False,\n",
        "    return_attention_mask=True,\n",
        "    pad_to_max_length=True, # pads to the right by default # CHECK THIS for pad_to_max_length\n",
        "    truncation=True,\n",
        "    return_tensors='tf'\n",
        ")\n",
        "\n",
        "print(\"Inputs ids:\", tf_batch['input_ids'])\n",
        "print(\"Attention mask:\", tf_batch['attention_mask'])"
      ],
      "metadata": {
        "colab": {
          "base_uri": "https://localhost:8080/"
        },
        "id": "sVnq645vBEKp",
        "outputId": "fe91c941-8e78-4f8d-cb15-91e05ecaf929"
      },
      "execution_count": 45,
      "outputs": [
        {
          "output_type": "stream",
          "name": "stdout",
          "text": [
            "Inputs ids: tf.Tensor(\n",
            "[[  101  1045  5223  2023 10439   999   102     0     0     0     0     0\n",
            "      0     0     0     0     0     0     0     0     0     0     0     0\n",
            "      0     0     0     0     0     0     0     0     0     0     0     0\n",
            "      0     0     0     0     0     0     0     0     0     0     0     0\n",
            "      0     0     0     0     0     0     0     0     0     0     0     0\n",
            "      0     0     0     0     0     0     0     0     0     0     0     0\n",
            "      0     0     0     0     0     0     0     0     0     0     0     0\n",
            "      0     0     0     0     0     0     0     0     0     0     0     0\n",
            "      0     0     0     0     0     0     0     0     0     0     0     0\n",
            "      0     0     0     0     0     0     0     0     0     0     0     0\n",
            "      0     0     0     0     0     0     0     0     0     0     0     0\n",
            "      0     0     0     0     0     0     0     0]], shape=(1, 140), dtype=int32)\n",
            "Attention mask: tf.Tensor(\n",
            "[[1 1 1 1 1 1 1 0 0 0 0 0 0 0 0 0 0 0 0 0 0 0 0 0 0 0 0 0 0 0 0 0 0 0 0 0\n",
            "  0 0 0 0 0 0 0 0 0 0 0 0 0 0 0 0 0 0 0 0 0 0 0 0 0 0 0 0 0 0 0 0 0 0 0 0\n",
            "  0 0 0 0 0 0 0 0 0 0 0 0 0 0 0 0 0 0 0 0 0 0 0 0 0 0 0 0 0 0 0 0 0 0 0 0\n",
            "  0 0 0 0 0 0 0 0 0 0 0 0 0 0 0 0 0 0 0 0 0 0 0 0 0 0 0 0 0 0 0 0]], shape=(1, 140), dtype=int32)\n"
          ]
        }
      ]
    },
    {
      "cell_type": "code",
      "source": [
        "X_ensayo = [tf_batch['input_ids'],\n",
        "          tf_batch['attention_mask']]\n",
        "X_ensayo1 = [tf_batch1['input_ids'],\n",
        "          tf_batch1['attention_mask']]"
      ],
      "metadata": {
        "id": "tHGOBD6nBP45"
      },
      "execution_count": 46,
      "outputs": []
    },
    {
      "cell_type": "code",
      "source": [
        "y_prob_ensayo = model.predict(X_ensayo)\n",
        "y_prob = np.argmax(y_prob_ensayo, axis=1)\n",
        "print(\"Clasificación:\", class_names[int(y_prob)])"
      ],
      "metadata": {
        "colab": {
          "base_uri": "https://localhost:8080/"
        },
        "id": "QAArRrCTBUv3",
        "outputId": "0172ea57-44f6-4b78-f41c-18c9392ad817"
      },
      "execution_count": 47,
      "outputs": [
        {
          "output_type": "stream",
          "name": "stdout",
          "text": [
            "1/1 [==============================] - 0s 56ms/step\n",
            "Clasificación: neutral negative\n"
          ]
        },
        {
          "output_type": "stream",
          "name": "stderr",
          "text": [
            "<ipython-input-47-339cf21b1202>:3: DeprecationWarning: Conversion of an array with ndim > 0 to a scalar is deprecated, and will error in future. Ensure you extract a single element from your array before performing this operation. (Deprecated NumPy 1.25.)\n",
            "  print(\"Clasificación:\", class_names[int(y_prob)])\n"
          ]
        }
      ]
    },
    {
      "cell_type": "code",
      "source": [
        "y_prob_ensayo1 = model.predict(X_ensayo1)\n",
        "y_prob = np.argmax(y_prob_ensayo1, axis=1)\n",
        "print(\"Clasificación:\", class_names[int(y_prob)])"
      ],
      "metadata": {
        "colab": {
          "base_uri": "https://localhost:8080/"
        },
        "id": "dz_seWAlB1J1",
        "outputId": "4ecce386-7a51-4e9f-fdf4-b3f3cdc26c95"
      },
      "execution_count": 48,
      "outputs": [
        {
          "output_type": "stream",
          "name": "stdout",
          "text": [
            "1/1 [==============================] - 0s 57ms/step\n",
            "Clasificación: positive\n"
          ]
        },
        {
          "output_type": "stream",
          "name": "stderr",
          "text": [
            "<ipython-input-48-ef5028df2069>:3: DeprecationWarning: Conversion of an array with ndim > 0 to a scalar is deprecated, and will error in future. Ensure you extract a single element from your array before performing this operation. (Deprecated NumPy 1.25.)\n",
            "  print(\"Clasificación:\", class_names[int(y_prob)])\n"
          ]
        }
      ]
    }
  ],
  "metadata": {
    "accelerator": "GPU",
    "colab": {
      "provenance": [],
      "collapsed_sections": [
        "hU2-H3K1YzJ8",
        "BCO209z59D7C",
        "qvoZ8YlK0vOQ",
        "kNinUuS6nqRJ",
        "0ugxcD9s9o8l",
        "P9oKmUU7z1HN",
        "JEweoQu6AXT1"
      ]
    },
    "kernelspec": {
      "display_name": "Python 3 (ipykernel)",
      "language": "python",
      "name": "python3"
    },
    "language_info": {
      "codemirror_mode": {
        "name": "ipython",
        "version": 3
      },
      "file_extension": ".py",
      "mimetype": "text/x-python",
      "name": "python",
      "nbconvert_exporter": "python",
      "pygments_lexer": "ipython3",
      "version": "3.10.6"
    }
  },
  "nbformat": 4,
  "nbformat_minor": 0
}